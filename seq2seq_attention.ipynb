{
  "nbformat": 4,
  "nbformat_minor": 0,
  "metadata": {
    "colab": {
      "provenance": [],
      "gpuType": "T4",
      "include_colab_link": true
    },
    "kernelspec": {
      "name": "python3",
      "display_name": "Python 3"
    },
    "language_info": {
      "name": "python"
    },
    "widgets": {
      "application/vnd.jupyter.widget-state+json": {
        "6c53eed00bed458e8dd231b981bc2fb1": {
          "model_module": "@jupyter-widgets/controls",
          "model_name": "HBoxModel",
          "model_module_version": "1.5.0",
          "state": {
            "_dom_classes": [],
            "_model_module": "@jupyter-widgets/controls",
            "_model_module_version": "1.5.0",
            "_model_name": "HBoxModel",
            "_view_count": null,
            "_view_module": "@jupyter-widgets/controls",
            "_view_module_version": "1.5.0",
            "_view_name": "HBoxView",
            "box_style": "",
            "children": [
              "IPY_MODEL_50013948fa0a4052a6d5d8f7076e2f39",
              "IPY_MODEL_da32b4d5b3b04f2ea581304968e4dce2",
              "IPY_MODEL_c380fd1938d1412cb258facccb4b88d1"
            ],
            "layout": "IPY_MODEL_5c537275797a415a8d7369006405890c"
          }
        },
        "50013948fa0a4052a6d5d8f7076e2f39": {
          "model_module": "@jupyter-widgets/controls",
          "model_name": "HTMLModel",
          "model_module_version": "1.5.0",
          "state": {
            "_dom_classes": [],
            "_model_module": "@jupyter-widgets/controls",
            "_model_module_version": "1.5.0",
            "_model_name": "HTMLModel",
            "_view_count": null,
            "_view_module": "@jupyter-widgets/controls",
            "_view_module_version": "1.5.0",
            "_view_name": "HTMLView",
            "description": "",
            "description_tooltip": null,
            "layout": "IPY_MODEL_f72f11622e394dbab77521f3d74bbea6",
            "placeholder": "​",
            "style": "IPY_MODEL_b5c441770c6548e487225f5fc6172c4a",
            "value": "Downloading readme: 100%"
          }
        },
        "da32b4d5b3b04f2ea581304968e4dce2": {
          "model_module": "@jupyter-widgets/controls",
          "model_name": "FloatProgressModel",
          "model_module_version": "1.5.0",
          "state": {
            "_dom_classes": [],
            "_model_module": "@jupyter-widgets/controls",
            "_model_module_version": "1.5.0",
            "_model_name": "FloatProgressModel",
            "_view_count": null,
            "_view_module": "@jupyter-widgets/controls",
            "_view_module_version": "1.5.0",
            "_view_name": "ProgressView",
            "bar_style": "success",
            "description": "",
            "description_tooltip": null,
            "layout": "IPY_MODEL_93004fad20c14b6c8572081294383029",
            "max": 1149,
            "min": 0,
            "orientation": "horizontal",
            "style": "IPY_MODEL_628499c11f9c482685ca3e9438d1ffcb",
            "value": 1149
          }
        },
        "c380fd1938d1412cb258facccb4b88d1": {
          "model_module": "@jupyter-widgets/controls",
          "model_name": "HTMLModel",
          "model_module_version": "1.5.0",
          "state": {
            "_dom_classes": [],
            "_model_module": "@jupyter-widgets/controls",
            "_model_module_version": "1.5.0",
            "_model_name": "HTMLModel",
            "_view_count": null,
            "_view_module": "@jupyter-widgets/controls",
            "_view_module_version": "1.5.0",
            "_view_name": "HTMLView",
            "description": "",
            "description_tooltip": null,
            "layout": "IPY_MODEL_de45f0183b2b4abeb9e36b95003af3c0",
            "placeholder": "​",
            "style": "IPY_MODEL_df63c5948d7f4498bf908f202779586d",
            "value": " 1.15k/1.15k [00:00&lt;00:00, 46.1kB/s]"
          }
        },
        "5c537275797a415a8d7369006405890c": {
          "model_module": "@jupyter-widgets/base",
          "model_name": "LayoutModel",
          "model_module_version": "1.2.0",
          "state": {
            "_model_module": "@jupyter-widgets/base",
            "_model_module_version": "1.2.0",
            "_model_name": "LayoutModel",
            "_view_count": null,
            "_view_module": "@jupyter-widgets/base",
            "_view_module_version": "1.2.0",
            "_view_name": "LayoutView",
            "align_content": null,
            "align_items": null,
            "align_self": null,
            "border": null,
            "bottom": null,
            "display": null,
            "flex": null,
            "flex_flow": null,
            "grid_area": null,
            "grid_auto_columns": null,
            "grid_auto_flow": null,
            "grid_auto_rows": null,
            "grid_column": null,
            "grid_gap": null,
            "grid_row": null,
            "grid_template_areas": null,
            "grid_template_columns": null,
            "grid_template_rows": null,
            "height": null,
            "justify_content": null,
            "justify_items": null,
            "left": null,
            "margin": null,
            "max_height": null,
            "max_width": null,
            "min_height": null,
            "min_width": null,
            "object_fit": null,
            "object_position": null,
            "order": null,
            "overflow": null,
            "overflow_x": null,
            "overflow_y": null,
            "padding": null,
            "right": null,
            "top": null,
            "visibility": null,
            "width": null
          }
        },
        "f72f11622e394dbab77521f3d74bbea6": {
          "model_module": "@jupyter-widgets/base",
          "model_name": "LayoutModel",
          "model_module_version": "1.2.0",
          "state": {
            "_model_module": "@jupyter-widgets/base",
            "_model_module_version": "1.2.0",
            "_model_name": "LayoutModel",
            "_view_count": null,
            "_view_module": "@jupyter-widgets/base",
            "_view_module_version": "1.2.0",
            "_view_name": "LayoutView",
            "align_content": null,
            "align_items": null,
            "align_self": null,
            "border": null,
            "bottom": null,
            "display": null,
            "flex": null,
            "flex_flow": null,
            "grid_area": null,
            "grid_auto_columns": null,
            "grid_auto_flow": null,
            "grid_auto_rows": null,
            "grid_column": null,
            "grid_gap": null,
            "grid_row": null,
            "grid_template_areas": null,
            "grid_template_columns": null,
            "grid_template_rows": null,
            "height": null,
            "justify_content": null,
            "justify_items": null,
            "left": null,
            "margin": null,
            "max_height": null,
            "max_width": null,
            "min_height": null,
            "min_width": null,
            "object_fit": null,
            "object_position": null,
            "order": null,
            "overflow": null,
            "overflow_x": null,
            "overflow_y": null,
            "padding": null,
            "right": null,
            "top": null,
            "visibility": null,
            "width": null
          }
        },
        "b5c441770c6548e487225f5fc6172c4a": {
          "model_module": "@jupyter-widgets/controls",
          "model_name": "DescriptionStyleModel",
          "model_module_version": "1.5.0",
          "state": {
            "_model_module": "@jupyter-widgets/controls",
            "_model_module_version": "1.5.0",
            "_model_name": "DescriptionStyleModel",
            "_view_count": null,
            "_view_module": "@jupyter-widgets/base",
            "_view_module_version": "1.2.0",
            "_view_name": "StyleView",
            "description_width": ""
          }
        },
        "93004fad20c14b6c8572081294383029": {
          "model_module": "@jupyter-widgets/base",
          "model_name": "LayoutModel",
          "model_module_version": "1.2.0",
          "state": {
            "_model_module": "@jupyter-widgets/base",
            "_model_module_version": "1.2.0",
            "_model_name": "LayoutModel",
            "_view_count": null,
            "_view_module": "@jupyter-widgets/base",
            "_view_module_version": "1.2.0",
            "_view_name": "LayoutView",
            "align_content": null,
            "align_items": null,
            "align_self": null,
            "border": null,
            "bottom": null,
            "display": null,
            "flex": null,
            "flex_flow": null,
            "grid_area": null,
            "grid_auto_columns": null,
            "grid_auto_flow": null,
            "grid_auto_rows": null,
            "grid_column": null,
            "grid_gap": null,
            "grid_row": null,
            "grid_template_areas": null,
            "grid_template_columns": null,
            "grid_template_rows": null,
            "height": null,
            "justify_content": null,
            "justify_items": null,
            "left": null,
            "margin": null,
            "max_height": null,
            "max_width": null,
            "min_height": null,
            "min_width": null,
            "object_fit": null,
            "object_position": null,
            "order": null,
            "overflow": null,
            "overflow_x": null,
            "overflow_y": null,
            "padding": null,
            "right": null,
            "top": null,
            "visibility": null,
            "width": null
          }
        },
        "628499c11f9c482685ca3e9438d1ffcb": {
          "model_module": "@jupyter-widgets/controls",
          "model_name": "ProgressStyleModel",
          "model_module_version": "1.5.0",
          "state": {
            "_model_module": "@jupyter-widgets/controls",
            "_model_module_version": "1.5.0",
            "_model_name": "ProgressStyleModel",
            "_view_count": null,
            "_view_module": "@jupyter-widgets/base",
            "_view_module_version": "1.2.0",
            "_view_name": "StyleView",
            "bar_color": null,
            "description_width": ""
          }
        },
        "de45f0183b2b4abeb9e36b95003af3c0": {
          "model_module": "@jupyter-widgets/base",
          "model_name": "LayoutModel",
          "model_module_version": "1.2.0",
          "state": {
            "_model_module": "@jupyter-widgets/base",
            "_model_module_version": "1.2.0",
            "_model_name": "LayoutModel",
            "_view_count": null,
            "_view_module": "@jupyter-widgets/base",
            "_view_module_version": "1.2.0",
            "_view_name": "LayoutView",
            "align_content": null,
            "align_items": null,
            "align_self": null,
            "border": null,
            "bottom": null,
            "display": null,
            "flex": null,
            "flex_flow": null,
            "grid_area": null,
            "grid_auto_columns": null,
            "grid_auto_flow": null,
            "grid_auto_rows": null,
            "grid_column": null,
            "grid_gap": null,
            "grid_row": null,
            "grid_template_areas": null,
            "grid_template_columns": null,
            "grid_template_rows": null,
            "height": null,
            "justify_content": null,
            "justify_items": null,
            "left": null,
            "margin": null,
            "max_height": null,
            "max_width": null,
            "min_height": null,
            "min_width": null,
            "object_fit": null,
            "object_position": null,
            "order": null,
            "overflow": null,
            "overflow_x": null,
            "overflow_y": null,
            "padding": null,
            "right": null,
            "top": null,
            "visibility": null,
            "width": null
          }
        },
        "df63c5948d7f4498bf908f202779586d": {
          "model_module": "@jupyter-widgets/controls",
          "model_name": "DescriptionStyleModel",
          "model_module_version": "1.5.0",
          "state": {
            "_model_module": "@jupyter-widgets/controls",
            "_model_module_version": "1.5.0",
            "_model_name": "DescriptionStyleModel",
            "_view_count": null,
            "_view_module": "@jupyter-widgets/base",
            "_view_module_version": "1.2.0",
            "_view_name": "StyleView",
            "description_width": ""
          }
        },
        "21cef3e0785b4f749215947cdd9f22dd": {
          "model_module": "@jupyter-widgets/controls",
          "model_name": "HBoxModel",
          "model_module_version": "1.5.0",
          "state": {
            "_dom_classes": [],
            "_model_module": "@jupyter-widgets/controls",
            "_model_module_version": "1.5.0",
            "_model_name": "HBoxModel",
            "_view_count": null,
            "_view_module": "@jupyter-widgets/controls",
            "_view_module_version": "1.5.0",
            "_view_name": "HBoxView",
            "box_style": "",
            "children": [
              "IPY_MODEL_d8fe3cb1a45843af8ae3ef29fffbf549",
              "IPY_MODEL_ffeedd0610e64797913d73bd3ea48c82",
              "IPY_MODEL_5aef567c984e449daebed01ddc24e44d"
            ],
            "layout": "IPY_MODEL_8c7e1de1f19e4dda9dd1bfaf088c6578"
          }
        },
        "d8fe3cb1a45843af8ae3ef29fffbf549": {
          "model_module": "@jupyter-widgets/controls",
          "model_name": "HTMLModel",
          "model_module_version": "1.5.0",
          "state": {
            "_dom_classes": [],
            "_model_module": "@jupyter-widgets/controls",
            "_model_module_version": "1.5.0",
            "_model_name": "HTMLModel",
            "_view_count": null,
            "_view_module": "@jupyter-widgets/controls",
            "_view_module_version": "1.5.0",
            "_view_name": "HTMLView",
            "description": "",
            "description_tooltip": null,
            "layout": "IPY_MODEL_4e83b848f48549e980c1f2638e18662b",
            "placeholder": "​",
            "style": "IPY_MODEL_7b9aacc19a914e72ad08fe6b4b3fc907",
            "value": "Downloading data: 100%"
          }
        },
        "ffeedd0610e64797913d73bd3ea48c82": {
          "model_module": "@jupyter-widgets/controls",
          "model_name": "FloatProgressModel",
          "model_module_version": "1.5.0",
          "state": {
            "_dom_classes": [],
            "_model_module": "@jupyter-widgets/controls",
            "_model_module_version": "1.5.0",
            "_model_name": "FloatProgressModel",
            "_view_count": null,
            "_view_module": "@jupyter-widgets/controls",
            "_view_module_version": "1.5.0",
            "_view_name": "ProgressView",
            "bar_style": "success",
            "description": "",
            "description_tooltip": null,
            "layout": "IPY_MODEL_2f2605ec784a45cbb8d25efabfe1452d",
            "max": 4598515,
            "min": 0,
            "orientation": "horizontal",
            "style": "IPY_MODEL_556f6c1d87d040b294a0012ffb0a64f8",
            "value": 4598515
          }
        },
        "5aef567c984e449daebed01ddc24e44d": {
          "model_module": "@jupyter-widgets/controls",
          "model_name": "HTMLModel",
          "model_module_version": "1.5.0",
          "state": {
            "_dom_classes": [],
            "_model_module": "@jupyter-widgets/controls",
            "_model_module_version": "1.5.0",
            "_model_name": "HTMLModel",
            "_view_count": null,
            "_view_module": "@jupyter-widgets/controls",
            "_view_module_version": "1.5.0",
            "_view_name": "HTMLView",
            "description": "",
            "description_tooltip": null,
            "layout": "IPY_MODEL_83d0ecd1855e435684ff24d95c96133a",
            "placeholder": "​",
            "style": "IPY_MODEL_20635413604849ac8234cae218aecd07",
            "value": " 4.60M/4.60M [00:00&lt;00:00, 18.0MB/s]"
          }
        },
        "8c7e1de1f19e4dda9dd1bfaf088c6578": {
          "model_module": "@jupyter-widgets/base",
          "model_name": "LayoutModel",
          "model_module_version": "1.2.0",
          "state": {
            "_model_module": "@jupyter-widgets/base",
            "_model_module_version": "1.2.0",
            "_model_name": "LayoutModel",
            "_view_count": null,
            "_view_module": "@jupyter-widgets/base",
            "_view_module_version": "1.2.0",
            "_view_name": "LayoutView",
            "align_content": null,
            "align_items": null,
            "align_self": null,
            "border": null,
            "bottom": null,
            "display": null,
            "flex": null,
            "flex_flow": null,
            "grid_area": null,
            "grid_auto_columns": null,
            "grid_auto_flow": null,
            "grid_auto_rows": null,
            "grid_column": null,
            "grid_gap": null,
            "grid_row": null,
            "grid_template_areas": null,
            "grid_template_columns": null,
            "grid_template_rows": null,
            "height": null,
            "justify_content": null,
            "justify_items": null,
            "left": null,
            "margin": null,
            "max_height": null,
            "max_width": null,
            "min_height": null,
            "min_width": null,
            "object_fit": null,
            "object_position": null,
            "order": null,
            "overflow": null,
            "overflow_x": null,
            "overflow_y": null,
            "padding": null,
            "right": null,
            "top": null,
            "visibility": null,
            "width": null
          }
        },
        "4e83b848f48549e980c1f2638e18662b": {
          "model_module": "@jupyter-widgets/base",
          "model_name": "LayoutModel",
          "model_module_version": "1.2.0",
          "state": {
            "_model_module": "@jupyter-widgets/base",
            "_model_module_version": "1.2.0",
            "_model_name": "LayoutModel",
            "_view_count": null,
            "_view_module": "@jupyter-widgets/base",
            "_view_module_version": "1.2.0",
            "_view_name": "LayoutView",
            "align_content": null,
            "align_items": null,
            "align_self": null,
            "border": null,
            "bottom": null,
            "display": null,
            "flex": null,
            "flex_flow": null,
            "grid_area": null,
            "grid_auto_columns": null,
            "grid_auto_flow": null,
            "grid_auto_rows": null,
            "grid_column": null,
            "grid_gap": null,
            "grid_row": null,
            "grid_template_areas": null,
            "grid_template_columns": null,
            "grid_template_rows": null,
            "height": null,
            "justify_content": null,
            "justify_items": null,
            "left": null,
            "margin": null,
            "max_height": null,
            "max_width": null,
            "min_height": null,
            "min_width": null,
            "object_fit": null,
            "object_position": null,
            "order": null,
            "overflow": null,
            "overflow_x": null,
            "overflow_y": null,
            "padding": null,
            "right": null,
            "top": null,
            "visibility": null,
            "width": null
          }
        },
        "7b9aacc19a914e72ad08fe6b4b3fc907": {
          "model_module": "@jupyter-widgets/controls",
          "model_name": "DescriptionStyleModel",
          "model_module_version": "1.5.0",
          "state": {
            "_model_module": "@jupyter-widgets/controls",
            "_model_module_version": "1.5.0",
            "_model_name": "DescriptionStyleModel",
            "_view_count": null,
            "_view_module": "@jupyter-widgets/base",
            "_view_module_version": "1.2.0",
            "_view_name": "StyleView",
            "description_width": ""
          }
        },
        "2f2605ec784a45cbb8d25efabfe1452d": {
          "model_module": "@jupyter-widgets/base",
          "model_name": "LayoutModel",
          "model_module_version": "1.2.0",
          "state": {
            "_model_module": "@jupyter-widgets/base",
            "_model_module_version": "1.2.0",
            "_model_name": "LayoutModel",
            "_view_count": null,
            "_view_module": "@jupyter-widgets/base",
            "_view_module_version": "1.2.0",
            "_view_name": "LayoutView",
            "align_content": null,
            "align_items": null,
            "align_self": null,
            "border": null,
            "bottom": null,
            "display": null,
            "flex": null,
            "flex_flow": null,
            "grid_area": null,
            "grid_auto_columns": null,
            "grid_auto_flow": null,
            "grid_auto_rows": null,
            "grid_column": null,
            "grid_gap": null,
            "grid_row": null,
            "grid_template_areas": null,
            "grid_template_columns": null,
            "grid_template_rows": null,
            "height": null,
            "justify_content": null,
            "justify_items": null,
            "left": null,
            "margin": null,
            "max_height": null,
            "max_width": null,
            "min_height": null,
            "min_width": null,
            "object_fit": null,
            "object_position": null,
            "order": null,
            "overflow": null,
            "overflow_x": null,
            "overflow_y": null,
            "padding": null,
            "right": null,
            "top": null,
            "visibility": null,
            "width": null
          }
        },
        "556f6c1d87d040b294a0012ffb0a64f8": {
          "model_module": "@jupyter-widgets/controls",
          "model_name": "ProgressStyleModel",
          "model_module_version": "1.5.0",
          "state": {
            "_model_module": "@jupyter-widgets/controls",
            "_model_module_version": "1.5.0",
            "_model_name": "ProgressStyleModel",
            "_view_count": null,
            "_view_module": "@jupyter-widgets/base",
            "_view_module_version": "1.2.0",
            "_view_name": "StyleView",
            "bar_color": null,
            "description_width": ""
          }
        },
        "83d0ecd1855e435684ff24d95c96133a": {
          "model_module": "@jupyter-widgets/base",
          "model_name": "LayoutModel",
          "model_module_version": "1.2.0",
          "state": {
            "_model_module": "@jupyter-widgets/base",
            "_model_module_version": "1.2.0",
            "_model_name": "LayoutModel",
            "_view_count": null,
            "_view_module": "@jupyter-widgets/base",
            "_view_module_version": "1.2.0",
            "_view_name": "LayoutView",
            "align_content": null,
            "align_items": null,
            "align_self": null,
            "border": null,
            "bottom": null,
            "display": null,
            "flex": null,
            "flex_flow": null,
            "grid_area": null,
            "grid_auto_columns": null,
            "grid_auto_flow": null,
            "grid_auto_rows": null,
            "grid_column": null,
            "grid_gap": null,
            "grid_row": null,
            "grid_template_areas": null,
            "grid_template_columns": null,
            "grid_template_rows": null,
            "height": null,
            "justify_content": null,
            "justify_items": null,
            "left": null,
            "margin": null,
            "max_height": null,
            "max_width": null,
            "min_height": null,
            "min_width": null,
            "object_fit": null,
            "object_position": null,
            "order": null,
            "overflow": null,
            "overflow_x": null,
            "overflow_y": null,
            "padding": null,
            "right": null,
            "top": null,
            "visibility": null,
            "width": null
          }
        },
        "20635413604849ac8234cae218aecd07": {
          "model_module": "@jupyter-widgets/controls",
          "model_name": "DescriptionStyleModel",
          "model_module_version": "1.5.0",
          "state": {
            "_model_module": "@jupyter-widgets/controls",
            "_model_module_version": "1.5.0",
            "_model_name": "DescriptionStyleModel",
            "_view_count": null,
            "_view_module": "@jupyter-widgets/base",
            "_view_module_version": "1.2.0",
            "_view_name": "StyleView",
            "description_width": ""
          }
        },
        "5222a27f83b14bd08d8bf8e761633dd9": {
          "model_module": "@jupyter-widgets/controls",
          "model_name": "HBoxModel",
          "model_module_version": "1.5.0",
          "state": {
            "_dom_classes": [],
            "_model_module": "@jupyter-widgets/controls",
            "_model_module_version": "1.5.0",
            "_model_name": "HBoxModel",
            "_view_count": null,
            "_view_module": "@jupyter-widgets/controls",
            "_view_module_version": "1.5.0",
            "_view_name": "HBoxView",
            "box_style": "",
            "children": [
              "IPY_MODEL_73c8925485b04129a7d0b14b0fd6c533",
              "IPY_MODEL_5711a435c2f34b0ea5963ddf83bb8c9c",
              "IPY_MODEL_6b00248f6a6045e39ea5ce20b72b0422"
            ],
            "layout": "IPY_MODEL_70d6e375f53742d5aefb6fac241a700d"
          }
        },
        "73c8925485b04129a7d0b14b0fd6c533": {
          "model_module": "@jupyter-widgets/controls",
          "model_name": "HTMLModel",
          "model_module_version": "1.5.0",
          "state": {
            "_dom_classes": [],
            "_model_module": "@jupyter-widgets/controls",
            "_model_module_version": "1.5.0",
            "_model_name": "HTMLModel",
            "_view_count": null,
            "_view_module": "@jupyter-widgets/controls",
            "_view_module_version": "1.5.0",
            "_view_name": "HTMLView",
            "description": "",
            "description_tooltip": null,
            "layout": "IPY_MODEL_49881a5cabdf44f28adc1dd062de307d",
            "placeholder": "​",
            "style": "IPY_MODEL_87b7fbfa200a4bca88ff44ea8ca09468",
            "value": "Downloading data: 100%"
          }
        },
        "5711a435c2f34b0ea5963ddf83bb8c9c": {
          "model_module": "@jupyter-widgets/controls",
          "model_name": "FloatProgressModel",
          "model_module_version": "1.5.0",
          "state": {
            "_dom_classes": [],
            "_model_module": "@jupyter-widgets/controls",
            "_model_module_version": "1.5.0",
            "_model_name": "FloatProgressModel",
            "_view_count": null,
            "_view_module": "@jupyter-widgets/controls",
            "_view_module_version": "1.5.0",
            "_view_name": "ProgressView",
            "bar_style": "success",
            "description": "",
            "description_tooltip": null,
            "layout": "IPY_MODEL_bd7af9fa84894efc9d1ff5b9a02f06e0",
            "max": 163562,
            "min": 0,
            "orientation": "horizontal",
            "style": "IPY_MODEL_658ed1a20ddd44699dea2992fac80eda",
            "value": 163562
          }
        },
        "6b00248f6a6045e39ea5ce20b72b0422": {
          "model_module": "@jupyter-widgets/controls",
          "model_name": "HTMLModel",
          "model_module_version": "1.5.0",
          "state": {
            "_dom_classes": [],
            "_model_module": "@jupyter-widgets/controls",
            "_model_module_version": "1.5.0",
            "_model_name": "HTMLModel",
            "_view_count": null,
            "_view_module": "@jupyter-widgets/controls",
            "_view_module_version": "1.5.0",
            "_view_name": "HTMLView",
            "description": "",
            "description_tooltip": null,
            "layout": "IPY_MODEL_88466c46775143ba99827b929885ffbe",
            "placeholder": "​",
            "style": "IPY_MODEL_01b2b51235b34728a2ddccf42a2cefa4",
            "value": " 164k/164k [00:00&lt;00:00, 1.54MB/s]"
          }
        },
        "70d6e375f53742d5aefb6fac241a700d": {
          "model_module": "@jupyter-widgets/base",
          "model_name": "LayoutModel",
          "model_module_version": "1.2.0",
          "state": {
            "_model_module": "@jupyter-widgets/base",
            "_model_module_version": "1.2.0",
            "_model_name": "LayoutModel",
            "_view_count": null,
            "_view_module": "@jupyter-widgets/base",
            "_view_module_version": "1.2.0",
            "_view_name": "LayoutView",
            "align_content": null,
            "align_items": null,
            "align_self": null,
            "border": null,
            "bottom": null,
            "display": null,
            "flex": null,
            "flex_flow": null,
            "grid_area": null,
            "grid_auto_columns": null,
            "grid_auto_flow": null,
            "grid_auto_rows": null,
            "grid_column": null,
            "grid_gap": null,
            "grid_row": null,
            "grid_template_areas": null,
            "grid_template_columns": null,
            "grid_template_rows": null,
            "height": null,
            "justify_content": null,
            "justify_items": null,
            "left": null,
            "margin": null,
            "max_height": null,
            "max_width": null,
            "min_height": null,
            "min_width": null,
            "object_fit": null,
            "object_position": null,
            "order": null,
            "overflow": null,
            "overflow_x": null,
            "overflow_y": null,
            "padding": null,
            "right": null,
            "top": null,
            "visibility": null,
            "width": null
          }
        },
        "49881a5cabdf44f28adc1dd062de307d": {
          "model_module": "@jupyter-widgets/base",
          "model_name": "LayoutModel",
          "model_module_version": "1.2.0",
          "state": {
            "_model_module": "@jupyter-widgets/base",
            "_model_module_version": "1.2.0",
            "_model_name": "LayoutModel",
            "_view_count": null,
            "_view_module": "@jupyter-widgets/base",
            "_view_module_version": "1.2.0",
            "_view_name": "LayoutView",
            "align_content": null,
            "align_items": null,
            "align_self": null,
            "border": null,
            "bottom": null,
            "display": null,
            "flex": null,
            "flex_flow": null,
            "grid_area": null,
            "grid_auto_columns": null,
            "grid_auto_flow": null,
            "grid_auto_rows": null,
            "grid_column": null,
            "grid_gap": null,
            "grid_row": null,
            "grid_template_areas": null,
            "grid_template_columns": null,
            "grid_template_rows": null,
            "height": null,
            "justify_content": null,
            "justify_items": null,
            "left": null,
            "margin": null,
            "max_height": null,
            "max_width": null,
            "min_height": null,
            "min_width": null,
            "object_fit": null,
            "object_position": null,
            "order": null,
            "overflow": null,
            "overflow_x": null,
            "overflow_y": null,
            "padding": null,
            "right": null,
            "top": null,
            "visibility": null,
            "width": null
          }
        },
        "87b7fbfa200a4bca88ff44ea8ca09468": {
          "model_module": "@jupyter-widgets/controls",
          "model_name": "DescriptionStyleModel",
          "model_module_version": "1.5.0",
          "state": {
            "_model_module": "@jupyter-widgets/controls",
            "_model_module_version": "1.5.0",
            "_model_name": "DescriptionStyleModel",
            "_view_count": null,
            "_view_module": "@jupyter-widgets/base",
            "_view_module_version": "1.2.0",
            "_view_name": "StyleView",
            "description_width": ""
          }
        },
        "bd7af9fa84894efc9d1ff5b9a02f06e0": {
          "model_module": "@jupyter-widgets/base",
          "model_name": "LayoutModel",
          "model_module_version": "1.2.0",
          "state": {
            "_model_module": "@jupyter-widgets/base",
            "_model_module_version": "1.2.0",
            "_model_name": "LayoutModel",
            "_view_count": null,
            "_view_module": "@jupyter-widgets/base",
            "_view_module_version": "1.2.0",
            "_view_name": "LayoutView",
            "align_content": null,
            "align_items": null,
            "align_self": null,
            "border": null,
            "bottom": null,
            "display": null,
            "flex": null,
            "flex_flow": null,
            "grid_area": null,
            "grid_auto_columns": null,
            "grid_auto_flow": null,
            "grid_auto_rows": null,
            "grid_column": null,
            "grid_gap": null,
            "grid_row": null,
            "grid_template_areas": null,
            "grid_template_columns": null,
            "grid_template_rows": null,
            "height": null,
            "justify_content": null,
            "justify_items": null,
            "left": null,
            "margin": null,
            "max_height": null,
            "max_width": null,
            "min_height": null,
            "min_width": null,
            "object_fit": null,
            "object_position": null,
            "order": null,
            "overflow": null,
            "overflow_x": null,
            "overflow_y": null,
            "padding": null,
            "right": null,
            "top": null,
            "visibility": null,
            "width": null
          }
        },
        "658ed1a20ddd44699dea2992fac80eda": {
          "model_module": "@jupyter-widgets/controls",
          "model_name": "ProgressStyleModel",
          "model_module_version": "1.5.0",
          "state": {
            "_model_module": "@jupyter-widgets/controls",
            "_model_module_version": "1.5.0",
            "_model_name": "ProgressStyleModel",
            "_view_count": null,
            "_view_module": "@jupyter-widgets/base",
            "_view_module_version": "1.2.0",
            "_view_name": "StyleView",
            "bar_color": null,
            "description_width": ""
          }
        },
        "88466c46775143ba99827b929885ffbe": {
          "model_module": "@jupyter-widgets/base",
          "model_name": "LayoutModel",
          "model_module_version": "1.2.0",
          "state": {
            "_model_module": "@jupyter-widgets/base",
            "_model_module_version": "1.2.0",
            "_model_name": "LayoutModel",
            "_view_count": null,
            "_view_module": "@jupyter-widgets/base",
            "_view_module_version": "1.2.0",
            "_view_name": "LayoutView",
            "align_content": null,
            "align_items": null,
            "align_self": null,
            "border": null,
            "bottom": null,
            "display": null,
            "flex": null,
            "flex_flow": null,
            "grid_area": null,
            "grid_auto_columns": null,
            "grid_auto_flow": null,
            "grid_auto_rows": null,
            "grid_column": null,
            "grid_gap": null,
            "grid_row": null,
            "grid_template_areas": null,
            "grid_template_columns": null,
            "grid_template_rows": null,
            "height": null,
            "justify_content": null,
            "justify_items": null,
            "left": null,
            "margin": null,
            "max_height": null,
            "max_width": null,
            "min_height": null,
            "min_width": null,
            "object_fit": null,
            "object_position": null,
            "order": null,
            "overflow": null,
            "overflow_x": null,
            "overflow_y": null,
            "padding": null,
            "right": null,
            "top": null,
            "visibility": null,
            "width": null
          }
        },
        "01b2b51235b34728a2ddccf42a2cefa4": {
          "model_module": "@jupyter-widgets/controls",
          "model_name": "DescriptionStyleModel",
          "model_module_version": "1.5.0",
          "state": {
            "_model_module": "@jupyter-widgets/controls",
            "_model_module_version": "1.5.0",
            "_model_name": "DescriptionStyleModel",
            "_view_count": null,
            "_view_module": "@jupyter-widgets/base",
            "_view_module_version": "1.2.0",
            "_view_name": "StyleView",
            "description_width": ""
          }
        },
        "3af1ac2b4de643d9bc3fec5a487b9921": {
          "model_module": "@jupyter-widgets/controls",
          "model_name": "HBoxModel",
          "model_module_version": "1.5.0",
          "state": {
            "_dom_classes": [],
            "_model_module": "@jupyter-widgets/controls",
            "_model_module_version": "1.5.0",
            "_model_name": "HBoxModel",
            "_view_count": null,
            "_view_module": "@jupyter-widgets/controls",
            "_view_module_version": "1.5.0",
            "_view_name": "HBoxView",
            "box_style": "",
            "children": [
              "IPY_MODEL_ca5ca3872cf44b978a2db3260aecb1ef",
              "IPY_MODEL_5ad701c48bab4935be2a69c93d3da2ab",
              "IPY_MODEL_f1dc84de027141b3a66119606b19af76"
            ],
            "layout": "IPY_MODEL_19653aae857646bfa10fc56ebdf3fc31"
          }
        },
        "ca5ca3872cf44b978a2db3260aecb1ef": {
          "model_module": "@jupyter-widgets/controls",
          "model_name": "HTMLModel",
          "model_module_version": "1.5.0",
          "state": {
            "_dom_classes": [],
            "_model_module": "@jupyter-widgets/controls",
            "_model_module_version": "1.5.0",
            "_model_name": "HTMLModel",
            "_view_count": null,
            "_view_module": "@jupyter-widgets/controls",
            "_view_module_version": "1.5.0",
            "_view_name": "HTMLView",
            "description": "",
            "description_tooltip": null,
            "layout": "IPY_MODEL_fd33645238ba4bf4affabca395f874e9",
            "placeholder": "​",
            "style": "IPY_MODEL_15ea620cff1f482dbda95baf16e49a68",
            "value": "Downloading data: 100%"
          }
        },
        "5ad701c48bab4935be2a69c93d3da2ab": {
          "model_module": "@jupyter-widgets/controls",
          "model_name": "FloatProgressModel",
          "model_module_version": "1.5.0",
          "state": {
            "_dom_classes": [],
            "_model_module": "@jupyter-widgets/controls",
            "_model_module_version": "1.5.0",
            "_model_name": "FloatProgressModel",
            "_view_count": null,
            "_view_module": "@jupyter-widgets/controls",
            "_view_module_version": "1.5.0",
            "_view_name": "ProgressView",
            "bar_style": "success",
            "description": "",
            "description_tooltip": null,
            "layout": "IPY_MODEL_b817c7c99b0b4ecfa722d8e7cb44e350",
            "max": 156307,
            "min": 0,
            "orientation": "horizontal",
            "style": "IPY_MODEL_e226bb6aa9db483e8a51a8c51ef12a9d",
            "value": 156307
          }
        },
        "f1dc84de027141b3a66119606b19af76": {
          "model_module": "@jupyter-widgets/controls",
          "model_name": "HTMLModel",
          "model_module_version": "1.5.0",
          "state": {
            "_dom_classes": [],
            "_model_module": "@jupyter-widgets/controls",
            "_model_module_version": "1.5.0",
            "_model_name": "HTMLModel",
            "_view_count": null,
            "_view_module": "@jupyter-widgets/controls",
            "_view_module_version": "1.5.0",
            "_view_name": "HTMLView",
            "description": "",
            "description_tooltip": null,
            "layout": "IPY_MODEL_bf663a211b7d4c86ac023966913819aa",
            "placeholder": "​",
            "style": "IPY_MODEL_5aa5fa8d1f864cb7a6acdec941ce4ec5",
            "value": " 156k/156k [00:00&lt;00:00, 1.44MB/s]"
          }
        },
        "19653aae857646bfa10fc56ebdf3fc31": {
          "model_module": "@jupyter-widgets/base",
          "model_name": "LayoutModel",
          "model_module_version": "1.2.0",
          "state": {
            "_model_module": "@jupyter-widgets/base",
            "_model_module_version": "1.2.0",
            "_model_name": "LayoutModel",
            "_view_count": null,
            "_view_module": "@jupyter-widgets/base",
            "_view_module_version": "1.2.0",
            "_view_name": "LayoutView",
            "align_content": null,
            "align_items": null,
            "align_self": null,
            "border": null,
            "bottom": null,
            "display": null,
            "flex": null,
            "flex_flow": null,
            "grid_area": null,
            "grid_auto_columns": null,
            "grid_auto_flow": null,
            "grid_auto_rows": null,
            "grid_column": null,
            "grid_gap": null,
            "grid_row": null,
            "grid_template_areas": null,
            "grid_template_columns": null,
            "grid_template_rows": null,
            "height": null,
            "justify_content": null,
            "justify_items": null,
            "left": null,
            "margin": null,
            "max_height": null,
            "max_width": null,
            "min_height": null,
            "min_width": null,
            "object_fit": null,
            "object_position": null,
            "order": null,
            "overflow": null,
            "overflow_x": null,
            "overflow_y": null,
            "padding": null,
            "right": null,
            "top": null,
            "visibility": null,
            "width": null
          }
        },
        "fd33645238ba4bf4affabca395f874e9": {
          "model_module": "@jupyter-widgets/base",
          "model_name": "LayoutModel",
          "model_module_version": "1.2.0",
          "state": {
            "_model_module": "@jupyter-widgets/base",
            "_model_module_version": "1.2.0",
            "_model_name": "LayoutModel",
            "_view_count": null,
            "_view_module": "@jupyter-widgets/base",
            "_view_module_version": "1.2.0",
            "_view_name": "LayoutView",
            "align_content": null,
            "align_items": null,
            "align_self": null,
            "border": null,
            "bottom": null,
            "display": null,
            "flex": null,
            "flex_flow": null,
            "grid_area": null,
            "grid_auto_columns": null,
            "grid_auto_flow": null,
            "grid_auto_rows": null,
            "grid_column": null,
            "grid_gap": null,
            "grid_row": null,
            "grid_template_areas": null,
            "grid_template_columns": null,
            "grid_template_rows": null,
            "height": null,
            "justify_content": null,
            "justify_items": null,
            "left": null,
            "margin": null,
            "max_height": null,
            "max_width": null,
            "min_height": null,
            "min_width": null,
            "object_fit": null,
            "object_position": null,
            "order": null,
            "overflow": null,
            "overflow_x": null,
            "overflow_y": null,
            "padding": null,
            "right": null,
            "top": null,
            "visibility": null,
            "width": null
          }
        },
        "15ea620cff1f482dbda95baf16e49a68": {
          "model_module": "@jupyter-widgets/controls",
          "model_name": "DescriptionStyleModel",
          "model_module_version": "1.5.0",
          "state": {
            "_model_module": "@jupyter-widgets/controls",
            "_model_module_version": "1.5.0",
            "_model_name": "DescriptionStyleModel",
            "_view_count": null,
            "_view_module": "@jupyter-widgets/base",
            "_view_module_version": "1.2.0",
            "_view_name": "StyleView",
            "description_width": ""
          }
        },
        "b817c7c99b0b4ecfa722d8e7cb44e350": {
          "model_module": "@jupyter-widgets/base",
          "model_name": "LayoutModel",
          "model_module_version": "1.2.0",
          "state": {
            "_model_module": "@jupyter-widgets/base",
            "_model_module_version": "1.2.0",
            "_model_name": "LayoutModel",
            "_view_count": null,
            "_view_module": "@jupyter-widgets/base",
            "_view_module_version": "1.2.0",
            "_view_name": "LayoutView",
            "align_content": null,
            "align_items": null,
            "align_self": null,
            "border": null,
            "bottom": null,
            "display": null,
            "flex": null,
            "flex_flow": null,
            "grid_area": null,
            "grid_auto_columns": null,
            "grid_auto_flow": null,
            "grid_auto_rows": null,
            "grid_column": null,
            "grid_gap": null,
            "grid_row": null,
            "grid_template_areas": null,
            "grid_template_columns": null,
            "grid_template_rows": null,
            "height": null,
            "justify_content": null,
            "justify_items": null,
            "left": null,
            "margin": null,
            "max_height": null,
            "max_width": null,
            "min_height": null,
            "min_width": null,
            "object_fit": null,
            "object_position": null,
            "order": null,
            "overflow": null,
            "overflow_x": null,
            "overflow_y": null,
            "padding": null,
            "right": null,
            "top": null,
            "visibility": null,
            "width": null
          }
        },
        "e226bb6aa9db483e8a51a8c51ef12a9d": {
          "model_module": "@jupyter-widgets/controls",
          "model_name": "ProgressStyleModel",
          "model_module_version": "1.5.0",
          "state": {
            "_model_module": "@jupyter-widgets/controls",
            "_model_module_version": "1.5.0",
            "_model_name": "ProgressStyleModel",
            "_view_count": null,
            "_view_module": "@jupyter-widgets/base",
            "_view_module_version": "1.2.0",
            "_view_name": "StyleView",
            "bar_color": null,
            "description_width": ""
          }
        },
        "bf663a211b7d4c86ac023966913819aa": {
          "model_module": "@jupyter-widgets/base",
          "model_name": "LayoutModel",
          "model_module_version": "1.2.0",
          "state": {
            "_model_module": "@jupyter-widgets/base",
            "_model_module_version": "1.2.0",
            "_model_name": "LayoutModel",
            "_view_count": null,
            "_view_module": "@jupyter-widgets/base",
            "_view_module_version": "1.2.0",
            "_view_name": "LayoutView",
            "align_content": null,
            "align_items": null,
            "align_self": null,
            "border": null,
            "bottom": null,
            "display": null,
            "flex": null,
            "flex_flow": null,
            "grid_area": null,
            "grid_auto_columns": null,
            "grid_auto_flow": null,
            "grid_auto_rows": null,
            "grid_column": null,
            "grid_gap": null,
            "grid_row": null,
            "grid_template_areas": null,
            "grid_template_columns": null,
            "grid_template_rows": null,
            "height": null,
            "justify_content": null,
            "justify_items": null,
            "left": null,
            "margin": null,
            "max_height": null,
            "max_width": null,
            "min_height": null,
            "min_width": null,
            "object_fit": null,
            "object_position": null,
            "order": null,
            "overflow": null,
            "overflow_x": null,
            "overflow_y": null,
            "padding": null,
            "right": null,
            "top": null,
            "visibility": null,
            "width": null
          }
        },
        "5aa5fa8d1f864cb7a6acdec941ce4ec5": {
          "model_module": "@jupyter-widgets/controls",
          "model_name": "DescriptionStyleModel",
          "model_module_version": "1.5.0",
          "state": {
            "_model_module": "@jupyter-widgets/controls",
            "_model_module_version": "1.5.0",
            "_model_name": "DescriptionStyleModel",
            "_view_count": null,
            "_view_module": "@jupyter-widgets/base",
            "_view_module_version": "1.2.0",
            "_view_name": "StyleView",
            "description_width": ""
          }
        },
        "2be817683a4145a99f011fb1200280b5": {
          "model_module": "@jupyter-widgets/controls",
          "model_name": "HBoxModel",
          "model_module_version": "1.5.0",
          "state": {
            "_dom_classes": [],
            "_model_module": "@jupyter-widgets/controls",
            "_model_module_version": "1.5.0",
            "_model_name": "HBoxModel",
            "_view_count": null,
            "_view_module": "@jupyter-widgets/controls",
            "_view_module_version": "1.5.0",
            "_view_name": "HBoxView",
            "box_style": "",
            "children": [
              "IPY_MODEL_f31165e5ca42466a9717e7f716c4b924",
              "IPY_MODEL_fab50d1a49754d1a87a5849b07e2d1cd",
              "IPY_MODEL_62063bc84870490c8232fdfdc25c9cd7"
            ],
            "layout": "IPY_MODEL_5428dae6d04242f0b505f7b566f874c0"
          }
        },
        "f31165e5ca42466a9717e7f716c4b924": {
          "model_module": "@jupyter-widgets/controls",
          "model_name": "HTMLModel",
          "model_module_version": "1.5.0",
          "state": {
            "_dom_classes": [],
            "_model_module": "@jupyter-widgets/controls",
            "_model_module_version": "1.5.0",
            "_model_name": "HTMLModel",
            "_view_count": null,
            "_view_module": "@jupyter-widgets/controls",
            "_view_module_version": "1.5.0",
            "_view_name": "HTMLView",
            "description": "",
            "description_tooltip": null,
            "layout": "IPY_MODEL_9cb874a7b8354188ad6a929ee4f05b4f",
            "placeholder": "​",
            "style": "IPY_MODEL_5d0d4d8432644873ac6c4f35498f75e8",
            "value": "Generating train split: 100%"
          }
        },
        "fab50d1a49754d1a87a5849b07e2d1cd": {
          "model_module": "@jupyter-widgets/controls",
          "model_name": "FloatProgressModel",
          "model_module_version": "1.5.0",
          "state": {
            "_dom_classes": [],
            "_model_module": "@jupyter-widgets/controls",
            "_model_module_version": "1.5.0",
            "_model_name": "FloatProgressModel",
            "_view_count": null,
            "_view_module": "@jupyter-widgets/controls",
            "_view_module_version": "1.5.0",
            "_view_name": "ProgressView",
            "bar_style": "success",
            "description": "",
            "description_tooltip": null,
            "layout": "IPY_MODEL_f71a3e49e8d545eb93eef61438bdae1b",
            "max": 29000,
            "min": 0,
            "orientation": "horizontal",
            "style": "IPY_MODEL_aa7d49b2bc114bedbc1c26206325e897",
            "value": 29000
          }
        },
        "62063bc84870490c8232fdfdc25c9cd7": {
          "model_module": "@jupyter-widgets/controls",
          "model_name": "HTMLModel",
          "model_module_version": "1.5.0",
          "state": {
            "_dom_classes": [],
            "_model_module": "@jupyter-widgets/controls",
            "_model_module_version": "1.5.0",
            "_model_name": "HTMLModel",
            "_view_count": null,
            "_view_module": "@jupyter-widgets/controls",
            "_view_module_version": "1.5.0",
            "_view_name": "HTMLView",
            "description": "",
            "description_tooltip": null,
            "layout": "IPY_MODEL_d74bdc8360164401a90ea1846b7a708e",
            "placeholder": "​",
            "style": "IPY_MODEL_a44d3a92a9244a4094ed16ebe808d860",
            "value": " 29000/29000 [00:00&lt;00:00, 297434.91 examples/s]"
          }
        },
        "5428dae6d04242f0b505f7b566f874c0": {
          "model_module": "@jupyter-widgets/base",
          "model_name": "LayoutModel",
          "model_module_version": "1.2.0",
          "state": {
            "_model_module": "@jupyter-widgets/base",
            "_model_module_version": "1.2.0",
            "_model_name": "LayoutModel",
            "_view_count": null,
            "_view_module": "@jupyter-widgets/base",
            "_view_module_version": "1.2.0",
            "_view_name": "LayoutView",
            "align_content": null,
            "align_items": null,
            "align_self": null,
            "border": null,
            "bottom": null,
            "display": null,
            "flex": null,
            "flex_flow": null,
            "grid_area": null,
            "grid_auto_columns": null,
            "grid_auto_flow": null,
            "grid_auto_rows": null,
            "grid_column": null,
            "grid_gap": null,
            "grid_row": null,
            "grid_template_areas": null,
            "grid_template_columns": null,
            "grid_template_rows": null,
            "height": null,
            "justify_content": null,
            "justify_items": null,
            "left": null,
            "margin": null,
            "max_height": null,
            "max_width": null,
            "min_height": null,
            "min_width": null,
            "object_fit": null,
            "object_position": null,
            "order": null,
            "overflow": null,
            "overflow_x": null,
            "overflow_y": null,
            "padding": null,
            "right": null,
            "top": null,
            "visibility": null,
            "width": null
          }
        },
        "9cb874a7b8354188ad6a929ee4f05b4f": {
          "model_module": "@jupyter-widgets/base",
          "model_name": "LayoutModel",
          "model_module_version": "1.2.0",
          "state": {
            "_model_module": "@jupyter-widgets/base",
            "_model_module_version": "1.2.0",
            "_model_name": "LayoutModel",
            "_view_count": null,
            "_view_module": "@jupyter-widgets/base",
            "_view_module_version": "1.2.0",
            "_view_name": "LayoutView",
            "align_content": null,
            "align_items": null,
            "align_self": null,
            "border": null,
            "bottom": null,
            "display": null,
            "flex": null,
            "flex_flow": null,
            "grid_area": null,
            "grid_auto_columns": null,
            "grid_auto_flow": null,
            "grid_auto_rows": null,
            "grid_column": null,
            "grid_gap": null,
            "grid_row": null,
            "grid_template_areas": null,
            "grid_template_columns": null,
            "grid_template_rows": null,
            "height": null,
            "justify_content": null,
            "justify_items": null,
            "left": null,
            "margin": null,
            "max_height": null,
            "max_width": null,
            "min_height": null,
            "min_width": null,
            "object_fit": null,
            "object_position": null,
            "order": null,
            "overflow": null,
            "overflow_x": null,
            "overflow_y": null,
            "padding": null,
            "right": null,
            "top": null,
            "visibility": null,
            "width": null
          }
        },
        "5d0d4d8432644873ac6c4f35498f75e8": {
          "model_module": "@jupyter-widgets/controls",
          "model_name": "DescriptionStyleModel",
          "model_module_version": "1.5.0",
          "state": {
            "_model_module": "@jupyter-widgets/controls",
            "_model_module_version": "1.5.0",
            "_model_name": "DescriptionStyleModel",
            "_view_count": null,
            "_view_module": "@jupyter-widgets/base",
            "_view_module_version": "1.2.0",
            "_view_name": "StyleView",
            "description_width": ""
          }
        },
        "f71a3e49e8d545eb93eef61438bdae1b": {
          "model_module": "@jupyter-widgets/base",
          "model_name": "LayoutModel",
          "model_module_version": "1.2.0",
          "state": {
            "_model_module": "@jupyter-widgets/base",
            "_model_module_version": "1.2.0",
            "_model_name": "LayoutModel",
            "_view_count": null,
            "_view_module": "@jupyter-widgets/base",
            "_view_module_version": "1.2.0",
            "_view_name": "LayoutView",
            "align_content": null,
            "align_items": null,
            "align_self": null,
            "border": null,
            "bottom": null,
            "display": null,
            "flex": null,
            "flex_flow": null,
            "grid_area": null,
            "grid_auto_columns": null,
            "grid_auto_flow": null,
            "grid_auto_rows": null,
            "grid_column": null,
            "grid_gap": null,
            "grid_row": null,
            "grid_template_areas": null,
            "grid_template_columns": null,
            "grid_template_rows": null,
            "height": null,
            "justify_content": null,
            "justify_items": null,
            "left": null,
            "margin": null,
            "max_height": null,
            "max_width": null,
            "min_height": null,
            "min_width": null,
            "object_fit": null,
            "object_position": null,
            "order": null,
            "overflow": null,
            "overflow_x": null,
            "overflow_y": null,
            "padding": null,
            "right": null,
            "top": null,
            "visibility": null,
            "width": null
          }
        },
        "aa7d49b2bc114bedbc1c26206325e897": {
          "model_module": "@jupyter-widgets/controls",
          "model_name": "ProgressStyleModel",
          "model_module_version": "1.5.0",
          "state": {
            "_model_module": "@jupyter-widgets/controls",
            "_model_module_version": "1.5.0",
            "_model_name": "ProgressStyleModel",
            "_view_count": null,
            "_view_module": "@jupyter-widgets/base",
            "_view_module_version": "1.2.0",
            "_view_name": "StyleView",
            "bar_color": null,
            "description_width": ""
          }
        },
        "d74bdc8360164401a90ea1846b7a708e": {
          "model_module": "@jupyter-widgets/base",
          "model_name": "LayoutModel",
          "model_module_version": "1.2.0",
          "state": {
            "_model_module": "@jupyter-widgets/base",
            "_model_module_version": "1.2.0",
            "_model_name": "LayoutModel",
            "_view_count": null,
            "_view_module": "@jupyter-widgets/base",
            "_view_module_version": "1.2.0",
            "_view_name": "LayoutView",
            "align_content": null,
            "align_items": null,
            "align_self": null,
            "border": null,
            "bottom": null,
            "display": null,
            "flex": null,
            "flex_flow": null,
            "grid_area": null,
            "grid_auto_columns": null,
            "grid_auto_flow": null,
            "grid_auto_rows": null,
            "grid_column": null,
            "grid_gap": null,
            "grid_row": null,
            "grid_template_areas": null,
            "grid_template_columns": null,
            "grid_template_rows": null,
            "height": null,
            "justify_content": null,
            "justify_items": null,
            "left": null,
            "margin": null,
            "max_height": null,
            "max_width": null,
            "min_height": null,
            "min_width": null,
            "object_fit": null,
            "object_position": null,
            "order": null,
            "overflow": null,
            "overflow_x": null,
            "overflow_y": null,
            "padding": null,
            "right": null,
            "top": null,
            "visibility": null,
            "width": null
          }
        },
        "a44d3a92a9244a4094ed16ebe808d860": {
          "model_module": "@jupyter-widgets/controls",
          "model_name": "DescriptionStyleModel",
          "model_module_version": "1.5.0",
          "state": {
            "_model_module": "@jupyter-widgets/controls",
            "_model_module_version": "1.5.0",
            "_model_name": "DescriptionStyleModel",
            "_view_count": null,
            "_view_module": "@jupyter-widgets/base",
            "_view_module_version": "1.2.0",
            "_view_name": "StyleView",
            "description_width": ""
          }
        },
        "99afa1dfab3543a494749151d3432a01": {
          "model_module": "@jupyter-widgets/controls",
          "model_name": "HBoxModel",
          "model_module_version": "1.5.0",
          "state": {
            "_dom_classes": [],
            "_model_module": "@jupyter-widgets/controls",
            "_model_module_version": "1.5.0",
            "_model_name": "HBoxModel",
            "_view_count": null,
            "_view_module": "@jupyter-widgets/controls",
            "_view_module_version": "1.5.0",
            "_view_name": "HBoxView",
            "box_style": "",
            "children": [
              "IPY_MODEL_8f129d03517944888f6ee76830af0e60",
              "IPY_MODEL_c47bf1d806024205999adaba4e3f976d",
              "IPY_MODEL_8d212d58393744aba4d92e082088c460"
            ],
            "layout": "IPY_MODEL_b6ece08cb06549b7b0ce8325b4518494"
          }
        },
        "8f129d03517944888f6ee76830af0e60": {
          "model_module": "@jupyter-widgets/controls",
          "model_name": "HTMLModel",
          "model_module_version": "1.5.0",
          "state": {
            "_dom_classes": [],
            "_model_module": "@jupyter-widgets/controls",
            "_model_module_version": "1.5.0",
            "_model_name": "HTMLModel",
            "_view_count": null,
            "_view_module": "@jupyter-widgets/controls",
            "_view_module_version": "1.5.0",
            "_view_name": "HTMLView",
            "description": "",
            "description_tooltip": null,
            "layout": "IPY_MODEL_e34fdccb7d064c6795d721046059e4b5",
            "placeholder": "​",
            "style": "IPY_MODEL_6ac164e0fab34c18b9d71580e9a44a10",
            "value": "Generating validation split: 100%"
          }
        },
        "c47bf1d806024205999adaba4e3f976d": {
          "model_module": "@jupyter-widgets/controls",
          "model_name": "FloatProgressModel",
          "model_module_version": "1.5.0",
          "state": {
            "_dom_classes": [],
            "_model_module": "@jupyter-widgets/controls",
            "_model_module_version": "1.5.0",
            "_model_name": "FloatProgressModel",
            "_view_count": null,
            "_view_module": "@jupyter-widgets/controls",
            "_view_module_version": "1.5.0",
            "_view_name": "ProgressView",
            "bar_style": "success",
            "description": "",
            "description_tooltip": null,
            "layout": "IPY_MODEL_b4e93d6ca33449a7a948894cc06da6cd",
            "max": 1014,
            "min": 0,
            "orientation": "horizontal",
            "style": "IPY_MODEL_286ee9b6c49e4acc9fa52850a6b1d89f",
            "value": 1014
          }
        },
        "8d212d58393744aba4d92e082088c460": {
          "model_module": "@jupyter-widgets/controls",
          "model_name": "HTMLModel",
          "model_module_version": "1.5.0",
          "state": {
            "_dom_classes": [],
            "_model_module": "@jupyter-widgets/controls",
            "_model_module_version": "1.5.0",
            "_model_name": "HTMLModel",
            "_view_count": null,
            "_view_module": "@jupyter-widgets/controls",
            "_view_module_version": "1.5.0",
            "_view_name": "HTMLView",
            "description": "",
            "description_tooltip": null,
            "layout": "IPY_MODEL_3b3cb731590b45649e0c9c403633c023",
            "placeholder": "​",
            "style": "IPY_MODEL_5eb2549d520247f08d01be790d64ef74",
            "value": " 1014/1014 [00:00&lt;00:00, 30428.73 examples/s]"
          }
        },
        "b6ece08cb06549b7b0ce8325b4518494": {
          "model_module": "@jupyter-widgets/base",
          "model_name": "LayoutModel",
          "model_module_version": "1.2.0",
          "state": {
            "_model_module": "@jupyter-widgets/base",
            "_model_module_version": "1.2.0",
            "_model_name": "LayoutModel",
            "_view_count": null,
            "_view_module": "@jupyter-widgets/base",
            "_view_module_version": "1.2.0",
            "_view_name": "LayoutView",
            "align_content": null,
            "align_items": null,
            "align_self": null,
            "border": null,
            "bottom": null,
            "display": null,
            "flex": null,
            "flex_flow": null,
            "grid_area": null,
            "grid_auto_columns": null,
            "grid_auto_flow": null,
            "grid_auto_rows": null,
            "grid_column": null,
            "grid_gap": null,
            "grid_row": null,
            "grid_template_areas": null,
            "grid_template_columns": null,
            "grid_template_rows": null,
            "height": null,
            "justify_content": null,
            "justify_items": null,
            "left": null,
            "margin": null,
            "max_height": null,
            "max_width": null,
            "min_height": null,
            "min_width": null,
            "object_fit": null,
            "object_position": null,
            "order": null,
            "overflow": null,
            "overflow_x": null,
            "overflow_y": null,
            "padding": null,
            "right": null,
            "top": null,
            "visibility": null,
            "width": null
          }
        },
        "e34fdccb7d064c6795d721046059e4b5": {
          "model_module": "@jupyter-widgets/base",
          "model_name": "LayoutModel",
          "model_module_version": "1.2.0",
          "state": {
            "_model_module": "@jupyter-widgets/base",
            "_model_module_version": "1.2.0",
            "_model_name": "LayoutModel",
            "_view_count": null,
            "_view_module": "@jupyter-widgets/base",
            "_view_module_version": "1.2.0",
            "_view_name": "LayoutView",
            "align_content": null,
            "align_items": null,
            "align_self": null,
            "border": null,
            "bottom": null,
            "display": null,
            "flex": null,
            "flex_flow": null,
            "grid_area": null,
            "grid_auto_columns": null,
            "grid_auto_flow": null,
            "grid_auto_rows": null,
            "grid_column": null,
            "grid_gap": null,
            "grid_row": null,
            "grid_template_areas": null,
            "grid_template_columns": null,
            "grid_template_rows": null,
            "height": null,
            "justify_content": null,
            "justify_items": null,
            "left": null,
            "margin": null,
            "max_height": null,
            "max_width": null,
            "min_height": null,
            "min_width": null,
            "object_fit": null,
            "object_position": null,
            "order": null,
            "overflow": null,
            "overflow_x": null,
            "overflow_y": null,
            "padding": null,
            "right": null,
            "top": null,
            "visibility": null,
            "width": null
          }
        },
        "6ac164e0fab34c18b9d71580e9a44a10": {
          "model_module": "@jupyter-widgets/controls",
          "model_name": "DescriptionStyleModel",
          "model_module_version": "1.5.0",
          "state": {
            "_model_module": "@jupyter-widgets/controls",
            "_model_module_version": "1.5.0",
            "_model_name": "DescriptionStyleModel",
            "_view_count": null,
            "_view_module": "@jupyter-widgets/base",
            "_view_module_version": "1.2.0",
            "_view_name": "StyleView",
            "description_width": ""
          }
        },
        "b4e93d6ca33449a7a948894cc06da6cd": {
          "model_module": "@jupyter-widgets/base",
          "model_name": "LayoutModel",
          "model_module_version": "1.2.0",
          "state": {
            "_model_module": "@jupyter-widgets/base",
            "_model_module_version": "1.2.0",
            "_model_name": "LayoutModel",
            "_view_count": null,
            "_view_module": "@jupyter-widgets/base",
            "_view_module_version": "1.2.0",
            "_view_name": "LayoutView",
            "align_content": null,
            "align_items": null,
            "align_self": null,
            "border": null,
            "bottom": null,
            "display": null,
            "flex": null,
            "flex_flow": null,
            "grid_area": null,
            "grid_auto_columns": null,
            "grid_auto_flow": null,
            "grid_auto_rows": null,
            "grid_column": null,
            "grid_gap": null,
            "grid_row": null,
            "grid_template_areas": null,
            "grid_template_columns": null,
            "grid_template_rows": null,
            "height": null,
            "justify_content": null,
            "justify_items": null,
            "left": null,
            "margin": null,
            "max_height": null,
            "max_width": null,
            "min_height": null,
            "min_width": null,
            "object_fit": null,
            "object_position": null,
            "order": null,
            "overflow": null,
            "overflow_x": null,
            "overflow_y": null,
            "padding": null,
            "right": null,
            "top": null,
            "visibility": null,
            "width": null
          }
        },
        "286ee9b6c49e4acc9fa52850a6b1d89f": {
          "model_module": "@jupyter-widgets/controls",
          "model_name": "ProgressStyleModel",
          "model_module_version": "1.5.0",
          "state": {
            "_model_module": "@jupyter-widgets/controls",
            "_model_module_version": "1.5.0",
            "_model_name": "ProgressStyleModel",
            "_view_count": null,
            "_view_module": "@jupyter-widgets/base",
            "_view_module_version": "1.2.0",
            "_view_name": "StyleView",
            "bar_color": null,
            "description_width": ""
          }
        },
        "3b3cb731590b45649e0c9c403633c023": {
          "model_module": "@jupyter-widgets/base",
          "model_name": "LayoutModel",
          "model_module_version": "1.2.0",
          "state": {
            "_model_module": "@jupyter-widgets/base",
            "_model_module_version": "1.2.0",
            "_model_name": "LayoutModel",
            "_view_count": null,
            "_view_module": "@jupyter-widgets/base",
            "_view_module_version": "1.2.0",
            "_view_name": "LayoutView",
            "align_content": null,
            "align_items": null,
            "align_self": null,
            "border": null,
            "bottom": null,
            "display": null,
            "flex": null,
            "flex_flow": null,
            "grid_area": null,
            "grid_auto_columns": null,
            "grid_auto_flow": null,
            "grid_auto_rows": null,
            "grid_column": null,
            "grid_gap": null,
            "grid_row": null,
            "grid_template_areas": null,
            "grid_template_columns": null,
            "grid_template_rows": null,
            "height": null,
            "justify_content": null,
            "justify_items": null,
            "left": null,
            "margin": null,
            "max_height": null,
            "max_width": null,
            "min_height": null,
            "min_width": null,
            "object_fit": null,
            "object_position": null,
            "order": null,
            "overflow": null,
            "overflow_x": null,
            "overflow_y": null,
            "padding": null,
            "right": null,
            "top": null,
            "visibility": null,
            "width": null
          }
        },
        "5eb2549d520247f08d01be790d64ef74": {
          "model_module": "@jupyter-widgets/controls",
          "model_name": "DescriptionStyleModel",
          "model_module_version": "1.5.0",
          "state": {
            "_model_module": "@jupyter-widgets/controls",
            "_model_module_version": "1.5.0",
            "_model_name": "DescriptionStyleModel",
            "_view_count": null,
            "_view_module": "@jupyter-widgets/base",
            "_view_module_version": "1.2.0",
            "_view_name": "StyleView",
            "description_width": ""
          }
        },
        "48d9f877f6294ae38b74a1611e2815a8": {
          "model_module": "@jupyter-widgets/controls",
          "model_name": "HBoxModel",
          "model_module_version": "1.5.0",
          "state": {
            "_dom_classes": [],
            "_model_module": "@jupyter-widgets/controls",
            "_model_module_version": "1.5.0",
            "_model_name": "HBoxModel",
            "_view_count": null,
            "_view_module": "@jupyter-widgets/controls",
            "_view_module_version": "1.5.0",
            "_view_name": "HBoxView",
            "box_style": "",
            "children": [
              "IPY_MODEL_5baed4add2344b3c851adc37b0204cf1",
              "IPY_MODEL_87197db7e7bb430bac230a6499b6b91b",
              "IPY_MODEL_75be15592b15402f822325d03c11a998"
            ],
            "layout": "IPY_MODEL_098affb70aaa4dbd9d9617c04719e877"
          }
        },
        "5baed4add2344b3c851adc37b0204cf1": {
          "model_module": "@jupyter-widgets/controls",
          "model_name": "HTMLModel",
          "model_module_version": "1.5.0",
          "state": {
            "_dom_classes": [],
            "_model_module": "@jupyter-widgets/controls",
            "_model_module_version": "1.5.0",
            "_model_name": "HTMLModel",
            "_view_count": null,
            "_view_module": "@jupyter-widgets/controls",
            "_view_module_version": "1.5.0",
            "_view_name": "HTMLView",
            "description": "",
            "description_tooltip": null,
            "layout": "IPY_MODEL_449cc09b13994853a16ebcf856a005a5",
            "placeholder": "​",
            "style": "IPY_MODEL_349aaa1797f041e09df5d0436ef73458",
            "value": "Generating test split: 100%"
          }
        },
        "87197db7e7bb430bac230a6499b6b91b": {
          "model_module": "@jupyter-widgets/controls",
          "model_name": "FloatProgressModel",
          "model_module_version": "1.5.0",
          "state": {
            "_dom_classes": [],
            "_model_module": "@jupyter-widgets/controls",
            "_model_module_version": "1.5.0",
            "_model_name": "FloatProgressModel",
            "_view_count": null,
            "_view_module": "@jupyter-widgets/controls",
            "_view_module_version": "1.5.0",
            "_view_name": "ProgressView",
            "bar_style": "success",
            "description": "",
            "description_tooltip": null,
            "layout": "IPY_MODEL_15ac8e249e0843ae9e4ede71b0192c73",
            "max": 1000,
            "min": 0,
            "orientation": "horizontal",
            "style": "IPY_MODEL_d13e0aebcf0d49caa2fde1ee1633388f",
            "value": 1000
          }
        },
        "75be15592b15402f822325d03c11a998": {
          "model_module": "@jupyter-widgets/controls",
          "model_name": "HTMLModel",
          "model_module_version": "1.5.0",
          "state": {
            "_dom_classes": [],
            "_model_module": "@jupyter-widgets/controls",
            "_model_module_version": "1.5.0",
            "_model_name": "HTMLModel",
            "_view_count": null,
            "_view_module": "@jupyter-widgets/controls",
            "_view_module_version": "1.5.0",
            "_view_name": "HTMLView",
            "description": "",
            "description_tooltip": null,
            "layout": "IPY_MODEL_49b72c3f13db487f976083d613125515",
            "placeholder": "​",
            "style": "IPY_MODEL_164dbd805b4f404b8d351a88aae4a4c5",
            "value": " 1000/1000 [00:00&lt;00:00, 27291.21 examples/s]"
          }
        },
        "098affb70aaa4dbd9d9617c04719e877": {
          "model_module": "@jupyter-widgets/base",
          "model_name": "LayoutModel",
          "model_module_version": "1.2.0",
          "state": {
            "_model_module": "@jupyter-widgets/base",
            "_model_module_version": "1.2.0",
            "_model_name": "LayoutModel",
            "_view_count": null,
            "_view_module": "@jupyter-widgets/base",
            "_view_module_version": "1.2.0",
            "_view_name": "LayoutView",
            "align_content": null,
            "align_items": null,
            "align_self": null,
            "border": null,
            "bottom": null,
            "display": null,
            "flex": null,
            "flex_flow": null,
            "grid_area": null,
            "grid_auto_columns": null,
            "grid_auto_flow": null,
            "grid_auto_rows": null,
            "grid_column": null,
            "grid_gap": null,
            "grid_row": null,
            "grid_template_areas": null,
            "grid_template_columns": null,
            "grid_template_rows": null,
            "height": null,
            "justify_content": null,
            "justify_items": null,
            "left": null,
            "margin": null,
            "max_height": null,
            "max_width": null,
            "min_height": null,
            "min_width": null,
            "object_fit": null,
            "object_position": null,
            "order": null,
            "overflow": null,
            "overflow_x": null,
            "overflow_y": null,
            "padding": null,
            "right": null,
            "top": null,
            "visibility": null,
            "width": null
          }
        },
        "449cc09b13994853a16ebcf856a005a5": {
          "model_module": "@jupyter-widgets/base",
          "model_name": "LayoutModel",
          "model_module_version": "1.2.0",
          "state": {
            "_model_module": "@jupyter-widgets/base",
            "_model_module_version": "1.2.0",
            "_model_name": "LayoutModel",
            "_view_count": null,
            "_view_module": "@jupyter-widgets/base",
            "_view_module_version": "1.2.0",
            "_view_name": "LayoutView",
            "align_content": null,
            "align_items": null,
            "align_self": null,
            "border": null,
            "bottom": null,
            "display": null,
            "flex": null,
            "flex_flow": null,
            "grid_area": null,
            "grid_auto_columns": null,
            "grid_auto_flow": null,
            "grid_auto_rows": null,
            "grid_column": null,
            "grid_gap": null,
            "grid_row": null,
            "grid_template_areas": null,
            "grid_template_columns": null,
            "grid_template_rows": null,
            "height": null,
            "justify_content": null,
            "justify_items": null,
            "left": null,
            "margin": null,
            "max_height": null,
            "max_width": null,
            "min_height": null,
            "min_width": null,
            "object_fit": null,
            "object_position": null,
            "order": null,
            "overflow": null,
            "overflow_x": null,
            "overflow_y": null,
            "padding": null,
            "right": null,
            "top": null,
            "visibility": null,
            "width": null
          }
        },
        "349aaa1797f041e09df5d0436ef73458": {
          "model_module": "@jupyter-widgets/controls",
          "model_name": "DescriptionStyleModel",
          "model_module_version": "1.5.0",
          "state": {
            "_model_module": "@jupyter-widgets/controls",
            "_model_module_version": "1.5.0",
            "_model_name": "DescriptionStyleModel",
            "_view_count": null,
            "_view_module": "@jupyter-widgets/base",
            "_view_module_version": "1.2.0",
            "_view_name": "StyleView",
            "description_width": ""
          }
        },
        "15ac8e249e0843ae9e4ede71b0192c73": {
          "model_module": "@jupyter-widgets/base",
          "model_name": "LayoutModel",
          "model_module_version": "1.2.0",
          "state": {
            "_model_module": "@jupyter-widgets/base",
            "_model_module_version": "1.2.0",
            "_model_name": "LayoutModel",
            "_view_count": null,
            "_view_module": "@jupyter-widgets/base",
            "_view_module_version": "1.2.0",
            "_view_name": "LayoutView",
            "align_content": null,
            "align_items": null,
            "align_self": null,
            "border": null,
            "bottom": null,
            "display": null,
            "flex": null,
            "flex_flow": null,
            "grid_area": null,
            "grid_auto_columns": null,
            "grid_auto_flow": null,
            "grid_auto_rows": null,
            "grid_column": null,
            "grid_gap": null,
            "grid_row": null,
            "grid_template_areas": null,
            "grid_template_columns": null,
            "grid_template_rows": null,
            "height": null,
            "justify_content": null,
            "justify_items": null,
            "left": null,
            "margin": null,
            "max_height": null,
            "max_width": null,
            "min_height": null,
            "min_width": null,
            "object_fit": null,
            "object_position": null,
            "order": null,
            "overflow": null,
            "overflow_x": null,
            "overflow_y": null,
            "padding": null,
            "right": null,
            "top": null,
            "visibility": null,
            "width": null
          }
        },
        "d13e0aebcf0d49caa2fde1ee1633388f": {
          "model_module": "@jupyter-widgets/controls",
          "model_name": "ProgressStyleModel",
          "model_module_version": "1.5.0",
          "state": {
            "_model_module": "@jupyter-widgets/controls",
            "_model_module_version": "1.5.0",
            "_model_name": "ProgressStyleModel",
            "_view_count": null,
            "_view_module": "@jupyter-widgets/base",
            "_view_module_version": "1.2.0",
            "_view_name": "StyleView",
            "bar_color": null,
            "description_width": ""
          }
        },
        "49b72c3f13db487f976083d613125515": {
          "model_module": "@jupyter-widgets/base",
          "model_name": "LayoutModel",
          "model_module_version": "1.2.0",
          "state": {
            "_model_module": "@jupyter-widgets/base",
            "_model_module_version": "1.2.0",
            "_model_name": "LayoutModel",
            "_view_count": null,
            "_view_module": "@jupyter-widgets/base",
            "_view_module_version": "1.2.0",
            "_view_name": "LayoutView",
            "align_content": null,
            "align_items": null,
            "align_self": null,
            "border": null,
            "bottom": null,
            "display": null,
            "flex": null,
            "flex_flow": null,
            "grid_area": null,
            "grid_auto_columns": null,
            "grid_auto_flow": null,
            "grid_auto_rows": null,
            "grid_column": null,
            "grid_gap": null,
            "grid_row": null,
            "grid_template_areas": null,
            "grid_template_columns": null,
            "grid_template_rows": null,
            "height": null,
            "justify_content": null,
            "justify_items": null,
            "left": null,
            "margin": null,
            "max_height": null,
            "max_width": null,
            "min_height": null,
            "min_width": null,
            "object_fit": null,
            "object_position": null,
            "order": null,
            "overflow": null,
            "overflow_x": null,
            "overflow_y": null,
            "padding": null,
            "right": null,
            "top": null,
            "visibility": null,
            "width": null
          }
        },
        "164dbd805b4f404b8d351a88aae4a4c5": {
          "model_module": "@jupyter-widgets/controls",
          "model_name": "DescriptionStyleModel",
          "model_module_version": "1.5.0",
          "state": {
            "_model_module": "@jupyter-widgets/controls",
            "_model_module_version": "1.5.0",
            "_model_name": "DescriptionStyleModel",
            "_view_count": null,
            "_view_module": "@jupyter-widgets/base",
            "_view_module_version": "1.2.0",
            "_view_name": "StyleView",
            "description_width": ""
          }
        },
        "eaef3d25204d4349b1640a3972b2b409": {
          "model_module": "@jupyter-widgets/controls",
          "model_name": "HBoxModel",
          "model_module_version": "1.5.0",
          "state": {
            "_dom_classes": [],
            "_model_module": "@jupyter-widgets/controls",
            "_model_module_version": "1.5.0",
            "_model_name": "HBoxModel",
            "_view_count": null,
            "_view_module": "@jupyter-widgets/controls",
            "_view_module_version": "1.5.0",
            "_view_name": "HBoxView",
            "box_style": "",
            "children": [
              "IPY_MODEL_e43c339524ab420cbbbd7cdfe850b01e",
              "IPY_MODEL_cc98469c4eff4a0983899ab8dbc8eaaa",
              "IPY_MODEL_e6541e34d5124e4eb8899fb825620ad5"
            ],
            "layout": "IPY_MODEL_09b5b0b95eca430abacac13e6cb99d2c"
          }
        },
        "e43c339524ab420cbbbd7cdfe850b01e": {
          "model_module": "@jupyter-widgets/controls",
          "model_name": "HTMLModel",
          "model_module_version": "1.5.0",
          "state": {
            "_dom_classes": [],
            "_model_module": "@jupyter-widgets/controls",
            "_model_module_version": "1.5.0",
            "_model_name": "HTMLModel",
            "_view_count": null,
            "_view_module": "@jupyter-widgets/controls",
            "_view_module_version": "1.5.0",
            "_view_name": "HTMLView",
            "description": "",
            "description_tooltip": null,
            "layout": "IPY_MODEL_e8e8a2e50ddc49cfab55e074779bd697",
            "placeholder": "​",
            "style": "IPY_MODEL_20e0cc70c9744bbaad6880dda7f8687f",
            "value": "Map: 100%"
          }
        },
        "cc98469c4eff4a0983899ab8dbc8eaaa": {
          "model_module": "@jupyter-widgets/controls",
          "model_name": "FloatProgressModel",
          "model_module_version": "1.5.0",
          "state": {
            "_dom_classes": [],
            "_model_module": "@jupyter-widgets/controls",
            "_model_module_version": "1.5.0",
            "_model_name": "FloatProgressModel",
            "_view_count": null,
            "_view_module": "@jupyter-widgets/controls",
            "_view_module_version": "1.5.0",
            "_view_name": "ProgressView",
            "bar_style": "success",
            "description": "",
            "description_tooltip": null,
            "layout": "IPY_MODEL_8f75d3322849497d93b75c93ac081530",
            "max": 29000,
            "min": 0,
            "orientation": "horizontal",
            "style": "IPY_MODEL_1f04a628977f4d1eb28b06684531288a",
            "value": 29000
          }
        },
        "e6541e34d5124e4eb8899fb825620ad5": {
          "model_module": "@jupyter-widgets/controls",
          "model_name": "HTMLModel",
          "model_module_version": "1.5.0",
          "state": {
            "_dom_classes": [],
            "_model_module": "@jupyter-widgets/controls",
            "_model_module_version": "1.5.0",
            "_model_name": "HTMLModel",
            "_view_count": null,
            "_view_module": "@jupyter-widgets/controls",
            "_view_module_version": "1.5.0",
            "_view_name": "HTMLView",
            "description": "",
            "description_tooltip": null,
            "layout": "IPY_MODEL_db1d6f1e6c894b7aa83a50d7bae63015",
            "placeholder": "​",
            "style": "IPY_MODEL_b5b8a0aae1744ba6a47fc56e5155cd0a",
            "value": " 29000/29000 [00:12&lt;00:00, 2195.40 examples/s]"
          }
        },
        "09b5b0b95eca430abacac13e6cb99d2c": {
          "model_module": "@jupyter-widgets/base",
          "model_name": "LayoutModel",
          "model_module_version": "1.2.0",
          "state": {
            "_model_module": "@jupyter-widgets/base",
            "_model_module_version": "1.2.0",
            "_model_name": "LayoutModel",
            "_view_count": null,
            "_view_module": "@jupyter-widgets/base",
            "_view_module_version": "1.2.0",
            "_view_name": "LayoutView",
            "align_content": null,
            "align_items": null,
            "align_self": null,
            "border": null,
            "bottom": null,
            "display": null,
            "flex": null,
            "flex_flow": null,
            "grid_area": null,
            "grid_auto_columns": null,
            "grid_auto_flow": null,
            "grid_auto_rows": null,
            "grid_column": null,
            "grid_gap": null,
            "grid_row": null,
            "grid_template_areas": null,
            "grid_template_columns": null,
            "grid_template_rows": null,
            "height": null,
            "justify_content": null,
            "justify_items": null,
            "left": null,
            "margin": null,
            "max_height": null,
            "max_width": null,
            "min_height": null,
            "min_width": null,
            "object_fit": null,
            "object_position": null,
            "order": null,
            "overflow": null,
            "overflow_x": null,
            "overflow_y": null,
            "padding": null,
            "right": null,
            "top": null,
            "visibility": null,
            "width": null
          }
        },
        "e8e8a2e50ddc49cfab55e074779bd697": {
          "model_module": "@jupyter-widgets/base",
          "model_name": "LayoutModel",
          "model_module_version": "1.2.0",
          "state": {
            "_model_module": "@jupyter-widgets/base",
            "_model_module_version": "1.2.0",
            "_model_name": "LayoutModel",
            "_view_count": null,
            "_view_module": "@jupyter-widgets/base",
            "_view_module_version": "1.2.0",
            "_view_name": "LayoutView",
            "align_content": null,
            "align_items": null,
            "align_self": null,
            "border": null,
            "bottom": null,
            "display": null,
            "flex": null,
            "flex_flow": null,
            "grid_area": null,
            "grid_auto_columns": null,
            "grid_auto_flow": null,
            "grid_auto_rows": null,
            "grid_column": null,
            "grid_gap": null,
            "grid_row": null,
            "grid_template_areas": null,
            "grid_template_columns": null,
            "grid_template_rows": null,
            "height": null,
            "justify_content": null,
            "justify_items": null,
            "left": null,
            "margin": null,
            "max_height": null,
            "max_width": null,
            "min_height": null,
            "min_width": null,
            "object_fit": null,
            "object_position": null,
            "order": null,
            "overflow": null,
            "overflow_x": null,
            "overflow_y": null,
            "padding": null,
            "right": null,
            "top": null,
            "visibility": null,
            "width": null
          }
        },
        "20e0cc70c9744bbaad6880dda7f8687f": {
          "model_module": "@jupyter-widgets/controls",
          "model_name": "DescriptionStyleModel",
          "model_module_version": "1.5.0",
          "state": {
            "_model_module": "@jupyter-widgets/controls",
            "_model_module_version": "1.5.0",
            "_model_name": "DescriptionStyleModel",
            "_view_count": null,
            "_view_module": "@jupyter-widgets/base",
            "_view_module_version": "1.2.0",
            "_view_name": "StyleView",
            "description_width": ""
          }
        },
        "8f75d3322849497d93b75c93ac081530": {
          "model_module": "@jupyter-widgets/base",
          "model_name": "LayoutModel",
          "model_module_version": "1.2.0",
          "state": {
            "_model_module": "@jupyter-widgets/base",
            "_model_module_version": "1.2.0",
            "_model_name": "LayoutModel",
            "_view_count": null,
            "_view_module": "@jupyter-widgets/base",
            "_view_module_version": "1.2.0",
            "_view_name": "LayoutView",
            "align_content": null,
            "align_items": null,
            "align_self": null,
            "border": null,
            "bottom": null,
            "display": null,
            "flex": null,
            "flex_flow": null,
            "grid_area": null,
            "grid_auto_columns": null,
            "grid_auto_flow": null,
            "grid_auto_rows": null,
            "grid_column": null,
            "grid_gap": null,
            "grid_row": null,
            "grid_template_areas": null,
            "grid_template_columns": null,
            "grid_template_rows": null,
            "height": null,
            "justify_content": null,
            "justify_items": null,
            "left": null,
            "margin": null,
            "max_height": null,
            "max_width": null,
            "min_height": null,
            "min_width": null,
            "object_fit": null,
            "object_position": null,
            "order": null,
            "overflow": null,
            "overflow_x": null,
            "overflow_y": null,
            "padding": null,
            "right": null,
            "top": null,
            "visibility": null,
            "width": null
          }
        },
        "1f04a628977f4d1eb28b06684531288a": {
          "model_module": "@jupyter-widgets/controls",
          "model_name": "ProgressStyleModel",
          "model_module_version": "1.5.0",
          "state": {
            "_model_module": "@jupyter-widgets/controls",
            "_model_module_version": "1.5.0",
            "_model_name": "ProgressStyleModel",
            "_view_count": null,
            "_view_module": "@jupyter-widgets/base",
            "_view_module_version": "1.2.0",
            "_view_name": "StyleView",
            "bar_color": null,
            "description_width": ""
          }
        },
        "db1d6f1e6c894b7aa83a50d7bae63015": {
          "model_module": "@jupyter-widgets/base",
          "model_name": "LayoutModel",
          "model_module_version": "1.2.0",
          "state": {
            "_model_module": "@jupyter-widgets/base",
            "_model_module_version": "1.2.0",
            "_model_name": "LayoutModel",
            "_view_count": null,
            "_view_module": "@jupyter-widgets/base",
            "_view_module_version": "1.2.0",
            "_view_name": "LayoutView",
            "align_content": null,
            "align_items": null,
            "align_self": null,
            "border": null,
            "bottom": null,
            "display": null,
            "flex": null,
            "flex_flow": null,
            "grid_area": null,
            "grid_auto_columns": null,
            "grid_auto_flow": null,
            "grid_auto_rows": null,
            "grid_column": null,
            "grid_gap": null,
            "grid_row": null,
            "grid_template_areas": null,
            "grid_template_columns": null,
            "grid_template_rows": null,
            "height": null,
            "justify_content": null,
            "justify_items": null,
            "left": null,
            "margin": null,
            "max_height": null,
            "max_width": null,
            "min_height": null,
            "min_width": null,
            "object_fit": null,
            "object_position": null,
            "order": null,
            "overflow": null,
            "overflow_x": null,
            "overflow_y": null,
            "padding": null,
            "right": null,
            "top": null,
            "visibility": null,
            "width": null
          }
        },
        "b5b8a0aae1744ba6a47fc56e5155cd0a": {
          "model_module": "@jupyter-widgets/controls",
          "model_name": "DescriptionStyleModel",
          "model_module_version": "1.5.0",
          "state": {
            "_model_module": "@jupyter-widgets/controls",
            "_model_module_version": "1.5.0",
            "_model_name": "DescriptionStyleModel",
            "_view_count": null,
            "_view_module": "@jupyter-widgets/base",
            "_view_module_version": "1.2.0",
            "_view_name": "StyleView",
            "description_width": ""
          }
        },
        "e59bc29279ab4b629aba7dae8c3ba339": {
          "model_module": "@jupyter-widgets/controls",
          "model_name": "HBoxModel",
          "model_module_version": "1.5.0",
          "state": {
            "_dom_classes": [],
            "_model_module": "@jupyter-widgets/controls",
            "_model_module_version": "1.5.0",
            "_model_name": "HBoxModel",
            "_view_count": null,
            "_view_module": "@jupyter-widgets/controls",
            "_view_module_version": "1.5.0",
            "_view_name": "HBoxView",
            "box_style": "",
            "children": [
              "IPY_MODEL_9429df9b092340bb956e98c0b92a3cd6",
              "IPY_MODEL_a3229c3c15a949acb3986239d314165b",
              "IPY_MODEL_917bac1e8cc6424f9a3b66eb79af59fc"
            ],
            "layout": "IPY_MODEL_3e743499fc714e5091e0813c4c30e2c5"
          }
        },
        "9429df9b092340bb956e98c0b92a3cd6": {
          "model_module": "@jupyter-widgets/controls",
          "model_name": "HTMLModel",
          "model_module_version": "1.5.0",
          "state": {
            "_dom_classes": [],
            "_model_module": "@jupyter-widgets/controls",
            "_model_module_version": "1.5.0",
            "_model_name": "HTMLModel",
            "_view_count": null,
            "_view_module": "@jupyter-widgets/controls",
            "_view_module_version": "1.5.0",
            "_view_name": "HTMLView",
            "description": "",
            "description_tooltip": null,
            "layout": "IPY_MODEL_39ec4175a98e428ea06343bb08c5a0cc",
            "placeholder": "​",
            "style": "IPY_MODEL_8f73e037e6c84b27bee5572410901512",
            "value": "Map: 100%"
          }
        },
        "a3229c3c15a949acb3986239d314165b": {
          "model_module": "@jupyter-widgets/controls",
          "model_name": "FloatProgressModel",
          "model_module_version": "1.5.0",
          "state": {
            "_dom_classes": [],
            "_model_module": "@jupyter-widgets/controls",
            "_model_module_version": "1.5.0",
            "_model_name": "FloatProgressModel",
            "_view_count": null,
            "_view_module": "@jupyter-widgets/controls",
            "_view_module_version": "1.5.0",
            "_view_name": "ProgressView",
            "bar_style": "success",
            "description": "",
            "description_tooltip": null,
            "layout": "IPY_MODEL_7502cfaa08b647e3988149b15c810154",
            "max": 1014,
            "min": 0,
            "orientation": "horizontal",
            "style": "IPY_MODEL_308116da69d84a0f813ffcf9a8088f05",
            "value": 1014
          }
        },
        "917bac1e8cc6424f9a3b66eb79af59fc": {
          "model_module": "@jupyter-widgets/controls",
          "model_name": "HTMLModel",
          "model_module_version": "1.5.0",
          "state": {
            "_dom_classes": [],
            "_model_module": "@jupyter-widgets/controls",
            "_model_module_version": "1.5.0",
            "_model_name": "HTMLModel",
            "_view_count": null,
            "_view_module": "@jupyter-widgets/controls",
            "_view_module_version": "1.5.0",
            "_view_name": "HTMLView",
            "description": "",
            "description_tooltip": null,
            "layout": "IPY_MODEL_24203cec9ea24064978947bf014d2af5",
            "placeholder": "​",
            "style": "IPY_MODEL_2b10abd0b2e343c2baff9085dfe46cae",
            "value": " 1014/1014 [00:00&lt;00:00, 1988.34 examples/s]"
          }
        },
        "3e743499fc714e5091e0813c4c30e2c5": {
          "model_module": "@jupyter-widgets/base",
          "model_name": "LayoutModel",
          "model_module_version": "1.2.0",
          "state": {
            "_model_module": "@jupyter-widgets/base",
            "_model_module_version": "1.2.0",
            "_model_name": "LayoutModel",
            "_view_count": null,
            "_view_module": "@jupyter-widgets/base",
            "_view_module_version": "1.2.0",
            "_view_name": "LayoutView",
            "align_content": null,
            "align_items": null,
            "align_self": null,
            "border": null,
            "bottom": null,
            "display": null,
            "flex": null,
            "flex_flow": null,
            "grid_area": null,
            "grid_auto_columns": null,
            "grid_auto_flow": null,
            "grid_auto_rows": null,
            "grid_column": null,
            "grid_gap": null,
            "grid_row": null,
            "grid_template_areas": null,
            "grid_template_columns": null,
            "grid_template_rows": null,
            "height": null,
            "justify_content": null,
            "justify_items": null,
            "left": null,
            "margin": null,
            "max_height": null,
            "max_width": null,
            "min_height": null,
            "min_width": null,
            "object_fit": null,
            "object_position": null,
            "order": null,
            "overflow": null,
            "overflow_x": null,
            "overflow_y": null,
            "padding": null,
            "right": null,
            "top": null,
            "visibility": null,
            "width": null
          }
        },
        "39ec4175a98e428ea06343bb08c5a0cc": {
          "model_module": "@jupyter-widgets/base",
          "model_name": "LayoutModel",
          "model_module_version": "1.2.0",
          "state": {
            "_model_module": "@jupyter-widgets/base",
            "_model_module_version": "1.2.0",
            "_model_name": "LayoutModel",
            "_view_count": null,
            "_view_module": "@jupyter-widgets/base",
            "_view_module_version": "1.2.0",
            "_view_name": "LayoutView",
            "align_content": null,
            "align_items": null,
            "align_self": null,
            "border": null,
            "bottom": null,
            "display": null,
            "flex": null,
            "flex_flow": null,
            "grid_area": null,
            "grid_auto_columns": null,
            "grid_auto_flow": null,
            "grid_auto_rows": null,
            "grid_column": null,
            "grid_gap": null,
            "grid_row": null,
            "grid_template_areas": null,
            "grid_template_columns": null,
            "grid_template_rows": null,
            "height": null,
            "justify_content": null,
            "justify_items": null,
            "left": null,
            "margin": null,
            "max_height": null,
            "max_width": null,
            "min_height": null,
            "min_width": null,
            "object_fit": null,
            "object_position": null,
            "order": null,
            "overflow": null,
            "overflow_x": null,
            "overflow_y": null,
            "padding": null,
            "right": null,
            "top": null,
            "visibility": null,
            "width": null
          }
        },
        "8f73e037e6c84b27bee5572410901512": {
          "model_module": "@jupyter-widgets/controls",
          "model_name": "DescriptionStyleModel",
          "model_module_version": "1.5.0",
          "state": {
            "_model_module": "@jupyter-widgets/controls",
            "_model_module_version": "1.5.0",
            "_model_name": "DescriptionStyleModel",
            "_view_count": null,
            "_view_module": "@jupyter-widgets/base",
            "_view_module_version": "1.2.0",
            "_view_name": "StyleView",
            "description_width": ""
          }
        },
        "7502cfaa08b647e3988149b15c810154": {
          "model_module": "@jupyter-widgets/base",
          "model_name": "LayoutModel",
          "model_module_version": "1.2.0",
          "state": {
            "_model_module": "@jupyter-widgets/base",
            "_model_module_version": "1.2.0",
            "_model_name": "LayoutModel",
            "_view_count": null,
            "_view_module": "@jupyter-widgets/base",
            "_view_module_version": "1.2.0",
            "_view_name": "LayoutView",
            "align_content": null,
            "align_items": null,
            "align_self": null,
            "border": null,
            "bottom": null,
            "display": null,
            "flex": null,
            "flex_flow": null,
            "grid_area": null,
            "grid_auto_columns": null,
            "grid_auto_flow": null,
            "grid_auto_rows": null,
            "grid_column": null,
            "grid_gap": null,
            "grid_row": null,
            "grid_template_areas": null,
            "grid_template_columns": null,
            "grid_template_rows": null,
            "height": null,
            "justify_content": null,
            "justify_items": null,
            "left": null,
            "margin": null,
            "max_height": null,
            "max_width": null,
            "min_height": null,
            "min_width": null,
            "object_fit": null,
            "object_position": null,
            "order": null,
            "overflow": null,
            "overflow_x": null,
            "overflow_y": null,
            "padding": null,
            "right": null,
            "top": null,
            "visibility": null,
            "width": null
          }
        },
        "308116da69d84a0f813ffcf9a8088f05": {
          "model_module": "@jupyter-widgets/controls",
          "model_name": "ProgressStyleModel",
          "model_module_version": "1.5.0",
          "state": {
            "_model_module": "@jupyter-widgets/controls",
            "_model_module_version": "1.5.0",
            "_model_name": "ProgressStyleModel",
            "_view_count": null,
            "_view_module": "@jupyter-widgets/base",
            "_view_module_version": "1.2.0",
            "_view_name": "StyleView",
            "bar_color": null,
            "description_width": ""
          }
        },
        "24203cec9ea24064978947bf014d2af5": {
          "model_module": "@jupyter-widgets/base",
          "model_name": "LayoutModel",
          "model_module_version": "1.2.0",
          "state": {
            "_model_module": "@jupyter-widgets/base",
            "_model_module_version": "1.2.0",
            "_model_name": "LayoutModel",
            "_view_count": null,
            "_view_module": "@jupyter-widgets/base",
            "_view_module_version": "1.2.0",
            "_view_name": "LayoutView",
            "align_content": null,
            "align_items": null,
            "align_self": null,
            "border": null,
            "bottom": null,
            "display": null,
            "flex": null,
            "flex_flow": null,
            "grid_area": null,
            "grid_auto_columns": null,
            "grid_auto_flow": null,
            "grid_auto_rows": null,
            "grid_column": null,
            "grid_gap": null,
            "grid_row": null,
            "grid_template_areas": null,
            "grid_template_columns": null,
            "grid_template_rows": null,
            "height": null,
            "justify_content": null,
            "justify_items": null,
            "left": null,
            "margin": null,
            "max_height": null,
            "max_width": null,
            "min_height": null,
            "min_width": null,
            "object_fit": null,
            "object_position": null,
            "order": null,
            "overflow": null,
            "overflow_x": null,
            "overflow_y": null,
            "padding": null,
            "right": null,
            "top": null,
            "visibility": null,
            "width": null
          }
        },
        "2b10abd0b2e343c2baff9085dfe46cae": {
          "model_module": "@jupyter-widgets/controls",
          "model_name": "DescriptionStyleModel",
          "model_module_version": "1.5.0",
          "state": {
            "_model_module": "@jupyter-widgets/controls",
            "_model_module_version": "1.5.0",
            "_model_name": "DescriptionStyleModel",
            "_view_count": null,
            "_view_module": "@jupyter-widgets/base",
            "_view_module_version": "1.2.0",
            "_view_name": "StyleView",
            "description_width": ""
          }
        },
        "aca73b0648384641bda2ce0a5cb7d118": {
          "model_module": "@jupyter-widgets/controls",
          "model_name": "HBoxModel",
          "model_module_version": "1.5.0",
          "state": {
            "_dom_classes": [],
            "_model_module": "@jupyter-widgets/controls",
            "_model_module_version": "1.5.0",
            "_model_name": "HBoxModel",
            "_view_count": null,
            "_view_module": "@jupyter-widgets/controls",
            "_view_module_version": "1.5.0",
            "_view_name": "HBoxView",
            "box_style": "",
            "children": [
              "IPY_MODEL_24de4d6ac43d44eba66192c396a2ccca",
              "IPY_MODEL_d9f73cdf510845cb8fb0ae47e13071dc",
              "IPY_MODEL_cd51fa88a59749039b1f783698399e83"
            ],
            "layout": "IPY_MODEL_b136871d31544881b47d24ec0c79be31"
          }
        },
        "24de4d6ac43d44eba66192c396a2ccca": {
          "model_module": "@jupyter-widgets/controls",
          "model_name": "HTMLModel",
          "model_module_version": "1.5.0",
          "state": {
            "_dom_classes": [],
            "_model_module": "@jupyter-widgets/controls",
            "_model_module_version": "1.5.0",
            "_model_name": "HTMLModel",
            "_view_count": null,
            "_view_module": "@jupyter-widgets/controls",
            "_view_module_version": "1.5.0",
            "_view_name": "HTMLView",
            "description": "",
            "description_tooltip": null,
            "layout": "IPY_MODEL_b51645d7004f47dda7c627ca4d32c73a",
            "placeholder": "​",
            "style": "IPY_MODEL_5cb210c89e7a4b918ef5780588f46732",
            "value": "Map: 100%"
          }
        },
        "d9f73cdf510845cb8fb0ae47e13071dc": {
          "model_module": "@jupyter-widgets/controls",
          "model_name": "FloatProgressModel",
          "model_module_version": "1.5.0",
          "state": {
            "_dom_classes": [],
            "_model_module": "@jupyter-widgets/controls",
            "_model_module_version": "1.5.0",
            "_model_name": "FloatProgressModel",
            "_view_count": null,
            "_view_module": "@jupyter-widgets/controls",
            "_view_module_version": "1.5.0",
            "_view_name": "ProgressView",
            "bar_style": "success",
            "description": "",
            "description_tooltip": null,
            "layout": "IPY_MODEL_1271171e84c24915bbb86f9b2da8303f",
            "max": 1000,
            "min": 0,
            "orientation": "horizontal",
            "style": "IPY_MODEL_8cc0b287967f42f89808f8748bd102ea",
            "value": 1000
          }
        },
        "cd51fa88a59749039b1f783698399e83": {
          "model_module": "@jupyter-widgets/controls",
          "model_name": "HTMLModel",
          "model_module_version": "1.5.0",
          "state": {
            "_dom_classes": [],
            "_model_module": "@jupyter-widgets/controls",
            "_model_module_version": "1.5.0",
            "_model_name": "HTMLModel",
            "_view_count": null,
            "_view_module": "@jupyter-widgets/controls",
            "_view_module_version": "1.5.0",
            "_view_name": "HTMLView",
            "description": "",
            "description_tooltip": null,
            "layout": "IPY_MODEL_55782b1373734ff4a2cc3ddec90b1177",
            "placeholder": "​",
            "style": "IPY_MODEL_97dee582f45140c695632a0000deea22",
            "value": " 1000/1000 [00:00&lt;00:00, 1365.35 examples/s]"
          }
        },
        "b136871d31544881b47d24ec0c79be31": {
          "model_module": "@jupyter-widgets/base",
          "model_name": "LayoutModel",
          "model_module_version": "1.2.0",
          "state": {
            "_model_module": "@jupyter-widgets/base",
            "_model_module_version": "1.2.0",
            "_model_name": "LayoutModel",
            "_view_count": null,
            "_view_module": "@jupyter-widgets/base",
            "_view_module_version": "1.2.0",
            "_view_name": "LayoutView",
            "align_content": null,
            "align_items": null,
            "align_self": null,
            "border": null,
            "bottom": null,
            "display": null,
            "flex": null,
            "flex_flow": null,
            "grid_area": null,
            "grid_auto_columns": null,
            "grid_auto_flow": null,
            "grid_auto_rows": null,
            "grid_column": null,
            "grid_gap": null,
            "grid_row": null,
            "grid_template_areas": null,
            "grid_template_columns": null,
            "grid_template_rows": null,
            "height": null,
            "justify_content": null,
            "justify_items": null,
            "left": null,
            "margin": null,
            "max_height": null,
            "max_width": null,
            "min_height": null,
            "min_width": null,
            "object_fit": null,
            "object_position": null,
            "order": null,
            "overflow": null,
            "overflow_x": null,
            "overflow_y": null,
            "padding": null,
            "right": null,
            "top": null,
            "visibility": null,
            "width": null
          }
        },
        "b51645d7004f47dda7c627ca4d32c73a": {
          "model_module": "@jupyter-widgets/base",
          "model_name": "LayoutModel",
          "model_module_version": "1.2.0",
          "state": {
            "_model_module": "@jupyter-widgets/base",
            "_model_module_version": "1.2.0",
            "_model_name": "LayoutModel",
            "_view_count": null,
            "_view_module": "@jupyter-widgets/base",
            "_view_module_version": "1.2.0",
            "_view_name": "LayoutView",
            "align_content": null,
            "align_items": null,
            "align_self": null,
            "border": null,
            "bottom": null,
            "display": null,
            "flex": null,
            "flex_flow": null,
            "grid_area": null,
            "grid_auto_columns": null,
            "grid_auto_flow": null,
            "grid_auto_rows": null,
            "grid_column": null,
            "grid_gap": null,
            "grid_row": null,
            "grid_template_areas": null,
            "grid_template_columns": null,
            "grid_template_rows": null,
            "height": null,
            "justify_content": null,
            "justify_items": null,
            "left": null,
            "margin": null,
            "max_height": null,
            "max_width": null,
            "min_height": null,
            "min_width": null,
            "object_fit": null,
            "object_position": null,
            "order": null,
            "overflow": null,
            "overflow_x": null,
            "overflow_y": null,
            "padding": null,
            "right": null,
            "top": null,
            "visibility": null,
            "width": null
          }
        },
        "5cb210c89e7a4b918ef5780588f46732": {
          "model_module": "@jupyter-widgets/controls",
          "model_name": "DescriptionStyleModel",
          "model_module_version": "1.5.0",
          "state": {
            "_model_module": "@jupyter-widgets/controls",
            "_model_module_version": "1.5.0",
            "_model_name": "DescriptionStyleModel",
            "_view_count": null,
            "_view_module": "@jupyter-widgets/base",
            "_view_module_version": "1.2.0",
            "_view_name": "StyleView",
            "description_width": ""
          }
        },
        "1271171e84c24915bbb86f9b2da8303f": {
          "model_module": "@jupyter-widgets/base",
          "model_name": "LayoutModel",
          "model_module_version": "1.2.0",
          "state": {
            "_model_module": "@jupyter-widgets/base",
            "_model_module_version": "1.2.0",
            "_model_name": "LayoutModel",
            "_view_count": null,
            "_view_module": "@jupyter-widgets/base",
            "_view_module_version": "1.2.0",
            "_view_name": "LayoutView",
            "align_content": null,
            "align_items": null,
            "align_self": null,
            "border": null,
            "bottom": null,
            "display": null,
            "flex": null,
            "flex_flow": null,
            "grid_area": null,
            "grid_auto_columns": null,
            "grid_auto_flow": null,
            "grid_auto_rows": null,
            "grid_column": null,
            "grid_gap": null,
            "grid_row": null,
            "grid_template_areas": null,
            "grid_template_columns": null,
            "grid_template_rows": null,
            "height": null,
            "justify_content": null,
            "justify_items": null,
            "left": null,
            "margin": null,
            "max_height": null,
            "max_width": null,
            "min_height": null,
            "min_width": null,
            "object_fit": null,
            "object_position": null,
            "order": null,
            "overflow": null,
            "overflow_x": null,
            "overflow_y": null,
            "padding": null,
            "right": null,
            "top": null,
            "visibility": null,
            "width": null
          }
        },
        "8cc0b287967f42f89808f8748bd102ea": {
          "model_module": "@jupyter-widgets/controls",
          "model_name": "ProgressStyleModel",
          "model_module_version": "1.5.0",
          "state": {
            "_model_module": "@jupyter-widgets/controls",
            "_model_module_version": "1.5.0",
            "_model_name": "ProgressStyleModel",
            "_view_count": null,
            "_view_module": "@jupyter-widgets/base",
            "_view_module_version": "1.2.0",
            "_view_name": "StyleView",
            "bar_color": null,
            "description_width": ""
          }
        },
        "55782b1373734ff4a2cc3ddec90b1177": {
          "model_module": "@jupyter-widgets/base",
          "model_name": "LayoutModel",
          "model_module_version": "1.2.0",
          "state": {
            "_model_module": "@jupyter-widgets/base",
            "_model_module_version": "1.2.0",
            "_model_name": "LayoutModel",
            "_view_count": null,
            "_view_module": "@jupyter-widgets/base",
            "_view_module_version": "1.2.0",
            "_view_name": "LayoutView",
            "align_content": null,
            "align_items": null,
            "align_self": null,
            "border": null,
            "bottom": null,
            "display": null,
            "flex": null,
            "flex_flow": null,
            "grid_area": null,
            "grid_auto_columns": null,
            "grid_auto_flow": null,
            "grid_auto_rows": null,
            "grid_column": null,
            "grid_gap": null,
            "grid_row": null,
            "grid_template_areas": null,
            "grid_template_columns": null,
            "grid_template_rows": null,
            "height": null,
            "justify_content": null,
            "justify_items": null,
            "left": null,
            "margin": null,
            "max_height": null,
            "max_width": null,
            "min_height": null,
            "min_width": null,
            "object_fit": null,
            "object_position": null,
            "order": null,
            "overflow": null,
            "overflow_x": null,
            "overflow_y": null,
            "padding": null,
            "right": null,
            "top": null,
            "visibility": null,
            "width": null
          }
        },
        "97dee582f45140c695632a0000deea22": {
          "model_module": "@jupyter-widgets/controls",
          "model_name": "DescriptionStyleModel",
          "model_module_version": "1.5.0",
          "state": {
            "_model_module": "@jupyter-widgets/controls",
            "_model_module_version": "1.5.0",
            "_model_name": "DescriptionStyleModel",
            "_view_count": null,
            "_view_module": "@jupyter-widgets/base",
            "_view_module_version": "1.2.0",
            "_view_name": "StyleView",
            "description_width": ""
          }
        },
        "977716d360a24c069253a2a7a8f790c0": {
          "model_module": "@jupyter-widgets/controls",
          "model_name": "HBoxModel",
          "model_module_version": "1.5.0",
          "state": {
            "_dom_classes": [],
            "_model_module": "@jupyter-widgets/controls",
            "_model_module_version": "1.5.0",
            "_model_name": "HBoxModel",
            "_view_count": null,
            "_view_module": "@jupyter-widgets/controls",
            "_view_module_version": "1.5.0",
            "_view_name": "HBoxView",
            "box_style": "",
            "children": [
              "IPY_MODEL_eee7e78f096d46b2b4cd2c3c64578a72",
              "IPY_MODEL_44e9e5e549074374bd2a5e88be9d891f",
              "IPY_MODEL_b78fbc541ce24fc1996ab114da135a39"
            ],
            "layout": "IPY_MODEL_b67c5a31b7824c3c91a9e3d8f84cbcb9"
          }
        },
        "eee7e78f096d46b2b4cd2c3c64578a72": {
          "model_module": "@jupyter-widgets/controls",
          "model_name": "HTMLModel",
          "model_module_version": "1.5.0",
          "state": {
            "_dom_classes": [],
            "_model_module": "@jupyter-widgets/controls",
            "_model_module_version": "1.5.0",
            "_model_name": "HTMLModel",
            "_view_count": null,
            "_view_module": "@jupyter-widgets/controls",
            "_view_module_version": "1.5.0",
            "_view_name": "HTMLView",
            "description": "",
            "description_tooltip": null,
            "layout": "IPY_MODEL_da0eeb897cc241e7afb65d8bbea7e33a",
            "placeholder": "​",
            "style": "IPY_MODEL_9a7b14fb1ed04f36a05c229e1232996c",
            "value": "Map: 100%"
          }
        },
        "44e9e5e549074374bd2a5e88be9d891f": {
          "model_module": "@jupyter-widgets/controls",
          "model_name": "FloatProgressModel",
          "model_module_version": "1.5.0",
          "state": {
            "_dom_classes": [],
            "_model_module": "@jupyter-widgets/controls",
            "_model_module_version": "1.5.0",
            "_model_name": "FloatProgressModel",
            "_view_count": null,
            "_view_module": "@jupyter-widgets/controls",
            "_view_module_version": "1.5.0",
            "_view_name": "ProgressView",
            "bar_style": "success",
            "description": "",
            "description_tooltip": null,
            "layout": "IPY_MODEL_641dac2464954ebabf61c001c2f617fb",
            "max": 29000,
            "min": 0,
            "orientation": "horizontal",
            "style": "IPY_MODEL_b8686fa96dd6435d8c8065ca161200b4",
            "value": 29000
          }
        },
        "b78fbc541ce24fc1996ab114da135a39": {
          "model_module": "@jupyter-widgets/controls",
          "model_name": "HTMLModel",
          "model_module_version": "1.5.0",
          "state": {
            "_dom_classes": [],
            "_model_module": "@jupyter-widgets/controls",
            "_model_module_version": "1.5.0",
            "_model_name": "HTMLModel",
            "_view_count": null,
            "_view_module": "@jupyter-widgets/controls",
            "_view_module_version": "1.5.0",
            "_view_name": "HTMLView",
            "description": "",
            "description_tooltip": null,
            "layout": "IPY_MODEL_19bbb9e84ff14f2f81ec972f3913fe04",
            "placeholder": "​",
            "style": "IPY_MODEL_674b8a19701e4e8a8c570431e8b179e1",
            "value": " 29000/29000 [00:04&lt;00:00, 7971.61 examples/s]"
          }
        },
        "b67c5a31b7824c3c91a9e3d8f84cbcb9": {
          "model_module": "@jupyter-widgets/base",
          "model_name": "LayoutModel",
          "model_module_version": "1.2.0",
          "state": {
            "_model_module": "@jupyter-widgets/base",
            "_model_module_version": "1.2.0",
            "_model_name": "LayoutModel",
            "_view_count": null,
            "_view_module": "@jupyter-widgets/base",
            "_view_module_version": "1.2.0",
            "_view_name": "LayoutView",
            "align_content": null,
            "align_items": null,
            "align_self": null,
            "border": null,
            "bottom": null,
            "display": null,
            "flex": null,
            "flex_flow": null,
            "grid_area": null,
            "grid_auto_columns": null,
            "grid_auto_flow": null,
            "grid_auto_rows": null,
            "grid_column": null,
            "grid_gap": null,
            "grid_row": null,
            "grid_template_areas": null,
            "grid_template_columns": null,
            "grid_template_rows": null,
            "height": null,
            "justify_content": null,
            "justify_items": null,
            "left": null,
            "margin": null,
            "max_height": null,
            "max_width": null,
            "min_height": null,
            "min_width": null,
            "object_fit": null,
            "object_position": null,
            "order": null,
            "overflow": null,
            "overflow_x": null,
            "overflow_y": null,
            "padding": null,
            "right": null,
            "top": null,
            "visibility": null,
            "width": null
          }
        },
        "da0eeb897cc241e7afb65d8bbea7e33a": {
          "model_module": "@jupyter-widgets/base",
          "model_name": "LayoutModel",
          "model_module_version": "1.2.0",
          "state": {
            "_model_module": "@jupyter-widgets/base",
            "_model_module_version": "1.2.0",
            "_model_name": "LayoutModel",
            "_view_count": null,
            "_view_module": "@jupyter-widgets/base",
            "_view_module_version": "1.2.0",
            "_view_name": "LayoutView",
            "align_content": null,
            "align_items": null,
            "align_self": null,
            "border": null,
            "bottom": null,
            "display": null,
            "flex": null,
            "flex_flow": null,
            "grid_area": null,
            "grid_auto_columns": null,
            "grid_auto_flow": null,
            "grid_auto_rows": null,
            "grid_column": null,
            "grid_gap": null,
            "grid_row": null,
            "grid_template_areas": null,
            "grid_template_columns": null,
            "grid_template_rows": null,
            "height": null,
            "justify_content": null,
            "justify_items": null,
            "left": null,
            "margin": null,
            "max_height": null,
            "max_width": null,
            "min_height": null,
            "min_width": null,
            "object_fit": null,
            "object_position": null,
            "order": null,
            "overflow": null,
            "overflow_x": null,
            "overflow_y": null,
            "padding": null,
            "right": null,
            "top": null,
            "visibility": null,
            "width": null
          }
        },
        "9a7b14fb1ed04f36a05c229e1232996c": {
          "model_module": "@jupyter-widgets/controls",
          "model_name": "DescriptionStyleModel",
          "model_module_version": "1.5.0",
          "state": {
            "_model_module": "@jupyter-widgets/controls",
            "_model_module_version": "1.5.0",
            "_model_name": "DescriptionStyleModel",
            "_view_count": null,
            "_view_module": "@jupyter-widgets/base",
            "_view_module_version": "1.2.0",
            "_view_name": "StyleView",
            "description_width": ""
          }
        },
        "641dac2464954ebabf61c001c2f617fb": {
          "model_module": "@jupyter-widgets/base",
          "model_name": "LayoutModel",
          "model_module_version": "1.2.0",
          "state": {
            "_model_module": "@jupyter-widgets/base",
            "_model_module_version": "1.2.0",
            "_model_name": "LayoutModel",
            "_view_count": null,
            "_view_module": "@jupyter-widgets/base",
            "_view_module_version": "1.2.0",
            "_view_name": "LayoutView",
            "align_content": null,
            "align_items": null,
            "align_self": null,
            "border": null,
            "bottom": null,
            "display": null,
            "flex": null,
            "flex_flow": null,
            "grid_area": null,
            "grid_auto_columns": null,
            "grid_auto_flow": null,
            "grid_auto_rows": null,
            "grid_column": null,
            "grid_gap": null,
            "grid_row": null,
            "grid_template_areas": null,
            "grid_template_columns": null,
            "grid_template_rows": null,
            "height": null,
            "justify_content": null,
            "justify_items": null,
            "left": null,
            "margin": null,
            "max_height": null,
            "max_width": null,
            "min_height": null,
            "min_width": null,
            "object_fit": null,
            "object_position": null,
            "order": null,
            "overflow": null,
            "overflow_x": null,
            "overflow_y": null,
            "padding": null,
            "right": null,
            "top": null,
            "visibility": null,
            "width": null
          }
        },
        "b8686fa96dd6435d8c8065ca161200b4": {
          "model_module": "@jupyter-widgets/controls",
          "model_name": "ProgressStyleModel",
          "model_module_version": "1.5.0",
          "state": {
            "_model_module": "@jupyter-widgets/controls",
            "_model_module_version": "1.5.0",
            "_model_name": "ProgressStyleModel",
            "_view_count": null,
            "_view_module": "@jupyter-widgets/base",
            "_view_module_version": "1.2.0",
            "_view_name": "StyleView",
            "bar_color": null,
            "description_width": ""
          }
        },
        "19bbb9e84ff14f2f81ec972f3913fe04": {
          "model_module": "@jupyter-widgets/base",
          "model_name": "LayoutModel",
          "model_module_version": "1.2.0",
          "state": {
            "_model_module": "@jupyter-widgets/base",
            "_model_module_version": "1.2.0",
            "_model_name": "LayoutModel",
            "_view_count": null,
            "_view_module": "@jupyter-widgets/base",
            "_view_module_version": "1.2.0",
            "_view_name": "LayoutView",
            "align_content": null,
            "align_items": null,
            "align_self": null,
            "border": null,
            "bottom": null,
            "display": null,
            "flex": null,
            "flex_flow": null,
            "grid_area": null,
            "grid_auto_columns": null,
            "grid_auto_flow": null,
            "grid_auto_rows": null,
            "grid_column": null,
            "grid_gap": null,
            "grid_row": null,
            "grid_template_areas": null,
            "grid_template_columns": null,
            "grid_template_rows": null,
            "height": null,
            "justify_content": null,
            "justify_items": null,
            "left": null,
            "margin": null,
            "max_height": null,
            "max_width": null,
            "min_height": null,
            "min_width": null,
            "object_fit": null,
            "object_position": null,
            "order": null,
            "overflow": null,
            "overflow_x": null,
            "overflow_y": null,
            "padding": null,
            "right": null,
            "top": null,
            "visibility": null,
            "width": null
          }
        },
        "674b8a19701e4e8a8c570431e8b179e1": {
          "model_module": "@jupyter-widgets/controls",
          "model_name": "DescriptionStyleModel",
          "model_module_version": "1.5.0",
          "state": {
            "_model_module": "@jupyter-widgets/controls",
            "_model_module_version": "1.5.0",
            "_model_name": "DescriptionStyleModel",
            "_view_count": null,
            "_view_module": "@jupyter-widgets/base",
            "_view_module_version": "1.2.0",
            "_view_name": "StyleView",
            "description_width": ""
          }
        },
        "8669ade00c6e49e79d4b44ba714f0bd6": {
          "model_module": "@jupyter-widgets/controls",
          "model_name": "HBoxModel",
          "model_module_version": "1.5.0",
          "state": {
            "_dom_classes": [],
            "_model_module": "@jupyter-widgets/controls",
            "_model_module_version": "1.5.0",
            "_model_name": "HBoxModel",
            "_view_count": null,
            "_view_module": "@jupyter-widgets/controls",
            "_view_module_version": "1.5.0",
            "_view_name": "HBoxView",
            "box_style": "",
            "children": [
              "IPY_MODEL_62c94032e7dd4bb4a5a1d46307a341a5",
              "IPY_MODEL_0ea1577f338c4826a1386bf060460e4f",
              "IPY_MODEL_77e82a4036b44d588fe21b4651bc2dd4"
            ],
            "layout": "IPY_MODEL_fe3a49ee3da14f7ca02344ed004a1cf3"
          }
        },
        "62c94032e7dd4bb4a5a1d46307a341a5": {
          "model_module": "@jupyter-widgets/controls",
          "model_name": "HTMLModel",
          "model_module_version": "1.5.0",
          "state": {
            "_dom_classes": [],
            "_model_module": "@jupyter-widgets/controls",
            "_model_module_version": "1.5.0",
            "_model_name": "HTMLModel",
            "_view_count": null,
            "_view_module": "@jupyter-widgets/controls",
            "_view_module_version": "1.5.0",
            "_view_name": "HTMLView",
            "description": "",
            "description_tooltip": null,
            "layout": "IPY_MODEL_9900ab874db24b09940618d9da0a75a2",
            "placeholder": "​",
            "style": "IPY_MODEL_7fb112742b6e43f8903cf77cd5bc3c02",
            "value": "Map: 100%"
          }
        },
        "0ea1577f338c4826a1386bf060460e4f": {
          "model_module": "@jupyter-widgets/controls",
          "model_name": "FloatProgressModel",
          "model_module_version": "1.5.0",
          "state": {
            "_dom_classes": [],
            "_model_module": "@jupyter-widgets/controls",
            "_model_module_version": "1.5.0",
            "_model_name": "FloatProgressModel",
            "_view_count": null,
            "_view_module": "@jupyter-widgets/controls",
            "_view_module_version": "1.5.0",
            "_view_name": "ProgressView",
            "bar_style": "success",
            "description": "",
            "description_tooltip": null,
            "layout": "IPY_MODEL_5028c509179c43c581d4d9bdd4a666b0",
            "max": 1014,
            "min": 0,
            "orientation": "horizontal",
            "style": "IPY_MODEL_c522005e80884bcc977e0b6ca215f70f",
            "value": 1014
          }
        },
        "77e82a4036b44d588fe21b4651bc2dd4": {
          "model_module": "@jupyter-widgets/controls",
          "model_name": "HTMLModel",
          "model_module_version": "1.5.0",
          "state": {
            "_dom_classes": [],
            "_model_module": "@jupyter-widgets/controls",
            "_model_module_version": "1.5.0",
            "_model_name": "HTMLModel",
            "_view_count": null,
            "_view_module": "@jupyter-widgets/controls",
            "_view_module_version": "1.5.0",
            "_view_name": "HTMLView",
            "description": "",
            "description_tooltip": null,
            "layout": "IPY_MODEL_5e0fc6c084ba43a78ae6f59a7c16c8ec",
            "placeholder": "​",
            "style": "IPY_MODEL_1d96e39237524f4298f5c0926f61ca18",
            "value": " 1014/1014 [00:00&lt;00:00, 7132.49 examples/s]"
          }
        },
        "fe3a49ee3da14f7ca02344ed004a1cf3": {
          "model_module": "@jupyter-widgets/base",
          "model_name": "LayoutModel",
          "model_module_version": "1.2.0",
          "state": {
            "_model_module": "@jupyter-widgets/base",
            "_model_module_version": "1.2.0",
            "_model_name": "LayoutModel",
            "_view_count": null,
            "_view_module": "@jupyter-widgets/base",
            "_view_module_version": "1.2.0",
            "_view_name": "LayoutView",
            "align_content": null,
            "align_items": null,
            "align_self": null,
            "border": null,
            "bottom": null,
            "display": null,
            "flex": null,
            "flex_flow": null,
            "grid_area": null,
            "grid_auto_columns": null,
            "grid_auto_flow": null,
            "grid_auto_rows": null,
            "grid_column": null,
            "grid_gap": null,
            "grid_row": null,
            "grid_template_areas": null,
            "grid_template_columns": null,
            "grid_template_rows": null,
            "height": null,
            "justify_content": null,
            "justify_items": null,
            "left": null,
            "margin": null,
            "max_height": null,
            "max_width": null,
            "min_height": null,
            "min_width": null,
            "object_fit": null,
            "object_position": null,
            "order": null,
            "overflow": null,
            "overflow_x": null,
            "overflow_y": null,
            "padding": null,
            "right": null,
            "top": null,
            "visibility": null,
            "width": null
          }
        },
        "9900ab874db24b09940618d9da0a75a2": {
          "model_module": "@jupyter-widgets/base",
          "model_name": "LayoutModel",
          "model_module_version": "1.2.0",
          "state": {
            "_model_module": "@jupyter-widgets/base",
            "_model_module_version": "1.2.0",
            "_model_name": "LayoutModel",
            "_view_count": null,
            "_view_module": "@jupyter-widgets/base",
            "_view_module_version": "1.2.0",
            "_view_name": "LayoutView",
            "align_content": null,
            "align_items": null,
            "align_self": null,
            "border": null,
            "bottom": null,
            "display": null,
            "flex": null,
            "flex_flow": null,
            "grid_area": null,
            "grid_auto_columns": null,
            "grid_auto_flow": null,
            "grid_auto_rows": null,
            "grid_column": null,
            "grid_gap": null,
            "grid_row": null,
            "grid_template_areas": null,
            "grid_template_columns": null,
            "grid_template_rows": null,
            "height": null,
            "justify_content": null,
            "justify_items": null,
            "left": null,
            "margin": null,
            "max_height": null,
            "max_width": null,
            "min_height": null,
            "min_width": null,
            "object_fit": null,
            "object_position": null,
            "order": null,
            "overflow": null,
            "overflow_x": null,
            "overflow_y": null,
            "padding": null,
            "right": null,
            "top": null,
            "visibility": null,
            "width": null
          }
        },
        "7fb112742b6e43f8903cf77cd5bc3c02": {
          "model_module": "@jupyter-widgets/controls",
          "model_name": "DescriptionStyleModel",
          "model_module_version": "1.5.0",
          "state": {
            "_model_module": "@jupyter-widgets/controls",
            "_model_module_version": "1.5.0",
            "_model_name": "DescriptionStyleModel",
            "_view_count": null,
            "_view_module": "@jupyter-widgets/base",
            "_view_module_version": "1.2.0",
            "_view_name": "StyleView",
            "description_width": ""
          }
        },
        "5028c509179c43c581d4d9bdd4a666b0": {
          "model_module": "@jupyter-widgets/base",
          "model_name": "LayoutModel",
          "model_module_version": "1.2.0",
          "state": {
            "_model_module": "@jupyter-widgets/base",
            "_model_module_version": "1.2.0",
            "_model_name": "LayoutModel",
            "_view_count": null,
            "_view_module": "@jupyter-widgets/base",
            "_view_module_version": "1.2.0",
            "_view_name": "LayoutView",
            "align_content": null,
            "align_items": null,
            "align_self": null,
            "border": null,
            "bottom": null,
            "display": null,
            "flex": null,
            "flex_flow": null,
            "grid_area": null,
            "grid_auto_columns": null,
            "grid_auto_flow": null,
            "grid_auto_rows": null,
            "grid_column": null,
            "grid_gap": null,
            "grid_row": null,
            "grid_template_areas": null,
            "grid_template_columns": null,
            "grid_template_rows": null,
            "height": null,
            "justify_content": null,
            "justify_items": null,
            "left": null,
            "margin": null,
            "max_height": null,
            "max_width": null,
            "min_height": null,
            "min_width": null,
            "object_fit": null,
            "object_position": null,
            "order": null,
            "overflow": null,
            "overflow_x": null,
            "overflow_y": null,
            "padding": null,
            "right": null,
            "top": null,
            "visibility": null,
            "width": null
          }
        },
        "c522005e80884bcc977e0b6ca215f70f": {
          "model_module": "@jupyter-widgets/controls",
          "model_name": "ProgressStyleModel",
          "model_module_version": "1.5.0",
          "state": {
            "_model_module": "@jupyter-widgets/controls",
            "_model_module_version": "1.5.0",
            "_model_name": "ProgressStyleModel",
            "_view_count": null,
            "_view_module": "@jupyter-widgets/base",
            "_view_module_version": "1.2.0",
            "_view_name": "StyleView",
            "bar_color": null,
            "description_width": ""
          }
        },
        "5e0fc6c084ba43a78ae6f59a7c16c8ec": {
          "model_module": "@jupyter-widgets/base",
          "model_name": "LayoutModel",
          "model_module_version": "1.2.0",
          "state": {
            "_model_module": "@jupyter-widgets/base",
            "_model_module_version": "1.2.0",
            "_model_name": "LayoutModel",
            "_view_count": null,
            "_view_module": "@jupyter-widgets/base",
            "_view_module_version": "1.2.0",
            "_view_name": "LayoutView",
            "align_content": null,
            "align_items": null,
            "align_self": null,
            "border": null,
            "bottom": null,
            "display": null,
            "flex": null,
            "flex_flow": null,
            "grid_area": null,
            "grid_auto_columns": null,
            "grid_auto_flow": null,
            "grid_auto_rows": null,
            "grid_column": null,
            "grid_gap": null,
            "grid_row": null,
            "grid_template_areas": null,
            "grid_template_columns": null,
            "grid_template_rows": null,
            "height": null,
            "justify_content": null,
            "justify_items": null,
            "left": null,
            "margin": null,
            "max_height": null,
            "max_width": null,
            "min_height": null,
            "min_width": null,
            "object_fit": null,
            "object_position": null,
            "order": null,
            "overflow": null,
            "overflow_x": null,
            "overflow_y": null,
            "padding": null,
            "right": null,
            "top": null,
            "visibility": null,
            "width": null
          }
        },
        "1d96e39237524f4298f5c0926f61ca18": {
          "model_module": "@jupyter-widgets/controls",
          "model_name": "DescriptionStyleModel",
          "model_module_version": "1.5.0",
          "state": {
            "_model_module": "@jupyter-widgets/controls",
            "_model_module_version": "1.5.0",
            "_model_name": "DescriptionStyleModel",
            "_view_count": null,
            "_view_module": "@jupyter-widgets/base",
            "_view_module_version": "1.2.0",
            "_view_name": "StyleView",
            "description_width": ""
          }
        },
        "775f10b6c38d4dc7846b83570f0b00ab": {
          "model_module": "@jupyter-widgets/controls",
          "model_name": "HBoxModel",
          "model_module_version": "1.5.0",
          "state": {
            "_dom_classes": [],
            "_model_module": "@jupyter-widgets/controls",
            "_model_module_version": "1.5.0",
            "_model_name": "HBoxModel",
            "_view_count": null,
            "_view_module": "@jupyter-widgets/controls",
            "_view_module_version": "1.5.0",
            "_view_name": "HBoxView",
            "box_style": "",
            "children": [
              "IPY_MODEL_3c5920ebd38f4c28bea61538b440b32e",
              "IPY_MODEL_1e3b40012e7c4ec58cdea7c05d17630c",
              "IPY_MODEL_af84705699a44a468212c259c8b07884"
            ],
            "layout": "IPY_MODEL_4791ccf762da411a9a0529f7cda1dd76"
          }
        },
        "3c5920ebd38f4c28bea61538b440b32e": {
          "model_module": "@jupyter-widgets/controls",
          "model_name": "HTMLModel",
          "model_module_version": "1.5.0",
          "state": {
            "_dom_classes": [],
            "_model_module": "@jupyter-widgets/controls",
            "_model_module_version": "1.5.0",
            "_model_name": "HTMLModel",
            "_view_count": null,
            "_view_module": "@jupyter-widgets/controls",
            "_view_module_version": "1.5.0",
            "_view_name": "HTMLView",
            "description": "",
            "description_tooltip": null,
            "layout": "IPY_MODEL_97d1a3f1c0d84f259e5c4582b54871ac",
            "placeholder": "​",
            "style": "IPY_MODEL_45153cef631d400b959cbfa2eb60ad66",
            "value": "Map: 100%"
          }
        },
        "1e3b40012e7c4ec58cdea7c05d17630c": {
          "model_module": "@jupyter-widgets/controls",
          "model_name": "FloatProgressModel",
          "model_module_version": "1.5.0",
          "state": {
            "_dom_classes": [],
            "_model_module": "@jupyter-widgets/controls",
            "_model_module_version": "1.5.0",
            "_model_name": "FloatProgressModel",
            "_view_count": null,
            "_view_module": "@jupyter-widgets/controls",
            "_view_module_version": "1.5.0",
            "_view_name": "ProgressView",
            "bar_style": "success",
            "description": "",
            "description_tooltip": null,
            "layout": "IPY_MODEL_a3ee7ab45a854d8ea974b72aeb8fcf64",
            "max": 1000,
            "min": 0,
            "orientation": "horizontal",
            "style": "IPY_MODEL_ae1cfa4b2e15403dbfd1b6a25b88b1f5",
            "value": 1000
          }
        },
        "af84705699a44a468212c259c8b07884": {
          "model_module": "@jupyter-widgets/controls",
          "model_name": "HTMLModel",
          "model_module_version": "1.5.0",
          "state": {
            "_dom_classes": [],
            "_model_module": "@jupyter-widgets/controls",
            "_model_module_version": "1.5.0",
            "_model_name": "HTMLModel",
            "_view_count": null,
            "_view_module": "@jupyter-widgets/controls",
            "_view_module_version": "1.5.0",
            "_view_name": "HTMLView",
            "description": "",
            "description_tooltip": null,
            "layout": "IPY_MODEL_4827841e172143bbb88b946756480b6e",
            "placeholder": "​",
            "style": "IPY_MODEL_73c00284c90f4ccda6a9a6e60bf301f0",
            "value": " 1000/1000 [00:00&lt;00:00, 7238.49 examples/s]"
          }
        },
        "4791ccf762da411a9a0529f7cda1dd76": {
          "model_module": "@jupyter-widgets/base",
          "model_name": "LayoutModel",
          "model_module_version": "1.2.0",
          "state": {
            "_model_module": "@jupyter-widgets/base",
            "_model_module_version": "1.2.0",
            "_model_name": "LayoutModel",
            "_view_count": null,
            "_view_module": "@jupyter-widgets/base",
            "_view_module_version": "1.2.0",
            "_view_name": "LayoutView",
            "align_content": null,
            "align_items": null,
            "align_self": null,
            "border": null,
            "bottom": null,
            "display": null,
            "flex": null,
            "flex_flow": null,
            "grid_area": null,
            "grid_auto_columns": null,
            "grid_auto_flow": null,
            "grid_auto_rows": null,
            "grid_column": null,
            "grid_gap": null,
            "grid_row": null,
            "grid_template_areas": null,
            "grid_template_columns": null,
            "grid_template_rows": null,
            "height": null,
            "justify_content": null,
            "justify_items": null,
            "left": null,
            "margin": null,
            "max_height": null,
            "max_width": null,
            "min_height": null,
            "min_width": null,
            "object_fit": null,
            "object_position": null,
            "order": null,
            "overflow": null,
            "overflow_x": null,
            "overflow_y": null,
            "padding": null,
            "right": null,
            "top": null,
            "visibility": null,
            "width": null
          }
        },
        "97d1a3f1c0d84f259e5c4582b54871ac": {
          "model_module": "@jupyter-widgets/base",
          "model_name": "LayoutModel",
          "model_module_version": "1.2.0",
          "state": {
            "_model_module": "@jupyter-widgets/base",
            "_model_module_version": "1.2.0",
            "_model_name": "LayoutModel",
            "_view_count": null,
            "_view_module": "@jupyter-widgets/base",
            "_view_module_version": "1.2.0",
            "_view_name": "LayoutView",
            "align_content": null,
            "align_items": null,
            "align_self": null,
            "border": null,
            "bottom": null,
            "display": null,
            "flex": null,
            "flex_flow": null,
            "grid_area": null,
            "grid_auto_columns": null,
            "grid_auto_flow": null,
            "grid_auto_rows": null,
            "grid_column": null,
            "grid_gap": null,
            "grid_row": null,
            "grid_template_areas": null,
            "grid_template_columns": null,
            "grid_template_rows": null,
            "height": null,
            "justify_content": null,
            "justify_items": null,
            "left": null,
            "margin": null,
            "max_height": null,
            "max_width": null,
            "min_height": null,
            "min_width": null,
            "object_fit": null,
            "object_position": null,
            "order": null,
            "overflow": null,
            "overflow_x": null,
            "overflow_y": null,
            "padding": null,
            "right": null,
            "top": null,
            "visibility": null,
            "width": null
          }
        },
        "45153cef631d400b959cbfa2eb60ad66": {
          "model_module": "@jupyter-widgets/controls",
          "model_name": "DescriptionStyleModel",
          "model_module_version": "1.5.0",
          "state": {
            "_model_module": "@jupyter-widgets/controls",
            "_model_module_version": "1.5.0",
            "_model_name": "DescriptionStyleModel",
            "_view_count": null,
            "_view_module": "@jupyter-widgets/base",
            "_view_module_version": "1.2.0",
            "_view_name": "StyleView",
            "description_width": ""
          }
        },
        "a3ee7ab45a854d8ea974b72aeb8fcf64": {
          "model_module": "@jupyter-widgets/base",
          "model_name": "LayoutModel",
          "model_module_version": "1.2.0",
          "state": {
            "_model_module": "@jupyter-widgets/base",
            "_model_module_version": "1.2.0",
            "_model_name": "LayoutModel",
            "_view_count": null,
            "_view_module": "@jupyter-widgets/base",
            "_view_module_version": "1.2.0",
            "_view_name": "LayoutView",
            "align_content": null,
            "align_items": null,
            "align_self": null,
            "border": null,
            "bottom": null,
            "display": null,
            "flex": null,
            "flex_flow": null,
            "grid_area": null,
            "grid_auto_columns": null,
            "grid_auto_flow": null,
            "grid_auto_rows": null,
            "grid_column": null,
            "grid_gap": null,
            "grid_row": null,
            "grid_template_areas": null,
            "grid_template_columns": null,
            "grid_template_rows": null,
            "height": null,
            "justify_content": null,
            "justify_items": null,
            "left": null,
            "margin": null,
            "max_height": null,
            "max_width": null,
            "min_height": null,
            "min_width": null,
            "object_fit": null,
            "object_position": null,
            "order": null,
            "overflow": null,
            "overflow_x": null,
            "overflow_y": null,
            "padding": null,
            "right": null,
            "top": null,
            "visibility": null,
            "width": null
          }
        },
        "ae1cfa4b2e15403dbfd1b6a25b88b1f5": {
          "model_module": "@jupyter-widgets/controls",
          "model_name": "ProgressStyleModel",
          "model_module_version": "1.5.0",
          "state": {
            "_model_module": "@jupyter-widgets/controls",
            "_model_module_version": "1.5.0",
            "_model_name": "ProgressStyleModel",
            "_view_count": null,
            "_view_module": "@jupyter-widgets/base",
            "_view_module_version": "1.2.0",
            "_view_name": "StyleView",
            "bar_color": null,
            "description_width": ""
          }
        },
        "4827841e172143bbb88b946756480b6e": {
          "model_module": "@jupyter-widgets/base",
          "model_name": "LayoutModel",
          "model_module_version": "1.2.0",
          "state": {
            "_model_module": "@jupyter-widgets/base",
            "_model_module_version": "1.2.0",
            "_model_name": "LayoutModel",
            "_view_count": null,
            "_view_module": "@jupyter-widgets/base",
            "_view_module_version": "1.2.0",
            "_view_name": "LayoutView",
            "align_content": null,
            "align_items": null,
            "align_self": null,
            "border": null,
            "bottom": null,
            "display": null,
            "flex": null,
            "flex_flow": null,
            "grid_area": null,
            "grid_auto_columns": null,
            "grid_auto_flow": null,
            "grid_auto_rows": null,
            "grid_column": null,
            "grid_gap": null,
            "grid_row": null,
            "grid_template_areas": null,
            "grid_template_columns": null,
            "grid_template_rows": null,
            "height": null,
            "justify_content": null,
            "justify_items": null,
            "left": null,
            "margin": null,
            "max_height": null,
            "max_width": null,
            "min_height": null,
            "min_width": null,
            "object_fit": null,
            "object_position": null,
            "order": null,
            "overflow": null,
            "overflow_x": null,
            "overflow_y": null,
            "padding": null,
            "right": null,
            "top": null,
            "visibility": null,
            "width": null
          }
        },
        "73c00284c90f4ccda6a9a6e60bf301f0": {
          "model_module": "@jupyter-widgets/controls",
          "model_name": "DescriptionStyleModel",
          "model_module_version": "1.5.0",
          "state": {
            "_model_module": "@jupyter-widgets/controls",
            "_model_module_version": "1.5.0",
            "_model_name": "DescriptionStyleModel",
            "_view_count": null,
            "_view_module": "@jupyter-widgets/base",
            "_view_module_version": "1.2.0",
            "_view_name": "StyleView",
            "description_width": ""
          }
        }
      }
    },
    "accelerator": "GPU"
  },
  "cells": [
    {
      "cell_type": "markdown",
      "metadata": {
        "id": "view-in-github",
        "colab_type": "text"
      },
      "source": [
        "<a href=\"https://colab.research.google.com/github/HwiTran/Natural-Language-Processing-Course/blob/main/seq2seq_attention.ipynb\" target=\"_parent\"><img src=\"https://colab.research.google.com/assets/colab-badge.svg\" alt=\"Open In Colab\"/></a>"
      ]
    },
    {
      "cell_type": "code",
      "source": [
        "!pip install datasets"
      ],
      "metadata": {
        "colab": {
          "base_uri": "https://localhost:8080/"
        },
        "id": "PRIJez4-HzY9",
        "outputId": "ef69fb18-1bd7-437c-8689-2e730846469b"
      },
      "execution_count": 1,
      "outputs": [
        {
          "output_type": "stream",
          "name": "stdout",
          "text": [
            "Collecting datasets\n",
            "  Downloading datasets-2.19.1-py3-none-any.whl (542 kB)\n",
            "\u001b[2K     \u001b[90m━━━━━━━━━━━━━━━━━━━━━━━━━━━━━━━━━━━━━━━━\u001b[0m \u001b[32m542.0/542.0 kB\u001b[0m \u001b[31m7.4 MB/s\u001b[0m eta \u001b[36m0:00:00\u001b[0m\n",
            "\u001b[?25hRequirement already satisfied: filelock in /usr/local/lib/python3.10/dist-packages (from datasets) (3.14.0)\n",
            "Requirement already satisfied: numpy>=1.17 in /usr/local/lib/python3.10/dist-packages (from datasets) (1.25.2)\n",
            "Requirement already satisfied: pyarrow>=12.0.0 in /usr/local/lib/python3.10/dist-packages (from datasets) (14.0.2)\n",
            "Requirement already satisfied: pyarrow-hotfix in /usr/local/lib/python3.10/dist-packages (from datasets) (0.6)\n",
            "Collecting dill<0.3.9,>=0.3.0 (from datasets)\n",
            "  Downloading dill-0.3.8-py3-none-any.whl (116 kB)\n",
            "\u001b[2K     \u001b[90m━━━━━━━━━━━━━━━━━━━━━━━━━━━━━━━━━━━━━━━━\u001b[0m \u001b[32m116.3/116.3 kB\u001b[0m \u001b[31m7.7 MB/s\u001b[0m eta \u001b[36m0:00:00\u001b[0m\n",
            "\u001b[?25hRequirement already satisfied: pandas in /usr/local/lib/python3.10/dist-packages (from datasets) (2.0.3)\n",
            "Requirement already satisfied: requests>=2.19.0 in /usr/local/lib/python3.10/dist-packages (from datasets) (2.31.0)\n",
            "Requirement already satisfied: tqdm>=4.62.1 in /usr/local/lib/python3.10/dist-packages (from datasets) (4.66.4)\n",
            "Collecting xxhash (from datasets)\n",
            "  Downloading xxhash-3.4.1-cp310-cp310-manylinux_2_17_x86_64.manylinux2014_x86_64.whl (194 kB)\n",
            "\u001b[2K     \u001b[90m━━━━━━━━━━━━━━━━━━━━━━━━━━━━━━━━━━━━━━━━\u001b[0m \u001b[32m194.1/194.1 kB\u001b[0m \u001b[31m9.1 MB/s\u001b[0m eta \u001b[36m0:00:00\u001b[0m\n",
            "\u001b[?25hCollecting multiprocess (from datasets)\n",
            "  Downloading multiprocess-0.70.16-py310-none-any.whl (134 kB)\n",
            "\u001b[2K     \u001b[90m━━━━━━━━━━━━━━━━━━━━━━━━━━━━━━━━━━━━━━━━\u001b[0m \u001b[32m134.8/134.8 kB\u001b[0m \u001b[31m9.4 MB/s\u001b[0m eta \u001b[36m0:00:00\u001b[0m\n",
            "\u001b[?25hRequirement already satisfied: fsspec[http]<=2024.3.1,>=2023.1.0 in /usr/local/lib/python3.10/dist-packages (from datasets) (2023.6.0)\n",
            "Requirement already satisfied: aiohttp in /usr/local/lib/python3.10/dist-packages (from datasets) (3.9.5)\n",
            "Collecting huggingface-hub>=0.21.2 (from datasets)\n",
            "  Downloading huggingface_hub-0.23.0-py3-none-any.whl (401 kB)\n",
            "\u001b[2K     \u001b[90m━━━━━━━━━━━━━━━━━━━━━━━━━━━━━━━━━━━━━━━━\u001b[0m \u001b[32m401.2/401.2 kB\u001b[0m \u001b[31m14.4 MB/s\u001b[0m eta \u001b[36m0:00:00\u001b[0m\n",
            "\u001b[?25hRequirement already satisfied: packaging in /usr/local/lib/python3.10/dist-packages (from datasets) (24.0)\n",
            "Requirement already satisfied: pyyaml>=5.1 in /usr/local/lib/python3.10/dist-packages (from datasets) (6.0.1)\n",
            "Requirement already satisfied: aiosignal>=1.1.2 in /usr/local/lib/python3.10/dist-packages (from aiohttp->datasets) (1.3.1)\n",
            "Requirement already satisfied: attrs>=17.3.0 in /usr/local/lib/python3.10/dist-packages (from aiohttp->datasets) (23.2.0)\n",
            "Requirement already satisfied: frozenlist>=1.1.1 in /usr/local/lib/python3.10/dist-packages (from aiohttp->datasets) (1.4.1)\n",
            "Requirement already satisfied: multidict<7.0,>=4.5 in /usr/local/lib/python3.10/dist-packages (from aiohttp->datasets) (6.0.5)\n",
            "Requirement already satisfied: yarl<2.0,>=1.0 in /usr/local/lib/python3.10/dist-packages (from aiohttp->datasets) (1.9.4)\n",
            "Requirement already satisfied: async-timeout<5.0,>=4.0 in /usr/local/lib/python3.10/dist-packages (from aiohttp->datasets) (4.0.3)\n",
            "Requirement already satisfied: typing-extensions>=3.7.4.3 in /usr/local/lib/python3.10/dist-packages (from huggingface-hub>=0.21.2->datasets) (4.11.0)\n",
            "Requirement already satisfied: charset-normalizer<4,>=2 in /usr/local/lib/python3.10/dist-packages (from requests>=2.19.0->datasets) (3.3.2)\n",
            "Requirement already satisfied: idna<4,>=2.5 in /usr/local/lib/python3.10/dist-packages (from requests>=2.19.0->datasets) (3.7)\n",
            "Requirement already satisfied: urllib3<3,>=1.21.1 in /usr/local/lib/python3.10/dist-packages (from requests>=2.19.0->datasets) (2.0.7)\n",
            "Requirement already satisfied: certifi>=2017.4.17 in /usr/local/lib/python3.10/dist-packages (from requests>=2.19.0->datasets) (2024.2.2)\n",
            "Requirement already satisfied: python-dateutil>=2.8.2 in /usr/local/lib/python3.10/dist-packages (from pandas->datasets) (2.8.2)\n",
            "Requirement already satisfied: pytz>=2020.1 in /usr/local/lib/python3.10/dist-packages (from pandas->datasets) (2023.4)\n",
            "Requirement already satisfied: tzdata>=2022.1 in /usr/local/lib/python3.10/dist-packages (from pandas->datasets) (2024.1)\n",
            "Requirement already satisfied: six>=1.5 in /usr/local/lib/python3.10/dist-packages (from python-dateutil>=2.8.2->pandas->datasets) (1.16.0)\n",
            "Installing collected packages: xxhash, dill, multiprocess, huggingface-hub, datasets\n",
            "  Attempting uninstall: huggingface-hub\n",
            "    Found existing installation: huggingface-hub 0.20.3\n",
            "    Uninstalling huggingface-hub-0.20.3:\n",
            "      Successfully uninstalled huggingface-hub-0.20.3\n",
            "Successfully installed datasets-2.19.1 dill-0.3.8 huggingface-hub-0.23.0 multiprocess-0.70.16 xxhash-3.4.1\n"
          ]
        }
      ]
    },
    {
      "cell_type": "markdown",
      "source": [
        "# Prepare dataset"
      ],
      "metadata": {
        "id": "mcq3iF0zdJC_"
      }
    },
    {
      "cell_type": "code",
      "execution_count": 2,
      "metadata": {
        "id": "rhdlWnZJHXJy"
      },
      "outputs": [],
      "source": [
        "import numpy as np\n",
        "import random, spacy, datasets\n",
        "\n",
        "import torch\n",
        "from torch import nn\n",
        "import torchtext"
      ]
    },
    {
      "cell_type": "markdown",
      "metadata": {
        "id": "ajcdyG7sHXJz"
      },
      "source": [
        "### Dataset\n",
        "\n",
        "Next, we'll load our dataset using the `datasets` library. When using the `load_dataset` function we pass the name of the dataset, `bentrevett/multi30k`.\n",
        "\n",
        "The dataset we'll be using is a subset of the [Multi30k dataset](https://github.com/multi30k/dataset), which is hosted [here](https://huggingface.co/datasets/bentrevett/multi30k) on the HuggingFace dataset hub. This subset has ~30,000 parallel English and German sentences obtained using the task 1 raw data from [here](https://github.com/multi30k/dataset/tree/master/data/task1/raw). We use the \"2016\" versions of the test sets.\n"
      ]
    },
    {
      "cell_type": "code",
      "execution_count": 3,
      "metadata": {
        "id": "4REkYQ6SHXJz",
        "colab": {
          "base_uri": "https://localhost:8080/",
          "height": 365,
          "referenced_widgets": [
            "6c53eed00bed458e8dd231b981bc2fb1",
            "50013948fa0a4052a6d5d8f7076e2f39",
            "da32b4d5b3b04f2ea581304968e4dce2",
            "c380fd1938d1412cb258facccb4b88d1",
            "5c537275797a415a8d7369006405890c",
            "f72f11622e394dbab77521f3d74bbea6",
            "b5c441770c6548e487225f5fc6172c4a",
            "93004fad20c14b6c8572081294383029",
            "628499c11f9c482685ca3e9438d1ffcb",
            "de45f0183b2b4abeb9e36b95003af3c0",
            "df63c5948d7f4498bf908f202779586d",
            "21cef3e0785b4f749215947cdd9f22dd",
            "d8fe3cb1a45843af8ae3ef29fffbf549",
            "ffeedd0610e64797913d73bd3ea48c82",
            "5aef567c984e449daebed01ddc24e44d",
            "8c7e1de1f19e4dda9dd1bfaf088c6578",
            "4e83b848f48549e980c1f2638e18662b",
            "7b9aacc19a914e72ad08fe6b4b3fc907",
            "2f2605ec784a45cbb8d25efabfe1452d",
            "556f6c1d87d040b294a0012ffb0a64f8",
            "83d0ecd1855e435684ff24d95c96133a",
            "20635413604849ac8234cae218aecd07",
            "5222a27f83b14bd08d8bf8e761633dd9",
            "73c8925485b04129a7d0b14b0fd6c533",
            "5711a435c2f34b0ea5963ddf83bb8c9c",
            "6b00248f6a6045e39ea5ce20b72b0422",
            "70d6e375f53742d5aefb6fac241a700d",
            "49881a5cabdf44f28adc1dd062de307d",
            "87b7fbfa200a4bca88ff44ea8ca09468",
            "bd7af9fa84894efc9d1ff5b9a02f06e0",
            "658ed1a20ddd44699dea2992fac80eda",
            "88466c46775143ba99827b929885ffbe",
            "01b2b51235b34728a2ddccf42a2cefa4",
            "3af1ac2b4de643d9bc3fec5a487b9921",
            "ca5ca3872cf44b978a2db3260aecb1ef",
            "5ad701c48bab4935be2a69c93d3da2ab",
            "f1dc84de027141b3a66119606b19af76",
            "19653aae857646bfa10fc56ebdf3fc31",
            "fd33645238ba4bf4affabca395f874e9",
            "15ea620cff1f482dbda95baf16e49a68",
            "b817c7c99b0b4ecfa722d8e7cb44e350",
            "e226bb6aa9db483e8a51a8c51ef12a9d",
            "bf663a211b7d4c86ac023966913819aa",
            "5aa5fa8d1f864cb7a6acdec941ce4ec5",
            "2be817683a4145a99f011fb1200280b5",
            "f31165e5ca42466a9717e7f716c4b924",
            "fab50d1a49754d1a87a5849b07e2d1cd",
            "62063bc84870490c8232fdfdc25c9cd7",
            "5428dae6d04242f0b505f7b566f874c0",
            "9cb874a7b8354188ad6a929ee4f05b4f",
            "5d0d4d8432644873ac6c4f35498f75e8",
            "f71a3e49e8d545eb93eef61438bdae1b",
            "aa7d49b2bc114bedbc1c26206325e897",
            "d74bdc8360164401a90ea1846b7a708e",
            "a44d3a92a9244a4094ed16ebe808d860",
            "99afa1dfab3543a494749151d3432a01",
            "8f129d03517944888f6ee76830af0e60",
            "c47bf1d806024205999adaba4e3f976d",
            "8d212d58393744aba4d92e082088c460",
            "b6ece08cb06549b7b0ce8325b4518494",
            "e34fdccb7d064c6795d721046059e4b5",
            "6ac164e0fab34c18b9d71580e9a44a10",
            "b4e93d6ca33449a7a948894cc06da6cd",
            "286ee9b6c49e4acc9fa52850a6b1d89f",
            "3b3cb731590b45649e0c9c403633c023",
            "5eb2549d520247f08d01be790d64ef74",
            "48d9f877f6294ae38b74a1611e2815a8",
            "5baed4add2344b3c851adc37b0204cf1",
            "87197db7e7bb430bac230a6499b6b91b",
            "75be15592b15402f822325d03c11a998",
            "098affb70aaa4dbd9d9617c04719e877",
            "449cc09b13994853a16ebcf856a005a5",
            "349aaa1797f041e09df5d0436ef73458",
            "15ac8e249e0843ae9e4ede71b0192c73",
            "d13e0aebcf0d49caa2fde1ee1633388f",
            "49b72c3f13db487f976083d613125515",
            "164dbd805b4f404b8d351a88aae4a4c5"
          ]
        },
        "outputId": "592aded2-3f52-47e5-a0f4-c248bc4a558b"
      },
      "outputs": [
        {
          "output_type": "stream",
          "name": "stderr",
          "text": [
            "/usr/local/lib/python3.10/dist-packages/huggingface_hub/utils/_token.py:89: UserWarning: \n",
            "The secret `HF_TOKEN` does not exist in your Colab secrets.\n",
            "To authenticate with the Hugging Face Hub, create a token in your settings tab (https://huggingface.co/settings/tokens), set it as secret in your Google Colab and restart your session.\n",
            "You will be able to reuse this secret in all of your notebooks.\n",
            "Please note that authentication is recommended but still optional to access public models or datasets.\n",
            "  warnings.warn(\n"
          ]
        },
        {
          "output_type": "display_data",
          "data": {
            "text/plain": [
              "Downloading readme:   0%|          | 0.00/1.15k [00:00<?, ?B/s]"
            ],
            "application/vnd.jupyter.widget-view+json": {
              "version_major": 2,
              "version_minor": 0,
              "model_id": "6c53eed00bed458e8dd231b981bc2fb1"
            }
          },
          "metadata": {}
        },
        {
          "output_type": "display_data",
          "data": {
            "text/plain": [
              "Downloading data:   0%|          | 0.00/4.60M [00:00<?, ?B/s]"
            ],
            "application/vnd.jupyter.widget-view+json": {
              "version_major": 2,
              "version_minor": 0,
              "model_id": "21cef3e0785b4f749215947cdd9f22dd"
            }
          },
          "metadata": {}
        },
        {
          "output_type": "display_data",
          "data": {
            "text/plain": [
              "Downloading data:   0%|          | 0.00/164k [00:00<?, ?B/s]"
            ],
            "application/vnd.jupyter.widget-view+json": {
              "version_major": 2,
              "version_minor": 0,
              "model_id": "5222a27f83b14bd08d8bf8e761633dd9"
            }
          },
          "metadata": {}
        },
        {
          "output_type": "display_data",
          "data": {
            "text/plain": [
              "Downloading data:   0%|          | 0.00/156k [00:00<?, ?B/s]"
            ],
            "application/vnd.jupyter.widget-view+json": {
              "version_major": 2,
              "version_minor": 0,
              "model_id": "3af1ac2b4de643d9bc3fec5a487b9921"
            }
          },
          "metadata": {}
        },
        {
          "output_type": "display_data",
          "data": {
            "text/plain": [
              "Generating train split:   0%|          | 0/29000 [00:00<?, ? examples/s]"
            ],
            "application/vnd.jupyter.widget-view+json": {
              "version_major": 2,
              "version_minor": 0,
              "model_id": "2be817683a4145a99f011fb1200280b5"
            }
          },
          "metadata": {}
        },
        {
          "output_type": "display_data",
          "data": {
            "text/plain": [
              "Generating validation split:   0%|          | 0/1014 [00:00<?, ? examples/s]"
            ],
            "application/vnd.jupyter.widget-view+json": {
              "version_major": 2,
              "version_minor": 0,
              "model_id": "99afa1dfab3543a494749151d3432a01"
            }
          },
          "metadata": {}
        },
        {
          "output_type": "display_data",
          "data": {
            "text/plain": [
              "Generating test split:   0%|          | 0/1000 [00:00<?, ? examples/s]"
            ],
            "application/vnd.jupyter.widget-view+json": {
              "version_major": 2,
              "version_minor": 0,
              "model_id": "48d9f877f6294ae38b74a1611e2815a8"
            }
          },
          "metadata": {}
        }
      ],
      "source": [
        "dataset = datasets.load_dataset(\"bentrevett/multi30k\")"
      ]
    },
    {
      "cell_type": "markdown",
      "metadata": {
        "id": "cV6K8lZEHXJz"
      },
      "source": [
        "We can see the `dataset` object (a `DatasetDict`) contains the train, validation and test splits, the amount of examples in each split, and the features in each split (\"en\" and \"de\").\n"
      ]
    },
    {
      "cell_type": "code",
      "execution_count": 4,
      "metadata": {
        "id": "QYWVP8xLHXJ0",
        "outputId": "faa96146-a4c1-46b5-bb6c-07d67bb2139e",
        "colab": {
          "base_uri": "https://localhost:8080/"
        }
      },
      "outputs": [
        {
          "output_type": "execute_result",
          "data": {
            "text/plain": [
              "DatasetDict({\n",
              "    train: Dataset({\n",
              "        features: ['en', 'de'],\n",
              "        num_rows: 29000\n",
              "    })\n",
              "    validation: Dataset({\n",
              "        features: ['en', 'de'],\n",
              "        num_rows: 1014\n",
              "    })\n",
              "    test: Dataset({\n",
              "        features: ['en', 'de'],\n",
              "        num_rows: 1000\n",
              "    })\n",
              "})"
            ]
          },
          "metadata": {},
          "execution_count": 4
        }
      ],
      "source": [
        "dataset"
      ]
    },
    {
      "cell_type": "markdown",
      "metadata": {
        "id": "FcKXocp3HXJ0"
      },
      "source": [
        "For convenience, we create a variable for each split. Each being a `Dataset` object.\n"
      ]
    },
    {
      "cell_type": "code",
      "execution_count": 5,
      "metadata": {
        "id": "VXMRz12JHXJ0"
      },
      "outputs": [],
      "source": [
        "train_data, valid_data, test_data = (\n",
        "    dataset[\"train\"],\n",
        "    dataset[\"validation\"],\n",
        "    dataset[\"test\"],\n",
        ")"
      ]
    },
    {
      "cell_type": "markdown",
      "metadata": {
        "id": "vaxqy1DBHXJ0"
      },
      "source": [
        "We can index into each `Dataset` to view an individual example. Each example has two features: \"en\" and \"de\", which are the parallel English and German sentences.\n"
      ]
    },
    {
      "cell_type": "code",
      "execution_count": 6,
      "metadata": {
        "id": "sBVPLCHGHXJ0",
        "outputId": "6d293998-ca66-411b-9d3a-d5a0ebed416b",
        "colab": {
          "base_uri": "https://localhost:8080/"
        }
      },
      "outputs": [
        {
          "output_type": "execute_result",
          "data": {
            "text/plain": [
              "{'en': 'Two young, White males are outside near many bushes.',\n",
              " 'de': 'Zwei junge weiße Männer sind im Freien in der Nähe vieler Büsche.'}"
            ]
          },
          "metadata": {},
          "execution_count": 6
        }
      ],
      "source": [
        "train_data[0]"
      ]
    },
    {
      "cell_type": "markdown",
      "metadata": {
        "id": "Bk10U6f-HXJ0"
      },
      "source": [
        "### Tokenizers\n",
        "\n",
        "Next, we'll load the spaCy models that contain the tokenizers.\n",
        "\n",
        "A tokenizer is used to turn a string into a list of tokens that make up that string, e.g. \"good morning!\" becomes [\"good\", \"morning\", \"!\"]. We'll start talking about the sentences being a sequence of tokens from now, instead of saying they're a sequence of words. What's the difference? Well, \"good\" and \"morning\" are both words and tokens, but \"!\" is not a word. We could say \"!\" is punctuation, but the term token is more general and covers: words, punctuation, numbers and any special symbols.\n",
        "\n",
        "spaCy has model for each language (\"de_core_news_sm\" for German and \"en_core_web_sm\" for English) which need to be loaded so we can access the tokenizer of each model.\n",
        "\n",
        "\n",
        "We load the models as such:\n"
      ]
    },
    {
      "cell_type": "code",
      "source": [
        "!python -m spacy download en_core_web_sm\n",
        "!python -m spacy download de_core_news_sm"
      ],
      "metadata": {
        "colab": {
          "base_uri": "https://localhost:8080/"
        },
        "id": "M5Porn48Klbq",
        "outputId": "053a8043-277a-4eb4-f148-d67fb9e2165d"
      },
      "execution_count": 7,
      "outputs": [
        {
          "output_type": "stream",
          "name": "stdout",
          "text": [
            "Collecting en-core-web-sm==3.7.1\n",
            "  Downloading https://github.com/explosion/spacy-models/releases/download/en_core_web_sm-3.7.1/en_core_web_sm-3.7.1-py3-none-any.whl (12.8 MB)\n",
            "\u001b[2K     \u001b[90m━━━━━━━━━━━━━━━━━━━━━━━━━━━━━━━━━━━━━━━━\u001b[0m \u001b[32m12.8/12.8 MB\u001b[0m \u001b[31m30.8 MB/s\u001b[0m eta \u001b[36m0:00:00\u001b[0m\n",
            "\u001b[?25hRequirement already satisfied: spacy<3.8.0,>=3.7.2 in /usr/local/lib/python3.10/dist-packages (from en-core-web-sm==3.7.1) (3.7.4)\n",
            "Requirement already satisfied: spacy-legacy<3.1.0,>=3.0.11 in /usr/local/lib/python3.10/dist-packages (from spacy<3.8.0,>=3.7.2->en-core-web-sm==3.7.1) (3.0.12)\n",
            "Requirement already satisfied: spacy-loggers<2.0.0,>=1.0.0 in /usr/local/lib/python3.10/dist-packages (from spacy<3.8.0,>=3.7.2->en-core-web-sm==3.7.1) (1.0.5)\n",
            "Requirement already satisfied: murmurhash<1.1.0,>=0.28.0 in /usr/local/lib/python3.10/dist-packages (from spacy<3.8.0,>=3.7.2->en-core-web-sm==3.7.1) (1.0.10)\n",
            "Requirement already satisfied: cymem<2.1.0,>=2.0.2 in /usr/local/lib/python3.10/dist-packages (from spacy<3.8.0,>=3.7.2->en-core-web-sm==3.7.1) (2.0.8)\n",
            "Requirement already satisfied: preshed<3.1.0,>=3.0.2 in /usr/local/lib/python3.10/dist-packages (from spacy<3.8.0,>=3.7.2->en-core-web-sm==3.7.1) (3.0.9)\n",
            "Requirement already satisfied: thinc<8.3.0,>=8.2.2 in /usr/local/lib/python3.10/dist-packages (from spacy<3.8.0,>=3.7.2->en-core-web-sm==3.7.1) (8.2.3)\n",
            "Requirement already satisfied: wasabi<1.2.0,>=0.9.1 in /usr/local/lib/python3.10/dist-packages (from spacy<3.8.0,>=3.7.2->en-core-web-sm==3.7.1) (1.1.2)\n",
            "Requirement already satisfied: srsly<3.0.0,>=2.4.3 in /usr/local/lib/python3.10/dist-packages (from spacy<3.8.0,>=3.7.2->en-core-web-sm==3.7.1) (2.4.8)\n",
            "Requirement already satisfied: catalogue<2.1.0,>=2.0.6 in /usr/local/lib/python3.10/dist-packages (from spacy<3.8.0,>=3.7.2->en-core-web-sm==3.7.1) (2.0.10)\n",
            "Requirement already satisfied: weasel<0.4.0,>=0.1.0 in /usr/local/lib/python3.10/dist-packages (from spacy<3.8.0,>=3.7.2->en-core-web-sm==3.7.1) (0.3.4)\n",
            "Requirement already satisfied: typer<0.10.0,>=0.3.0 in /usr/local/lib/python3.10/dist-packages (from spacy<3.8.0,>=3.7.2->en-core-web-sm==3.7.1) (0.9.4)\n",
            "Requirement already satisfied: smart-open<7.0.0,>=5.2.1 in /usr/local/lib/python3.10/dist-packages (from spacy<3.8.0,>=3.7.2->en-core-web-sm==3.7.1) (6.4.0)\n",
            "Requirement already satisfied: tqdm<5.0.0,>=4.38.0 in /usr/local/lib/python3.10/dist-packages (from spacy<3.8.0,>=3.7.2->en-core-web-sm==3.7.1) (4.66.4)\n",
            "Requirement already satisfied: requests<3.0.0,>=2.13.0 in /usr/local/lib/python3.10/dist-packages (from spacy<3.8.0,>=3.7.2->en-core-web-sm==3.7.1) (2.31.0)\n",
            "Requirement already satisfied: pydantic!=1.8,!=1.8.1,<3.0.0,>=1.7.4 in /usr/local/lib/python3.10/dist-packages (from spacy<3.8.0,>=3.7.2->en-core-web-sm==3.7.1) (2.7.1)\n",
            "Requirement already satisfied: jinja2 in /usr/local/lib/python3.10/dist-packages (from spacy<3.8.0,>=3.7.2->en-core-web-sm==3.7.1) (3.1.4)\n",
            "Requirement already satisfied: setuptools in /usr/local/lib/python3.10/dist-packages (from spacy<3.8.0,>=3.7.2->en-core-web-sm==3.7.1) (67.7.2)\n",
            "Requirement already satisfied: packaging>=20.0 in /usr/local/lib/python3.10/dist-packages (from spacy<3.8.0,>=3.7.2->en-core-web-sm==3.7.1) (24.0)\n",
            "Requirement already satisfied: langcodes<4.0.0,>=3.2.0 in /usr/local/lib/python3.10/dist-packages (from spacy<3.8.0,>=3.7.2->en-core-web-sm==3.7.1) (3.4.0)\n",
            "Requirement already satisfied: numpy>=1.19.0 in /usr/local/lib/python3.10/dist-packages (from spacy<3.8.0,>=3.7.2->en-core-web-sm==3.7.1) (1.25.2)\n",
            "Requirement already satisfied: language-data>=1.2 in /usr/local/lib/python3.10/dist-packages (from langcodes<4.0.0,>=3.2.0->spacy<3.8.0,>=3.7.2->en-core-web-sm==3.7.1) (1.2.0)\n",
            "Requirement already satisfied: annotated-types>=0.4.0 in /usr/local/lib/python3.10/dist-packages (from pydantic!=1.8,!=1.8.1,<3.0.0,>=1.7.4->spacy<3.8.0,>=3.7.2->en-core-web-sm==3.7.1) (0.6.0)\n",
            "Requirement already satisfied: pydantic-core==2.18.2 in /usr/local/lib/python3.10/dist-packages (from pydantic!=1.8,!=1.8.1,<3.0.0,>=1.7.4->spacy<3.8.0,>=3.7.2->en-core-web-sm==3.7.1) (2.18.2)\n",
            "Requirement already satisfied: typing-extensions>=4.6.1 in /usr/local/lib/python3.10/dist-packages (from pydantic!=1.8,!=1.8.1,<3.0.0,>=1.7.4->spacy<3.8.0,>=3.7.2->en-core-web-sm==3.7.1) (4.11.0)\n",
            "Requirement already satisfied: charset-normalizer<4,>=2 in /usr/local/lib/python3.10/dist-packages (from requests<3.0.0,>=2.13.0->spacy<3.8.0,>=3.7.2->en-core-web-sm==3.7.1) (3.3.2)\n",
            "Requirement already satisfied: idna<4,>=2.5 in /usr/local/lib/python3.10/dist-packages (from requests<3.0.0,>=2.13.0->spacy<3.8.0,>=3.7.2->en-core-web-sm==3.7.1) (3.7)\n",
            "Requirement already satisfied: urllib3<3,>=1.21.1 in /usr/local/lib/python3.10/dist-packages (from requests<3.0.0,>=2.13.0->spacy<3.8.0,>=3.7.2->en-core-web-sm==3.7.1) (2.0.7)\n",
            "Requirement already satisfied: certifi>=2017.4.17 in /usr/local/lib/python3.10/dist-packages (from requests<3.0.0,>=2.13.0->spacy<3.8.0,>=3.7.2->en-core-web-sm==3.7.1) (2024.2.2)\n",
            "Requirement already satisfied: blis<0.8.0,>=0.7.8 in /usr/local/lib/python3.10/dist-packages (from thinc<8.3.0,>=8.2.2->spacy<3.8.0,>=3.7.2->en-core-web-sm==3.7.1) (0.7.11)\n",
            "Requirement already satisfied: confection<1.0.0,>=0.0.1 in /usr/local/lib/python3.10/dist-packages (from thinc<8.3.0,>=8.2.2->spacy<3.8.0,>=3.7.2->en-core-web-sm==3.7.1) (0.1.4)\n",
            "Requirement already satisfied: click<9.0.0,>=7.1.1 in /usr/local/lib/python3.10/dist-packages (from typer<0.10.0,>=0.3.0->spacy<3.8.0,>=3.7.2->en-core-web-sm==3.7.1) (8.1.7)\n",
            "Requirement already satisfied: cloudpathlib<0.17.0,>=0.7.0 in /usr/local/lib/python3.10/dist-packages (from weasel<0.4.0,>=0.1.0->spacy<3.8.0,>=3.7.2->en-core-web-sm==3.7.1) (0.16.0)\n",
            "Requirement already satisfied: MarkupSafe>=2.0 in /usr/local/lib/python3.10/dist-packages (from jinja2->spacy<3.8.0,>=3.7.2->en-core-web-sm==3.7.1) (2.1.5)\n",
            "Requirement already satisfied: marisa-trie>=0.7.7 in /usr/local/lib/python3.10/dist-packages (from language-data>=1.2->langcodes<4.0.0,>=3.2.0->spacy<3.8.0,>=3.7.2->en-core-web-sm==3.7.1) (1.1.1)\n",
            "\u001b[38;5;2m✔ Download and installation successful\u001b[0m\n",
            "You can now load the package via spacy.load('en_core_web_sm')\n",
            "\u001b[38;5;3m⚠ Restart to reload dependencies\u001b[0m\n",
            "If you are in a Jupyter or Colab notebook, you may need to restart Python in\n",
            "order to load all the package's dependencies. You can do this by selecting the\n",
            "'Restart kernel' or 'Restart runtime' option.\n",
            "Collecting de-core-news-sm==3.7.0\n",
            "  Downloading https://github.com/explosion/spacy-models/releases/download/de_core_news_sm-3.7.0/de_core_news_sm-3.7.0-py3-none-any.whl (14.6 MB)\n",
            "\u001b[2K     \u001b[90m━━━━━━━━━━━━━━━━━━━━━━━━━━━━━━━━━━━━━━━━\u001b[0m \u001b[32m14.6/14.6 MB\u001b[0m \u001b[31m35.0 MB/s\u001b[0m eta \u001b[36m0:00:00\u001b[0m\n",
            "\u001b[?25hRequirement already satisfied: spacy<3.8.0,>=3.7.0 in /usr/local/lib/python3.10/dist-packages (from de-core-news-sm==3.7.0) (3.7.4)\n",
            "Requirement already satisfied: spacy-legacy<3.1.0,>=3.0.11 in /usr/local/lib/python3.10/dist-packages (from spacy<3.8.0,>=3.7.0->de-core-news-sm==3.7.0) (3.0.12)\n",
            "Requirement already satisfied: spacy-loggers<2.0.0,>=1.0.0 in /usr/local/lib/python3.10/dist-packages (from spacy<3.8.0,>=3.7.0->de-core-news-sm==3.7.0) (1.0.5)\n",
            "Requirement already satisfied: murmurhash<1.1.0,>=0.28.0 in /usr/local/lib/python3.10/dist-packages (from spacy<3.8.0,>=3.7.0->de-core-news-sm==3.7.0) (1.0.10)\n",
            "Requirement already satisfied: cymem<2.1.0,>=2.0.2 in /usr/local/lib/python3.10/dist-packages (from spacy<3.8.0,>=3.7.0->de-core-news-sm==3.7.0) (2.0.8)\n",
            "Requirement already satisfied: preshed<3.1.0,>=3.0.2 in /usr/local/lib/python3.10/dist-packages (from spacy<3.8.0,>=3.7.0->de-core-news-sm==3.7.0) (3.0.9)\n",
            "Requirement already satisfied: thinc<8.3.0,>=8.2.2 in /usr/local/lib/python3.10/dist-packages (from spacy<3.8.0,>=3.7.0->de-core-news-sm==3.7.0) (8.2.3)\n",
            "Requirement already satisfied: wasabi<1.2.0,>=0.9.1 in /usr/local/lib/python3.10/dist-packages (from spacy<3.8.0,>=3.7.0->de-core-news-sm==3.7.0) (1.1.2)\n",
            "Requirement already satisfied: srsly<3.0.0,>=2.4.3 in /usr/local/lib/python3.10/dist-packages (from spacy<3.8.0,>=3.7.0->de-core-news-sm==3.7.0) (2.4.8)\n",
            "Requirement already satisfied: catalogue<2.1.0,>=2.0.6 in /usr/local/lib/python3.10/dist-packages (from spacy<3.8.0,>=3.7.0->de-core-news-sm==3.7.0) (2.0.10)\n",
            "Requirement already satisfied: weasel<0.4.0,>=0.1.0 in /usr/local/lib/python3.10/dist-packages (from spacy<3.8.0,>=3.7.0->de-core-news-sm==3.7.0) (0.3.4)\n",
            "Requirement already satisfied: typer<0.10.0,>=0.3.0 in /usr/local/lib/python3.10/dist-packages (from spacy<3.8.0,>=3.7.0->de-core-news-sm==3.7.0) (0.9.4)\n",
            "Requirement already satisfied: smart-open<7.0.0,>=5.2.1 in /usr/local/lib/python3.10/dist-packages (from spacy<3.8.0,>=3.7.0->de-core-news-sm==3.7.0) (6.4.0)\n",
            "Requirement already satisfied: tqdm<5.0.0,>=4.38.0 in /usr/local/lib/python3.10/dist-packages (from spacy<3.8.0,>=3.7.0->de-core-news-sm==3.7.0) (4.66.4)\n",
            "Requirement already satisfied: requests<3.0.0,>=2.13.0 in /usr/local/lib/python3.10/dist-packages (from spacy<3.8.0,>=3.7.0->de-core-news-sm==3.7.0) (2.31.0)\n",
            "Requirement already satisfied: pydantic!=1.8,!=1.8.1,<3.0.0,>=1.7.4 in /usr/local/lib/python3.10/dist-packages (from spacy<3.8.0,>=3.7.0->de-core-news-sm==3.7.0) (2.7.1)\n",
            "Requirement already satisfied: jinja2 in /usr/local/lib/python3.10/dist-packages (from spacy<3.8.0,>=3.7.0->de-core-news-sm==3.7.0) (3.1.4)\n",
            "Requirement already satisfied: setuptools in /usr/local/lib/python3.10/dist-packages (from spacy<3.8.0,>=3.7.0->de-core-news-sm==3.7.0) (67.7.2)\n",
            "Requirement already satisfied: packaging>=20.0 in /usr/local/lib/python3.10/dist-packages (from spacy<3.8.0,>=3.7.0->de-core-news-sm==3.7.0) (24.0)\n",
            "Requirement already satisfied: langcodes<4.0.0,>=3.2.0 in /usr/local/lib/python3.10/dist-packages (from spacy<3.8.0,>=3.7.0->de-core-news-sm==3.7.0) (3.4.0)\n",
            "Requirement already satisfied: numpy>=1.19.0 in /usr/local/lib/python3.10/dist-packages (from spacy<3.8.0,>=3.7.0->de-core-news-sm==3.7.0) (1.25.2)\n",
            "Requirement already satisfied: language-data>=1.2 in /usr/local/lib/python3.10/dist-packages (from langcodes<4.0.0,>=3.2.0->spacy<3.8.0,>=3.7.0->de-core-news-sm==3.7.0) (1.2.0)\n",
            "Requirement already satisfied: annotated-types>=0.4.0 in /usr/local/lib/python3.10/dist-packages (from pydantic!=1.8,!=1.8.1,<3.0.0,>=1.7.4->spacy<3.8.0,>=3.7.0->de-core-news-sm==3.7.0) (0.6.0)\n",
            "Requirement already satisfied: pydantic-core==2.18.2 in /usr/local/lib/python3.10/dist-packages (from pydantic!=1.8,!=1.8.1,<3.0.0,>=1.7.4->spacy<3.8.0,>=3.7.0->de-core-news-sm==3.7.0) (2.18.2)\n",
            "Requirement already satisfied: typing-extensions>=4.6.1 in /usr/local/lib/python3.10/dist-packages (from pydantic!=1.8,!=1.8.1,<3.0.0,>=1.7.4->spacy<3.8.0,>=3.7.0->de-core-news-sm==3.7.0) (4.11.0)\n",
            "Requirement already satisfied: charset-normalizer<4,>=2 in /usr/local/lib/python3.10/dist-packages (from requests<3.0.0,>=2.13.0->spacy<3.8.0,>=3.7.0->de-core-news-sm==3.7.0) (3.3.2)\n",
            "Requirement already satisfied: idna<4,>=2.5 in /usr/local/lib/python3.10/dist-packages (from requests<3.0.0,>=2.13.0->spacy<3.8.0,>=3.7.0->de-core-news-sm==3.7.0) (3.7)\n",
            "Requirement already satisfied: urllib3<3,>=1.21.1 in /usr/local/lib/python3.10/dist-packages (from requests<3.0.0,>=2.13.0->spacy<3.8.0,>=3.7.0->de-core-news-sm==3.7.0) (2.0.7)\n",
            "Requirement already satisfied: certifi>=2017.4.17 in /usr/local/lib/python3.10/dist-packages (from requests<3.0.0,>=2.13.0->spacy<3.8.0,>=3.7.0->de-core-news-sm==3.7.0) (2024.2.2)\n",
            "Requirement already satisfied: blis<0.8.0,>=0.7.8 in /usr/local/lib/python3.10/dist-packages (from thinc<8.3.0,>=8.2.2->spacy<3.8.0,>=3.7.0->de-core-news-sm==3.7.0) (0.7.11)\n",
            "Requirement already satisfied: confection<1.0.0,>=0.0.1 in /usr/local/lib/python3.10/dist-packages (from thinc<8.3.0,>=8.2.2->spacy<3.8.0,>=3.7.0->de-core-news-sm==3.7.0) (0.1.4)\n",
            "Requirement already satisfied: click<9.0.0,>=7.1.1 in /usr/local/lib/python3.10/dist-packages (from typer<0.10.0,>=0.3.0->spacy<3.8.0,>=3.7.0->de-core-news-sm==3.7.0) (8.1.7)\n",
            "Requirement already satisfied: cloudpathlib<0.17.0,>=0.7.0 in /usr/local/lib/python3.10/dist-packages (from weasel<0.4.0,>=0.1.0->spacy<3.8.0,>=3.7.0->de-core-news-sm==3.7.0) (0.16.0)\n",
            "Requirement already satisfied: MarkupSafe>=2.0 in /usr/local/lib/python3.10/dist-packages (from jinja2->spacy<3.8.0,>=3.7.0->de-core-news-sm==3.7.0) (2.1.5)\n",
            "Requirement already satisfied: marisa-trie>=0.7.7 in /usr/local/lib/python3.10/dist-packages (from language-data>=1.2->langcodes<4.0.0,>=3.2.0->spacy<3.8.0,>=3.7.0->de-core-news-sm==3.7.0) (1.1.1)\n",
            "Installing collected packages: de-core-news-sm\n",
            "Successfully installed de-core-news-sm-3.7.0\n",
            "\u001b[38;5;2m✔ Download and installation successful\u001b[0m\n",
            "You can now load the package via spacy.load('de_core_news_sm')\n",
            "\u001b[38;5;3m⚠ Restart to reload dependencies\u001b[0m\n",
            "If you are in a Jupyter or Colab notebook, you may need to restart Python in\n",
            "order to load all the package's dependencies. You can do this by selecting the\n",
            "'Restart kernel' or 'Restart runtime' option.\n"
          ]
        }
      ]
    },
    {
      "cell_type": "code",
      "execution_count": 8,
      "metadata": {
        "id": "CCS0wd5ZHXJ0"
      },
      "outputs": [],
      "source": [
        "en_nlp = spacy.load(\"en_core_web_sm\")\n",
        "de_nlp = spacy.load(\"de_core_news_sm\")"
      ]
    },
    {
      "cell_type": "markdown",
      "metadata": {
        "id": "jRBC_kI1HXJ0"
      },
      "source": [
        "We can call the tokenizer for each spaCy model using the `.tokenizer` method, which accepts a string and returns a sequence of `Token` objects. We can get the string from the token object using the `text` attribute.\n"
      ]
    },
    {
      "cell_type": "code",
      "execution_count": 9,
      "metadata": {
        "id": "czfWsP1mHXJ0",
        "outputId": "c0470dcb-eabc-4733-e6e4-203b65a29eb1",
        "colab": {
          "base_uri": "https://localhost:8080/"
        }
      },
      "outputs": [
        {
          "output_type": "execute_result",
          "data": {
            "text/plain": [
              "['What', 'a', 'lovely', 'day', 'it', 'is', 'today', '!']"
            ]
          },
          "metadata": {},
          "execution_count": 9
        }
      ],
      "source": [
        "string = \"What a lovely day it is today!\"\n",
        "\n",
        "[token.text for token in en_nlp.tokenizer(string)]"
      ]
    },
    {
      "cell_type": "markdown",
      "metadata": {
        "id": "gBkpKDqnHXJ0"
      },
      "source": [
        "Next, we'll write a function used to apply the tokenizer to all of the examples in each data split, as well as apply some other processing.\n",
        "\n",
        "This function takes in an example from the `Dataset` object, applies the tokenizers English and German spaCy models, trims the list of tokens to a maximum length, optionally converts each token to lowercase, and then appends the start of sequence and end of sequence tokens to the beginning and end of the list of tokens.\n",
        "\n",
        "This function will be used with the `map` method from a `Dataset`, which needs to return a dictionary containing the names of the features in each example where the outputs are stored. As the output feature names \"en_tokens\" and \"de_tokens\" are not already contained in the example (where we only have \"en\" and \"de\" features), this will create two new features in each example.\n"
      ]
    },
    {
      "cell_type": "code",
      "execution_count": 10,
      "metadata": {
        "id": "Q7N849BaHXJ0"
      },
      "outputs": [],
      "source": [
        "def tokenize_example(example, en_nlp, de_nlp, max_length, lower, sos_token, eos_token):\n",
        "    en_tokens = [token.text for token in en_nlp.tokenizer(example[\"en\"])][:max_length]\n",
        "    de_tokens = [token.text for token in de_nlp.tokenizer(example[\"de\"])][:max_length]\n",
        "    if lower:\n",
        "        en_tokens = [token.lower() for token in en_tokens]\n",
        "        de_tokens = [token.lower() for token in de_tokens]\n",
        "    en_tokens = [sos_token] + en_tokens + [eos_token]\n",
        "    de_tokens = [sos_token] + de_tokens + [eos_token]\n",
        "    return {\"en_tokens\": en_tokens, \"de_tokens\": de_tokens}"
      ]
    },
    {
      "cell_type": "markdown",
      "metadata": {
        "id": "zCnroCF9HXJ0"
      },
      "source": [
        "We apply the `tokenize_example` function using the `map` method as below.\n",
        "\n",
        "The `example` argument is implied, however all additional arguments to the `tokenize_example` function need to be stored in a dictionary and passed to the `fn_kwargs` argument of `map`.\n",
        "\n",
        "Here, we're trimming all sequences to a maximum length of 1000 tokens, converting each token to lower case, and using `<sos>` and `<eos>` as the start and end of sequence tokens, respectively.\n"
      ]
    },
    {
      "cell_type": "code",
      "execution_count": 11,
      "metadata": {
        "colab": {
          "referenced_widgets": [
            "eaef3d25204d4349b1640a3972b2b409",
            "e43c339524ab420cbbbd7cdfe850b01e",
            "cc98469c4eff4a0983899ab8dbc8eaaa",
            "e6541e34d5124e4eb8899fb825620ad5",
            "09b5b0b95eca430abacac13e6cb99d2c",
            "e8e8a2e50ddc49cfab55e074779bd697",
            "20e0cc70c9744bbaad6880dda7f8687f",
            "8f75d3322849497d93b75c93ac081530",
            "1f04a628977f4d1eb28b06684531288a",
            "db1d6f1e6c894b7aa83a50d7bae63015",
            "b5b8a0aae1744ba6a47fc56e5155cd0a",
            "e59bc29279ab4b629aba7dae8c3ba339",
            "9429df9b092340bb956e98c0b92a3cd6",
            "a3229c3c15a949acb3986239d314165b",
            "917bac1e8cc6424f9a3b66eb79af59fc",
            "3e743499fc714e5091e0813c4c30e2c5",
            "39ec4175a98e428ea06343bb08c5a0cc",
            "8f73e037e6c84b27bee5572410901512",
            "7502cfaa08b647e3988149b15c810154",
            "308116da69d84a0f813ffcf9a8088f05",
            "24203cec9ea24064978947bf014d2af5",
            "2b10abd0b2e343c2baff9085dfe46cae",
            "aca73b0648384641bda2ce0a5cb7d118",
            "24de4d6ac43d44eba66192c396a2ccca",
            "d9f73cdf510845cb8fb0ae47e13071dc",
            "cd51fa88a59749039b1f783698399e83",
            "b136871d31544881b47d24ec0c79be31",
            "b51645d7004f47dda7c627ca4d32c73a",
            "5cb210c89e7a4b918ef5780588f46732",
            "1271171e84c24915bbb86f9b2da8303f",
            "8cc0b287967f42f89808f8748bd102ea",
            "55782b1373734ff4a2cc3ddec90b1177",
            "97dee582f45140c695632a0000deea22"
          ],
          "base_uri": "https://localhost:8080/",
          "height": 113
        },
        "id": "pdQfZcCHHXJ1",
        "outputId": "747dae38-c1df-4b30-b520-71bd0a32f43e"
      },
      "outputs": [
        {
          "output_type": "display_data",
          "data": {
            "text/plain": [
              "Map:   0%|          | 0/29000 [00:00<?, ? examples/s]"
            ],
            "application/vnd.jupyter.widget-view+json": {
              "version_major": 2,
              "version_minor": 0,
              "model_id": "eaef3d25204d4349b1640a3972b2b409"
            }
          },
          "metadata": {}
        },
        {
          "output_type": "display_data",
          "data": {
            "text/plain": [
              "Map:   0%|          | 0/1014 [00:00<?, ? examples/s]"
            ],
            "application/vnd.jupyter.widget-view+json": {
              "version_major": 2,
              "version_minor": 0,
              "model_id": "e59bc29279ab4b629aba7dae8c3ba339"
            }
          },
          "metadata": {}
        },
        {
          "output_type": "display_data",
          "data": {
            "text/plain": [
              "Map:   0%|          | 0/1000 [00:00<?, ? examples/s]"
            ],
            "application/vnd.jupyter.widget-view+json": {
              "version_major": 2,
              "version_minor": 0,
              "model_id": "aca73b0648384641bda2ce0a5cb7d118"
            }
          },
          "metadata": {}
        }
      ],
      "source": [
        "max_length = 1_000\n",
        "lower = True\n",
        "sos_token = \"<sos>\"\n",
        "eos_token = \"<eos>\"\n",
        "\n",
        "fn_kwargs = {\n",
        "    \"en_nlp\": en_nlp,\n",
        "    \"de_nlp\": de_nlp,\n",
        "    \"max_length\": max_length,\n",
        "    \"lower\": lower,\n",
        "    \"sos_token\": sos_token,\n",
        "    \"eos_token\": eos_token,\n",
        "}\n",
        "\n",
        "train_data = train_data.map(tokenize_example, fn_kwargs=fn_kwargs)\n",
        "valid_data = valid_data.map(tokenize_example, fn_kwargs=fn_kwargs)\n",
        "test_data = test_data.map(tokenize_example, fn_kwargs=fn_kwargs)"
      ]
    },
    {
      "cell_type": "markdown",
      "metadata": {
        "id": "l1dVSFrqHXJ1"
      },
      "source": [
        "We can now look at an example, confirming the two new features have been added; both of which are lowercased list of strings with the start/end of sequence tokens appended.\n"
      ]
    },
    {
      "cell_type": "code",
      "source": [],
      "metadata": {
        "id": "E1EhZP_GIO6f"
      },
      "execution_count": 11,
      "outputs": []
    },
    {
      "cell_type": "code",
      "execution_count": 12,
      "metadata": {
        "id": "jkdKi-CJHXJ1",
        "outputId": "1933e0af-f075-4d48-bdc9-30c110418eb1",
        "colab": {
          "base_uri": "https://localhost:8080/"
        }
      },
      "outputs": [
        {
          "output_type": "execute_result",
          "data": {
            "text/plain": [
              "{'en': 'Two young, White males are outside near many bushes.',\n",
              " 'de': 'Zwei junge weiße Männer sind im Freien in der Nähe vieler Büsche.',\n",
              " 'en_tokens': ['<sos>',\n",
              "  'two',\n",
              "  'young',\n",
              "  ',',\n",
              "  'white',\n",
              "  'males',\n",
              "  'are',\n",
              "  'outside',\n",
              "  'near',\n",
              "  'many',\n",
              "  'bushes',\n",
              "  '.',\n",
              "  '<eos>'],\n",
              " 'de_tokens': ['<sos>',\n",
              "  'zwei',\n",
              "  'junge',\n",
              "  'weiße',\n",
              "  'männer',\n",
              "  'sind',\n",
              "  'im',\n",
              "  'freien',\n",
              "  'in',\n",
              "  'der',\n",
              "  'nähe',\n",
              "  'vieler',\n",
              "  'büsche',\n",
              "  '.',\n",
              "  '<eos>']}"
            ]
          },
          "metadata": {},
          "execution_count": 12
        }
      ],
      "source": [
        "train_data[0]"
      ]
    },
    {
      "cell_type": "markdown",
      "metadata": {
        "id": "EVWycqI6HXJ1"
      },
      "source": [
        "### Vocabularies\n",
        "\n",
        "Next, we'll build the _vocabulary_ for the source and target languages. The vocabulary is used to associate each unique token in our dataset with an index (an integer), e.g. \"hello\" = 1, \"world\" = 2, \"bye\" = 3, \"hates\" = 4, etc. When feeding text data to our model, we convert the string into tokens and then the tokens into numbers using the vocabulary as a look up table, e.g. \"hello world\" becomes `[\"hello\", \"world\"]` which becomes `[1, 2]` using the example indices given. We do this as neural networks cannot operate on strings, only numerical values.\n",
        "\n",
        "We create the vocabulary (one for each language) from our datasets using the `build_vocab_from_iterator` function, provided by `torchtext`, which accepts an iterator where each item is a list of tokens. It then counts up the number of unique tokens and assigns each a numerical value.\n",
        "\n",
        "In theory, our vocabulary can be large enough to have an index for every unique token in our dataset. However, what happens if a token exists in our validation and test set, but not in our training set? In that case, we replace the token with an \"unknown token\", denoted by `<unk>`, which is given its own index (usually index zero). All unknown tokens are replaced by `<unk>`, even if the tokens are different, i.e. if the tokens \"gilgamesh\" and \"enkidu\" were both not within our vocabulary, then the string \"gilgamesh hates enkidu\" gets tokenized to `[\"gilgamesh\", \"hates\", \"enkidu\"]` and then becomes `[0, 24, 0]` (where \"hates\" has the index 24).\n",
        "\n",
        "Ideally, we want our model to be able to handle unknown tokens by learning to use the context around them to make translations. The only way it can learn that is if we also have unknown tokens in the training set. Hence, when creating our vocabularies with `build_vocab_from_iterator`, we use the `min_freq` argument to not create an index for tokens which appear less than `min_freq` times in our training set. In other words, when using the vocabulary, any token which does not appear at least twice in our training set will get replaced by the unknown token index when converting tokens to indices.\n",
        "\n",
        "It is important to note that a vocabulary should only be built from the training set and never the validation or test set. This prevents \"information leakage\" into our model, giving us artifically inflated validation/test scores.\n",
        "\n",
        "We also use the `specials` argument of `build_vocab_from_iterator` to pass _special tokens_. These are tokens which we want to add to the vocabulary but do not necessarily appear in our tokenized examples. These special tokens will appear first in the vocabulary. We've already discussed the `unk_token`, `sos_token`, and `eos_token`. The final special token is the `pad_token`, denoted by `<pad>`.\n",
        "\n",
        "When inputting sentences into our model, it is more efficient to pass multiple sentences at once (known as a batch), instead of one at a time. The requirement for sentences to be batched together is that they all have to be the same length (in terms of the number of tokens). The majority of our sentences are not the same length, but we can solve this by \"padding\" (adding `<pad>` tokens) the tokenized version of each sentence in a batch until they all have equal tokens to the longest sentence in the batch. For example, if we had two sentences: \"I love pizza\" and \"I hate music videos\". They would be tokenized to something like: `[\"i\", \"love\", \"pizza\"]` and `[\"i\", \"hate\", \"music\", \"videos\"]`. The first sequence of tokens would then be padded to `[\"i\", \"love\", \"pizza\", \"<pad>\"]`. Both sequences could then be converted to indexes using the vocabulary.\n",
        "\n",
        "That was a lot of information, but luckily `torchtext` handles all the fuss of building the vocabulary. We'll handle the padding and batching later.\n"
      ]
    },
    {
      "cell_type": "code",
      "execution_count": 13,
      "metadata": {
        "id": "o7lceQS7HXJ1"
      },
      "outputs": [],
      "source": [
        "min_freq = 2\n",
        "unk_token = \"<unk>\"\n",
        "pad_token = \"<pad>\"\n",
        "\n",
        "special_tokens = [\n",
        "    unk_token,\n",
        "    pad_token,\n",
        "    sos_token,\n",
        "    eos_token,\n",
        "]\n",
        "\n",
        "en_vocab = torchtext.vocab.build_vocab_from_iterator(\n",
        "    train_data[\"en_tokens\"],\n",
        "    min_freq=min_freq,\n",
        "    specials=special_tokens,\n",
        ")\n",
        "\n",
        "de_vocab = torchtext.vocab.build_vocab_from_iterator(\n",
        "    train_data[\"de_tokens\"],\n",
        "    min_freq=min_freq,\n",
        "    specials=special_tokens,\n",
        ")"
      ]
    },
    {
      "cell_type": "markdown",
      "metadata": {
        "id": "vNA462HUHXJ1"
      },
      "source": [
        "Now we have our vocabularies, we can check what's actually in them.\n",
        "\n",
        "We can get the first ten tokens in our vocabulary (indices 0 to 9) using the `get_itos` method, where itos = \"**i**nt **to** **s**tring\", which returns a list of tokens.\n"
      ]
    },
    {
      "cell_type": "code",
      "execution_count": 14,
      "metadata": {
        "id": "S2iEyi-bHXJ1",
        "outputId": "5c054f45-f815-4954-ac14-359dcae68ad4",
        "colab": {
          "base_uri": "https://localhost:8080/"
        }
      },
      "outputs": [
        {
          "output_type": "execute_result",
          "data": {
            "text/plain": [
              "['<unk>', '<pad>', '<sos>', '<eos>', 'a', '.', 'in', 'the', 'on', 'man']"
            ]
          },
          "metadata": {},
          "execution_count": 14
        }
      ],
      "source": [
        "en_vocab.get_itos()[:10]"
      ]
    },
    {
      "cell_type": "code",
      "execution_count": 15,
      "metadata": {
        "id": "DZzcMq2QHXJ1",
        "outputId": "17c775cd-c919-48cb-ea69-5fe68d91be2e",
        "colab": {
          "base_uri": "https://localhost:8080/",
          "height": 35
        }
      },
      "outputs": [
        {
          "output_type": "execute_result",
          "data": {
            "text/plain": [
              "'man'"
            ],
            "application/vnd.google.colaboratory.intrinsic+json": {
              "type": "string"
            }
          },
          "metadata": {},
          "execution_count": 15
        }
      ],
      "source": [
        "en_vocab.get_itos()[9]"
      ]
    },
    {
      "cell_type": "markdown",
      "metadata": {
        "id": "Y6wttJklHXJ1"
      },
      "source": [
        "We can do the same for the German vocabulary. Notice how the special tokens are the same and in the same order (indices 0 to 3), however the rest are different. This is because the vocabularies were effectively created from different data (one English and one German) even though they were from the same examples. The indices given to tokens that are not special tokens are ordered from most frequent to least frequent (though still appearing at least `min_freq` times).\n"
      ]
    },
    {
      "cell_type": "code",
      "execution_count": 16,
      "metadata": {
        "id": "cQVmbLI9HXJ1",
        "outputId": "cd349330-cbf6-4307-c6a1-8931be1c189d",
        "colab": {
          "base_uri": "https://localhost:8080/"
        }
      },
      "outputs": [
        {
          "output_type": "execute_result",
          "data": {
            "text/plain": [
              "['<unk>', '<pad>', '<sos>', '<eos>', '.', 'ein', 'einem', 'in', 'eine', ',']"
            ]
          },
          "metadata": {},
          "execution_count": 16
        }
      ],
      "source": [
        "de_vocab.get_itos()[:10]"
      ]
    },
    {
      "cell_type": "markdown",
      "metadata": {
        "id": "XadGrQBIHXJ1"
      },
      "source": [
        "We can get the index from a given token using the `get_stoi` (stoi = \" **s**tring **to** **i**nt) method.\n"
      ]
    },
    {
      "cell_type": "code",
      "execution_count": 17,
      "metadata": {
        "id": "w66zA3DFHXJ1",
        "outputId": "70ef41e0-1d10-47e9-b8cd-ebfa22a5ed89",
        "colab": {
          "base_uri": "https://localhost:8080/"
        }
      },
      "outputs": [
        {
          "output_type": "execute_result",
          "data": {
            "text/plain": [
              "7"
            ]
          },
          "metadata": {},
          "execution_count": 17
        }
      ],
      "source": [
        "en_vocab.get_stoi()[\"the\"]"
      ]
    },
    {
      "cell_type": "markdown",
      "metadata": {
        "id": "DdOrfMW6HXJ1"
      },
      "source": [
        "As a shorthand, we can just use the vocabulary as a dictionary and pass the token to get the index. Note that this doesn't work the other way around, i.e. `en_vocab[7]` does not work.\n"
      ]
    },
    {
      "cell_type": "code",
      "execution_count": 18,
      "metadata": {
        "id": "eJ6I2TFkHXJ1",
        "outputId": "d1fea330-6312-4388-bf88-6b93c822d1c4",
        "colab": {
          "base_uri": "https://localhost:8080/"
        }
      },
      "outputs": [
        {
          "output_type": "execute_result",
          "data": {
            "text/plain": [
              "7"
            ]
          },
          "metadata": {},
          "execution_count": 18
        }
      ],
      "source": [
        "en_vocab[\"the\"]"
      ]
    },
    {
      "cell_type": "markdown",
      "metadata": {
        "id": "xXffnbF4HXJ1"
      },
      "source": [
        "The `len` of each vocabulary gives us the number of unique tokens in each one. We can see that our training data had around 2000 more German tokens (that appeared at least twice) than the English data.\n"
      ]
    },
    {
      "cell_type": "code",
      "execution_count": 19,
      "metadata": {
        "id": "Rcn7UiGcHXJ1",
        "outputId": "1d49a646-bd9e-4db8-eacf-fbc1394c0f6f",
        "colab": {
          "base_uri": "https://localhost:8080/"
        }
      },
      "outputs": [
        {
          "output_type": "execute_result",
          "data": {
            "text/plain": [
              "(5893, 7853)"
            ]
          },
          "metadata": {},
          "execution_count": 19
        }
      ],
      "source": [
        "len(en_vocab), len(de_vocab)"
      ]
    },
    {
      "cell_type": "markdown",
      "metadata": {
        "id": "kYaT3Ge6HXJ2"
      },
      "source": [
        "We can also use the `in` keyword to get a boolean indicating if a token is in the vocabulary.\n"
      ]
    },
    {
      "cell_type": "code",
      "execution_count": 20,
      "metadata": {
        "id": "bD_OGrzBHXJ2",
        "outputId": "9b378058-a82e-487e-f10c-dd901fa621a2",
        "colab": {
          "base_uri": "https://localhost:8080/"
        }
      },
      "outputs": [
        {
          "output_type": "execute_result",
          "data": {
            "text/plain": [
              "True"
            ]
          },
          "metadata": {},
          "execution_count": 20
        }
      ],
      "source": [
        "\"the\" in en_vocab"
      ]
    },
    {
      "cell_type": "markdown",
      "metadata": {
        "id": "N-f8YhM_HXJ5"
      },
      "source": [
        "Remember how we converted all of our tokens to lowercase? This means that no tokens containing any uppercase characters appear in our vocabulary.\n"
      ]
    },
    {
      "cell_type": "code",
      "execution_count": 21,
      "metadata": {
        "id": "-Vr9ANAuHXJ5",
        "outputId": "63910a2e-efc3-4d85-c8c4-f49dabf1144d",
        "colab": {
          "base_uri": "https://localhost:8080/"
        }
      },
      "outputs": [
        {
          "output_type": "execute_result",
          "data": {
            "text/plain": [
              "False"
            ]
          },
          "metadata": {},
          "execution_count": 21
        }
      ],
      "source": [
        "\"The\" in en_vocab"
      ]
    },
    {
      "cell_type": "markdown",
      "metadata": {
        "id": "f31xpV2iHXJ5"
      },
      "source": [
        "What happens if you try and get the index of a token that isn't in the vocabulary? You get index zero for the `<unk>` (unknown) token, right?\n",
        "\n",
        "Well, no. One quirk of the `torchtext` vocabulary class is that you have to manually set what value you want your vocabulary to return when you try and get the index of an out-of-vocabulary token. If you have not set this value, then you will receive an error! This is so you can set your vocabulary to return any value when trying to get the index of a token not in the vocabulary, even something like `-100`.\n"
      ]
    },
    {
      "cell_type": "markdown",
      "metadata": {
        "id": "5UtFlDMhHXJ5"
      },
      "source": [
        "We already know the index of our `<unk>` token is zero as it's the first element in our `special_tokens` list, and we've also manually inspected it using `get_itos`.\n",
        "\n",
        "However, here we'll programmatically get it and also check that both our vocabularies have the same index for the unknown and padding tokens as this simplifies some code later on.\n",
        "\n",
        "We also get the index of our `<pad>` token, as we'll use it later\n"
      ]
    },
    {
      "cell_type": "code",
      "execution_count": 22,
      "metadata": {
        "id": "DoY5hHUNHXJ5"
      },
      "outputs": [],
      "source": [
        "unk_index = en_vocab[unk_token]\n",
        "pad_index = en_vocab[pad_token]"
      ]
    },
    {
      "cell_type": "markdown",
      "metadata": {
        "id": "5wwMhG-7HXJ5"
      },
      "source": [
        "Using the `set_default_index` method we can set what value is returned when we try and get the index of a token outside of our vocabulary. In this case, the index of the unknown token, `<unk>`.\n"
      ]
    },
    {
      "cell_type": "code",
      "execution_count": 23,
      "metadata": {
        "id": "EN9hrwlYHXJ5"
      },
      "outputs": [],
      "source": [
        "en_vocab.set_default_index(unk_index)\n",
        "de_vocab.set_default_index(unk_index)"
      ]
    },
    {
      "cell_type": "markdown",
      "metadata": {
        "id": "jReUK21bHXJ6"
      },
      "source": [
        "Now, we can happily get indexes of out of vocabulary tokens until our heart is content!\n"
      ]
    },
    {
      "cell_type": "code",
      "execution_count": 24,
      "metadata": {
        "id": "bJyVYf2NHXJ6",
        "outputId": "de2e903e-4184-4493-ff08-48ac8178b36b",
        "colab": {
          "base_uri": "https://localhost:8080/"
        }
      },
      "outputs": [
        {
          "output_type": "execute_result",
          "data": {
            "text/plain": [
              "0"
            ]
          },
          "metadata": {},
          "execution_count": 24
        }
      ],
      "source": [
        "en_vocab[\"The\"]"
      ]
    },
    {
      "cell_type": "markdown",
      "metadata": {
        "id": "mnUgL51_HXJ6"
      },
      "source": [
        "And we can get the token corresponding to that index to prove it's the `<unk>` token.\n"
      ]
    },
    {
      "cell_type": "code",
      "execution_count": 25,
      "metadata": {
        "id": "0ayMedecHXJ6",
        "outputId": "613af6cd-5c3f-459b-e8c0-72215efdaa3f",
        "colab": {
          "base_uri": "https://localhost:8080/",
          "height": 35
        }
      },
      "outputs": [
        {
          "output_type": "execute_result",
          "data": {
            "text/plain": [
              "'<unk>'"
            ],
            "application/vnd.google.colaboratory.intrinsic+json": {
              "type": "string"
            }
          },
          "metadata": {},
          "execution_count": 25
        }
      ],
      "source": [
        "en_vocab.get_itos()[0]"
      ]
    },
    {
      "cell_type": "markdown",
      "metadata": {
        "id": "WtIBTZAaHXJ6"
      },
      "source": [
        "Another useful feature of the vocabulary is the `lookup_indices` method. This takes in a list of tokens and returns a list of indices. In the below example we can see the token \"crime\" does not exist in our vocabulary so is coverted to the index of the `<unk>` token, zero, which we passed to the `set_default_index` method.\n"
      ]
    },
    {
      "cell_type": "code",
      "execution_count": 26,
      "metadata": {
        "id": "ZIfpwDPQHXJ6"
      },
      "outputs": [],
      "source": [
        "tokens = [\"i\", \"love\", \"watching\", \"crime\", \"shows\"]"
      ]
    },
    {
      "cell_type": "code",
      "execution_count": 27,
      "metadata": {
        "id": "lE1kO0WRHXJ6",
        "outputId": "beca2515-8132-407c-8270-732c590b3f45",
        "colab": {
          "base_uri": "https://localhost:8080/"
        }
      },
      "outputs": [
        {
          "output_type": "execute_result",
          "data": {
            "text/plain": [
              "[956, 2169, 173, 0, 821]"
            ]
          },
          "metadata": {},
          "execution_count": 27
        }
      ],
      "source": [
        "en_vocab.lookup_indices(tokens)"
      ]
    },
    {
      "cell_type": "markdown",
      "metadata": {
        "id": "51_nL09vHXJ6"
      },
      "source": [
        "Conversely, we can use the `lookup_tokens` method to convert a list of indices back into tokens using the vocabulary. Notice how the original \"crime\" token is now an `<unk>` token. There is no way to tell what the original sequence of tokens was.\n"
      ]
    },
    {
      "cell_type": "code",
      "execution_count": 28,
      "metadata": {
        "id": "H1kIpKvMHXJ6",
        "outputId": "043e4902-1d85-402f-badd-3c102817518e",
        "colab": {
          "base_uri": "https://localhost:8080/"
        }
      },
      "outputs": [
        {
          "output_type": "execute_result",
          "data": {
            "text/plain": [
              "['i', 'love', 'watching', '<unk>', 'shows']"
            ]
          },
          "metadata": {},
          "execution_count": 28
        }
      ],
      "source": [
        "en_vocab.lookup_tokens(en_vocab.lookup_indices(tokens))"
      ]
    },
    {
      "cell_type": "markdown",
      "metadata": {
        "id": "MD0NFMtBHXJ6"
      },
      "source": [
        "Hopefully we've now got the gist of how the `torchtext.Vocab` class works. Time to put it into action!\n",
        "\n",
        "Just like our `tokenize_example`, we create a `numericalize_example` function which we'll use with the `map` method of our dataset. This will \"numericalize\" (a fancy way of saying convert tokens to indices) our tokens in each example using the vocabularies and return the result into new \"en_ids\" and \"de_ids\" features.\n"
      ]
    },
    {
      "cell_type": "code",
      "execution_count": 29,
      "metadata": {
        "id": "g2iIfWMhHXJ6"
      },
      "outputs": [],
      "source": [
        "def numericalize_example(example, en_vocab, de_vocab):\n",
        "    en_ids = en_vocab.lookup_indices(example[\"en_tokens\"])\n",
        "    de_ids = de_vocab.lookup_indices(example[\"de_tokens\"])\n",
        "    return {\"en_ids\": en_ids, \"de_ids\": de_ids}"
      ]
    },
    {
      "cell_type": "markdown",
      "metadata": {
        "id": "wZm96LBuHXJ6"
      },
      "source": [
        "We apply the `numericalize_example` function, passing our vocabularies in the `fn_kwargs` dictionary to the `fn_kwargs` argument.\n"
      ]
    },
    {
      "cell_type": "code",
      "execution_count": 30,
      "metadata": {
        "colab": {
          "referenced_widgets": [
            "977716d360a24c069253a2a7a8f790c0",
            "eee7e78f096d46b2b4cd2c3c64578a72",
            "44e9e5e549074374bd2a5e88be9d891f",
            "b78fbc541ce24fc1996ab114da135a39",
            "b67c5a31b7824c3c91a9e3d8f84cbcb9",
            "da0eeb897cc241e7afb65d8bbea7e33a",
            "9a7b14fb1ed04f36a05c229e1232996c",
            "641dac2464954ebabf61c001c2f617fb",
            "b8686fa96dd6435d8c8065ca161200b4",
            "19bbb9e84ff14f2f81ec972f3913fe04",
            "674b8a19701e4e8a8c570431e8b179e1",
            "8669ade00c6e49e79d4b44ba714f0bd6",
            "62c94032e7dd4bb4a5a1d46307a341a5",
            "0ea1577f338c4826a1386bf060460e4f",
            "77e82a4036b44d588fe21b4651bc2dd4",
            "fe3a49ee3da14f7ca02344ed004a1cf3",
            "9900ab874db24b09940618d9da0a75a2",
            "7fb112742b6e43f8903cf77cd5bc3c02",
            "5028c509179c43c581d4d9bdd4a666b0",
            "c522005e80884bcc977e0b6ca215f70f",
            "5e0fc6c084ba43a78ae6f59a7c16c8ec",
            "1d96e39237524f4298f5c0926f61ca18",
            "775f10b6c38d4dc7846b83570f0b00ab",
            "3c5920ebd38f4c28bea61538b440b32e",
            "1e3b40012e7c4ec58cdea7c05d17630c",
            "af84705699a44a468212c259c8b07884",
            "4791ccf762da411a9a0529f7cda1dd76",
            "97d1a3f1c0d84f259e5c4582b54871ac",
            "45153cef631d400b959cbfa2eb60ad66",
            "a3ee7ab45a854d8ea974b72aeb8fcf64",
            "ae1cfa4b2e15403dbfd1b6a25b88b1f5",
            "4827841e172143bbb88b946756480b6e",
            "73c00284c90f4ccda6a9a6e60bf301f0"
          ],
          "base_uri": "https://localhost:8080/",
          "height": 113
        },
        "id": "flEG2EE-HXJ6",
        "outputId": "f67ccb27-7fba-49d0-91e3-f2084d84eb11"
      },
      "outputs": [
        {
          "output_type": "display_data",
          "data": {
            "text/plain": [
              "Map:   0%|          | 0/29000 [00:00<?, ? examples/s]"
            ],
            "application/vnd.jupyter.widget-view+json": {
              "version_major": 2,
              "version_minor": 0,
              "model_id": "977716d360a24c069253a2a7a8f790c0"
            }
          },
          "metadata": {}
        },
        {
          "output_type": "display_data",
          "data": {
            "text/plain": [
              "Map:   0%|          | 0/1014 [00:00<?, ? examples/s]"
            ],
            "application/vnd.jupyter.widget-view+json": {
              "version_major": 2,
              "version_minor": 0,
              "model_id": "8669ade00c6e49e79d4b44ba714f0bd6"
            }
          },
          "metadata": {}
        },
        {
          "output_type": "display_data",
          "data": {
            "text/plain": [
              "Map:   0%|          | 0/1000 [00:00<?, ? examples/s]"
            ],
            "application/vnd.jupyter.widget-view+json": {
              "version_major": 2,
              "version_minor": 0,
              "model_id": "775f10b6c38d4dc7846b83570f0b00ab"
            }
          },
          "metadata": {}
        }
      ],
      "source": [
        "fn_kwargs = {\"en_vocab\": en_vocab, \"de_vocab\": de_vocab}\n",
        "\n",
        "train_data = train_data.map(numericalize_example, fn_kwargs=fn_kwargs)\n",
        "valid_data = valid_data.map(numericalize_example, fn_kwargs=fn_kwargs)\n",
        "test_data = test_data.map(numericalize_example, fn_kwargs=fn_kwargs)"
      ]
    },
    {
      "cell_type": "markdown",
      "metadata": {
        "id": "7v-ohYpmHXJ6"
      },
      "source": [
        "Checking an example, we can see that it has the two new features: \"en_ids\" and \"de_ids\", both a list of integers representing their indices in the respective vocabulary.\n"
      ]
    },
    {
      "cell_type": "code",
      "execution_count": 31,
      "metadata": {
        "id": "Z-NboBSCHXJ6",
        "outputId": "b20916b9-9248-44d4-f3b4-969effdc8814",
        "colab": {
          "base_uri": "https://localhost:8080/"
        }
      },
      "outputs": [
        {
          "output_type": "execute_result",
          "data": {
            "text/plain": [
              "{'en': 'Two young, White males are outside near many bushes.',\n",
              " 'de': 'Zwei junge weiße Männer sind im Freien in der Nähe vieler Büsche.',\n",
              " 'en_tokens': ['<sos>',\n",
              "  'two',\n",
              "  'young',\n",
              "  ',',\n",
              "  'white',\n",
              "  'males',\n",
              "  'are',\n",
              "  'outside',\n",
              "  'near',\n",
              "  'many',\n",
              "  'bushes',\n",
              "  '.',\n",
              "  '<eos>'],\n",
              " 'de_tokens': ['<sos>',\n",
              "  'zwei',\n",
              "  'junge',\n",
              "  'weiße',\n",
              "  'männer',\n",
              "  'sind',\n",
              "  'im',\n",
              "  'freien',\n",
              "  'in',\n",
              "  'der',\n",
              "  'nähe',\n",
              "  'vieler',\n",
              "  'büsche',\n",
              "  '.',\n",
              "  '<eos>'],\n",
              " 'en_ids': [2, 16, 24, 15, 25, 778, 17, 57, 80, 202, 1312, 5, 3],\n",
              " 'de_ids': [2, 18, 26, 253, 30, 84, 20, 88, 7, 15, 110, 7647, 3171, 4, 3]}"
            ]
          },
          "metadata": {},
          "execution_count": 31
        }
      ],
      "source": [
        "train_data[0]"
      ]
    },
    {
      "cell_type": "markdown",
      "metadata": {
        "id": "q3gHNE7THXJ6"
      },
      "source": [
        "We can confirm the indices are correct by using the `lookup_tokens` method with the corresponding vocabulary on the list of indices.\n"
      ]
    },
    {
      "cell_type": "code",
      "execution_count": 32,
      "metadata": {
        "id": "vgw_xGn_HXJ6",
        "outputId": "835cbede-a92b-4d96-c719-ac76104906e1",
        "colab": {
          "base_uri": "https://localhost:8080/"
        }
      },
      "outputs": [
        {
          "output_type": "execute_result",
          "data": {
            "text/plain": [
              "['<sos>',\n",
              " 'two',\n",
              " 'young',\n",
              " ',',\n",
              " 'white',\n",
              " 'males',\n",
              " 'are',\n",
              " 'outside',\n",
              " 'near',\n",
              " 'many',\n",
              " 'bushes',\n",
              " '.',\n",
              " '<eos>']"
            ]
          },
          "metadata": {},
          "execution_count": 32
        }
      ],
      "source": [
        "en_vocab.lookup_tokens(train_data[0][\"en_ids\"])"
      ]
    },
    {
      "cell_type": "markdown",
      "metadata": {
        "id": "Ta7k1f1gHXJ6"
      },
      "source": [
        "One other thing that the `datasets` library handles for us with the `Dataset` class is converting features to the correct type. Our indices in each example are currently basic Python integers. However, they need to be converted to PyTorch tensors in order to use them with PyTorch. We could convert them just before we pass them into the model, however it is more convenient to do it now.\n",
        "\n",
        "The `with_format` method converts features indicated by the `columns` argument to a given `type`. Here, we specify the type as \"torch\" (for PyTorch) and the columns to be \"en_ids\" and \"de_ids\" (the features which we want to convert to PyTorch tensors). By default, `with_format` will remove any features not in the list of features passed to `columns`. We want to keep those features, which we can do with `output_all_columns=True`.\n"
      ]
    },
    {
      "cell_type": "code",
      "execution_count": 33,
      "metadata": {
        "id": "KcPsmqwVHXJ6"
      },
      "outputs": [],
      "source": [
        "data_type = \"torch\"\n",
        "format_columns = [\"en_ids\", \"de_ids\"]\n",
        "\n",
        "train_data = train_data.with_format(\n",
        "    type=data_type, columns=format_columns, output_all_columns=True\n",
        ")\n",
        "\n",
        "valid_data = valid_data.with_format(\n",
        "    type=data_type,\n",
        "    columns=format_columns,\n",
        "    output_all_columns=True,\n",
        ")\n",
        "\n",
        "test_data = test_data.with_format(\n",
        "    type=data_type,\n",
        "    columns=format_columns,\n",
        "    output_all_columns=True,\n",
        ")"
      ]
    },
    {
      "cell_type": "markdown",
      "metadata": {
        "id": "rMXPAJ_4HXJ7"
      },
      "source": [
        "We can confirm this worked by checking an example and seeing the \"en_ids\" and \"de_ids\" features are listed as `tensor([...])`.\n"
      ]
    },
    {
      "cell_type": "code",
      "execution_count": 34,
      "metadata": {
        "id": "IIetGHTJHXJ7",
        "outputId": "ce69edc8-9ac7-4b51-8f99-a39c71948a3c",
        "colab": {
          "base_uri": "https://localhost:8080/"
        }
      },
      "outputs": [
        {
          "output_type": "execute_result",
          "data": {
            "text/plain": [
              "{'en_ids': tensor([   2,   16,   24,   15,   25,  778,   17,   57,   80,  202, 1312,    5,\n",
              "            3]),\n",
              " 'de_ids': tensor([   2,   18,   26,  253,   30,   84,   20,   88,    7,   15,  110, 7647,\n",
              "         3171,    4,    3]),\n",
              " 'en': 'Two young, White males are outside near many bushes.',\n",
              " 'de': 'Zwei junge weiße Männer sind im Freien in der Nähe vieler Büsche.',\n",
              " 'en_tokens': ['<sos>',\n",
              "  'two',\n",
              "  'young',\n",
              "  ',',\n",
              "  'white',\n",
              "  'males',\n",
              "  'are',\n",
              "  'outside',\n",
              "  'near',\n",
              "  'many',\n",
              "  'bushes',\n",
              "  '.',\n",
              "  '<eos>'],\n",
              " 'de_tokens': ['<sos>',\n",
              "  'zwei',\n",
              "  'junge',\n",
              "  'weiße',\n",
              "  'männer',\n",
              "  'sind',\n",
              "  'im',\n",
              "  'freien',\n",
              "  'in',\n",
              "  'der',\n",
              "  'nähe',\n",
              "  'vieler',\n",
              "  'büsche',\n",
              "  '.',\n",
              "  '<eos>']}"
            ]
          },
          "metadata": {},
          "execution_count": 34
        }
      ],
      "source": [
        "train_data[0]"
      ]
    },
    {
      "cell_type": "markdown",
      "metadata": {
        "id": "qWOrC2xbHXJ7"
      },
      "source": [
        "We can also check this using the `type` built-in function on one of the features.\n"
      ]
    },
    {
      "cell_type": "markdown",
      "source": [
        "## Vocabulary\n"
      ],
      "metadata": {
        "id": "757FA2_fKbC5"
      }
    },
    {
      "cell_type": "markdown",
      "source": [
        "# Seq2seq model\n",
        "The seq2seq model normally has an encoder-decoder architecture, composed of:\n",
        "\n",
        "- An encoder processes the input sequence and compresses the information into a context vector (also known as sentence embedding or “thought” vector) of a fixed length. This representation is expected to be a good summary of the meaning of the whole source sequence.\n",
        "- A decoder is initialized with the context vector to emit the transformed output. The early work only used the last state of the encoder network as the decoder initial state.\n",
        "- Both the encoder and decoder are recurrent neural networks, i.e. using LSTM or GRU units.\n",
        "\n",
        "\n",
        "![](https://lilianweng.github.io/posts/2018-06-24-attention/encoder-decoder-example.png)\n",
        "\n",
        "- 2 limitations of seq2seq models:\n",
        "    - Information loss due to fixed-size feature embeddings\n",
        "    - Vanishing gradients\n",
        "\n",
        "![](https://raw.githubusercontent.com/bentrevett/pytorch-seq2seq/b3cd54c72cd6e4e63f672d334c795b4fe744ef92//assets/seq2seq1.png)"
      ],
      "metadata": {
        "id": "bPS-IYeAR7x-"
      }
    },
    {
      "cell_type": "markdown",
      "source": [
        "## Model build-up\n",
        "\n",
        "We'll be building our model in three parts:\n",
        "1. The encoder\n",
        "2. The decoder\n",
        "3. A seq2seq model that encapsulates the encoder and decoder and will provide a way to interface with each.\n",
        "\n",
        "\n",
        "\n",
        "For a multi-layer RNN, the input sentence, $X$, after being embedded goes into the first (bottom) layer of the RNN and hidden states, $H=\\{h_1, h_2, ..., h_T\\}$, output by this layer are used as inputs to the RNN in the layer above. Thus, representing each layer with a superscript, the hidden states in the first layer are given by:\n",
        "\n",
        "$$h_t^1 = \\text{EncoderRNN}^1(e(x_t), h_{t-1}^1)$$\n",
        "\n",
        "The hidden states in the second layer are given by:\n",
        "\n",
        "$$h_t^2 = \\text{EncoderRNN}^2(h_t^1, h_{t-1}^2)$$\n",
        "\n",
        "Using a multi-layer RNN also means we'll also need an initial hidden state as input per layer, $h_0^l$, and we will also output a context vector per layer, $z^l$.\n",
        "\n",
        "LSTM is a type of RNN which instead of just taking in a hidden state and returning a new hidden state per time-step, also take in and return a _cell state_, $c_t$, per time-step.\n",
        "\n",
        "$$\n",
        "\\begin{align*}\n",
        "h_t &= \\text{RNN}(e(x_t), h_{t-1})\\\\\n",
        "(h_t, c_t) &= \\text{LSTM}(e(x_t), h_{t-1}, c_{t-1})\n",
        "\\end{align*}\n",
        "$$\n",
        "\n",
        "We can just think of $c_t$ as another type of hidden state. Similar to $h_0^l$, $c_0^l$ will be initialized to a tensor of all zeros. Also, our context vector will now be both the final hidden state and the final cell state, i.e. $z^l = (h_T^l, c_T^l)$.\n",
        "\n",
        "Extending our multi-layer equations to LSTMs, we get:\n",
        "\n",
        "$$\n",
        "\\begin{align*}\n",
        "(h_t^1, c_t^1) &= \\text{EncoderLSTM}^1(e(x_t), (h_{t-1}^1, c_{t-1}^1))\\\\\n",
        "(h_t^2, c_t^2) &= \\text{EncoderLSTM}^2(h_t^1, (h_{t-1}^2, c_{t-1}^2))\n",
        "\\end{align*}\n",
        "$$\n",
        "\n",
        "Note how only our hidden state from the first layer is passed as input to the second layer, and not the cell state.\n"
      ],
      "metadata": {
        "id": "k5GbiHtqdj0g"
      }
    },
    {
      "cell_type": "markdown",
      "source": [
        "## Encoder\n"
      ],
      "metadata": {
        "id": "OPApEybebZIf"
      }
    },
    {
      "cell_type": "code",
      "source": [
        "class Encoder(nn.Module):\n",
        "    def __init__(self,\n",
        "                 input_dim,\n",
        "                 embedding_dim,\n",
        "                 hidden_dim,\n",
        "                 n_layers,\n",
        "                 dropout):\n",
        "        \"\"\"\n",
        "        The encoder takes the following arguments:\n",
        "\n",
        "        input_dim (int) -- the size/dimensionality of the one-hot vectors that will be input to the encoder.\n",
        "        embedding_dim (int) -- the dimensionality of the embedding layer, converts the one-hot vectors into dense vectors with `embedding_dim` dimensions.\n",
        "        hidden_dim (int) -- the dimensionality of the hidden and cell states.\n",
        "        n_layers (int) -- the number of layers in the RNN.\n",
        "        dropout (int) -- regularization parameter to prevent overfitting.\n",
        "        \"\"\"\n",
        "        super().__init__()\n",
        "        self.hidden_dim = hidden_dim\n",
        "        self.n_layers = n_layers\n",
        "        self.embedding = nn.Embedding(input_dim, embedding_dim)\n",
        "        self.lstm = nn.LSTM(embedding_dim,\n",
        "                           hidden_dim,\n",
        "                           n_layers,\n",
        "                           dropout=dropout)\n",
        "        self.dropout = nn.Dropout(dropout)\n",
        "\n",
        "    def forward(self, input):\n",
        "        # input = [input length, batch size]\n",
        "        embedding = self.dropout(self.embedding(input))\n",
        "        # embedding = [input length, batch size, embedding dim]\n",
        "        outputs, (hidden, cell) = self.lstm(embedding)\n",
        "        # outputs = [input length, batch size, hidden dim * n directions]\n",
        "        # hidden = [n layers * n directions, batch size, hidden dim]\n",
        "        # cell = [n layers * n directions, batch size, hidden dim]\n",
        "        # outputs are always from the top hidden layer\n",
        "        return hidden, cell"
      ],
      "metadata": {
        "id": "zj_geKh_bGxZ"
      },
      "execution_count": 35,
      "outputs": []
    },
    {
      "cell_type": "markdown",
      "source": [
        "## Decoder\n",
        "\n",
        "### Decoder\n",
        "\n",
        "Next, we'll build our decoder, which will also be a 2-layer.\n",
        "\n",
        "The `Decoder` class does a single step of decoding, i.e., it ouputs single token per time-step. The first layer will receive a hidden and cell state from the previous time-step, $(s_{t-1}^1, c_{t-1}^1)$, and feeds it through the LSTM with the current embedded token, $y_t$, to produce a new hidden and cell state, $(s_t^1, c_t^1)$. The subsequent layers will use the hidden state from the layer below, $s_t^{l-1}$, and the previous hidden and cell states from their layer, $(s_{t-1}^l, c_{t-1}^l)$. This provides equations very similar to those in the encoder.\n",
        "\n",
        "$$\n",
        "\\begin{align*}\n",
        "(s_t^1, c_t^1) = \\text{DecoderLSTM}^1(d(y_t), (s_{t-1}^1, c_{t-1}^1))\\\\\n",
        "(s_t^2, c_t^2) = \\text{DecoderLSTM}^2(s_t^1, (s_{t-1}^2, c_{t-1}^2))\n",
        "\\end{align*}\n",
        "$$\n",
        "\n",
        "Remember that the initial hidden and cell states to our decoder are our context vectors, which are the final hidden and cell states of our encoder from the same layer, i.e. $(s_0^l,c_0^l)=z^l=(h_T^l,c_T^l)$.\n",
        "\n",
        "We then pass the hidden state from the top layer of the RNN, $s_t^L$, through a linear layer, $f$, to make a prediction of what the next token in the target (output) sequence should be, $\\hat{y}_{t+1}$.\n",
        "\n",
        "$$\\hat{y}_{t+1} = f(s_t^L)$$\n",
        "\n",
        "The arguments and initialization are similar to the `Encoder` class, except we now have an `output_dim` which is the size of the vocabulary for the output/target language. There is also the addition of the `Linear` layer, used to make the predictions from the top layer hidden state.\n"
      ],
      "metadata": {
        "id": "5pOm3TQMczk_"
      }
    },
    {
      "cell_type": "code",
      "source": [
        "class Decoder(nn.Module):\n",
        "    def __init__(self, output_dim, embedding_dim, hidden_dim, n_layers, dropout):\n",
        "        super().__init__()\n",
        "        self.output_dim = output_dim\n",
        "        self.hidden_dim = hidden_dim\n",
        "        self.n_layers = n_layers\n",
        "        self.embedding = nn.Embedding(output_dim, embedding_dim)\n",
        "        self.rnn = nn.LSTM(embedding_dim, hidden_dim, n_layers, dropout=dropout)\n",
        "        self.fc_out = nn.Linear(hidden_dim, output_dim)\n",
        "        self.dropout = nn.Dropout(dropout)\n",
        "\n",
        "    def forward(self, input, hidden, cell):\n",
        "        # input = [batch size]\n",
        "        # hidden = [n layers * n directions, batch size, hidden dim]\n",
        "        # cell = [n layers * n directions, batch size, hidden dim]\n",
        "        # n directions in the decoder will both always be 1, therefore:\n",
        "        # hidden = [n layers, batch size, hidden dim]\n",
        "        # context = [n layers, batch size, hidden dim]\n",
        "        input = input.unsqueeze(0)\n",
        "        # input = [1, batch size]\n",
        "        embedded = self.dropout(self.embedding(input))\n",
        "        # embedded = [1, batch size, embedding dim]\n",
        "        output, (hidden, cell) = self.rnn(embedded, (hidden, cell))\n",
        "        # output = [seq length, batch size, hidden dim * n directions]\n",
        "        # hidden = [n layers * n directions, batch size, hidden dim]\n",
        "        # cell = [n layers * n directions, batch size, hidden dim]\n",
        "        # seq length and n directions will always be 1 in this decoder, therefore:\n",
        "        # output = [1, batch size, hidden dim]\n",
        "        # hidden = [n layers, batch size, hidden dim]\n",
        "        # cell = [n layers, batch size, hidden dim]\n",
        "        prediction = self.fc_out(output.squeeze(0))\n",
        "        # prediction = [batch size, output dim]\n",
        "        return prediction, hidden, cell"
      ],
      "metadata": {
        "id": "1dtXQsK1c03l"
      },
      "execution_count": 36,
      "outputs": []
    },
    {
      "cell_type": "markdown",
      "source": [
        "## Seq2seq model\n",
        "### Seq2Seq\n",
        "\n",
        "For the final part of the implemenetation, we'll implement the Seq2Seq model. This will handle:\n",
        "\n",
        "-   Receiving the input/source sentence\n",
        "-   Using the encoder to produce the context vectors\n",
        "-   Using the decoder to produce the predicted output/target sentence\n",
        "\n",
        "The `Seq2Seq` model takes in an `Encoder`, `Decoder`\\.\n",
        "\n",
        "For this implementation, we have to ensure that the number of layers and the hidden (and cell) dimensions are equal in the `Encoder` and `Decoder`. This is not always the case, we do not necessarily need the same number of layers or the same hidden dimension sizes in a sequence-to-sequence model. However, if we did something like having a different number of layers then we would need to make decisions about how this is handled. For example, if our encoder has 2 layers and our decoder only has 1, how is this handled? Do we average the two context vectors output by the decoder? Do we pass both through a linear layer? Do we only use the context vector from the highest layer? Etc.\n",
        "\n",
        "Our `forward` method takes the source sentence, target sentence and a teacher-forcing ratio. The teacher forcing ratio is used when training our model. When decoding, at each time-step we will predict what the next token in the target sequence will be from the previous tokens decoded, $\\hat{y}_{t+1}=f(s_t^L)$. With probability equal to the teaching forcing ratio (`teacher_forcing_ratio`) we will use the actual ground-truth next token in the sequence as the input to the decoder during the next time-step. However, with probability `1 - teacher_forcing_ratio`, we will use the token that the model predicted as the next input to the model, even if it doesn't match the actual next token in the sequence.\n",
        "\n",
        "The first thing we do in the `forward` method is to create an `outputs` tensor that will store all of our predictions, $\\hat{Y}$.\n",
        "\n",
        "We then feed the input/source sentence, `src`, into the encoder and receive out final hidden and cell states.\n",
        "\n",
        "The first input to the decoder is the start of sequence (`<sos>`) token. As our `trg` tensor already has the `<sos>` token appended (all the way back when we tokenized our English sentences) we get our $y_1$ by slicing into it. We know how long our target sentences should be (`trg_length`), so we loop that many times. The last token input into the decoder is the one **before** the `<eos>` token -- the `<eos>` token is never input into the decoder.\n",
        "\n",
        "During each iteration of the loop, we:\n",
        "\n",
        "-   pass the input, previous hidden and previous cell states ($y_t, s_{t-1}, c_{t-1}$) into the decoder\n",
        "-   receive a prediction, next hidden state and next cell state ($\\hat{y}_{t+1}, s_{t}, c_{t}$) from the decoder\n",
        "-   place our prediction, $\\hat{y}_{t+1}$/`output` in our tensor of predictions, $\\hat{Y}$/`outputs`\n",
        "-   decide if we are going to \"teacher force\" or not\n",
        "    -   if we do, the next `input` is the ground-truth next token in the sequence, $y_{t+1}$/`trg[t]`\n",
        "    -   if we don't, the next `input` is the predicted next token in the sequence, $\\hat{y}_{t+1}$/`top1`, which we get by doing an `argmax` over the output tensor\n",
        "\n",
        "Once we've made all of our predictions, we return our tensor full of predictions, $\\hat{Y}$/`outputs`.\n",
        "\n",
        "**Note**: our decoder loop starts at 1, not 0. This means the 0th element of our `outputs` tensor remains all zeros. So our `trg` and `outputs` look something like:\n",
        "\n",
        "$$\n",
        "\\begin{align*}\n",
        "\\text{trg} = [<sos>, &y_1, y_2, y_3, <eos>]\\\\\n",
        "\\text{outputs} = [0, &\\hat{y}_1, \\hat{y}_2, \\hat{y}_3, <eos>]\n",
        "\\end{align*}\n",
        "$$\n",
        "\n",
        "Later on when we calculate the loss, we cut off the first element of each tensor to get:\n",
        "\n",
        "$$\n",
        "\\begin{align*}\n",
        "\\text{trg} = [&y_1, y_2, y_3, <eos>]\\\\\n",
        "\\text{outputs} = [&\\hat{y}_1, \\hat{y}_2, \\hat{y}_3, <eos>]\n",
        "\\end{align*}\n",
        "$$\n"
      ],
      "metadata": {
        "id": "7gev7cXii7a-"
      }
    },
    {
      "cell_type": "code",
      "source": [
        "class Seq2Seq(nn.Module):\n",
        "    def __init__(self, encoder, decoder, device):\n",
        "        super().__init__()\n",
        "        self.encoder = encoder\n",
        "        self.decoder = decoder\n",
        "        self.device = device\n",
        "\n",
        "    def forward(self, src, trg, teacher_forcing_ratio):\n",
        "        \"\"\"\n",
        "        src = [src length, batch size]\n",
        "        trg = [trg length, batch size]\n",
        "        teacher_forcing_ratio is probability to use teacher forcing\n",
        "        e.g. if teacher_forcing_ratio is 0.75 we use ground-truth inputs 75% of the time\n",
        "        \"\"\"\n",
        "        batch_size = trg.shape[1]\n",
        "        trg_length = trg.shape[0]\n",
        "        trg_vocab_size = self.decoder.output_dim\n",
        "        \"\"\"\n",
        "        Tensor to store decoder outputs\n",
        "        \"\"\"\n",
        "        outputs = torch.zeros(trg_length, batch_size, trg_vocab_size).to(self.device)\n",
        "        # Last hidden state of the encoder is used as the initial hidden state of the decoder\n",
        "        hidden, cell = self.encoder(src)\n",
        "        \"\"\"\n",
        "        hidden = [n layers * n directions, batch size, hidden dim]\n",
        "        cell = [n layers * n directions, batch size, hidden dim]\n",
        "        first input to the decoder is the <sos> tokens\n",
        "        \"\"\"\n",
        "        input = trg[0, :]\n",
        "        for t in range(1, trg_length):\n",
        "            \"\"\"\n",
        "            Insert input token embedding, previous hidden and previous cell states\n",
        "            Receive output tensor (predictions) and new hidden and cell states\n",
        "            \"\"\"\n",
        "            output, hidden, cell = self.decoder(input, hidden, cell)\n",
        "            \"\"\"\n",
        "            output = [batch size, output dim]\n",
        "            hidden = [n layers, batch size, hidden dim]\n",
        "            cell = [n layers, batch size, hidden dim]\n",
        "            place predictions in a tensor holding predictions for each token\n",
        "            \"\"\"\n",
        "            outputs[t] = output\n",
        "            # Decide if we are going to use teacher forcing or not\n",
        "            teacher_force = random.random() < teacher_forcing_ratio\n",
        "            # Get the highest predicted token from our predictions\n",
        "            top1 = output.argmax(1)\n",
        "            \"\"\"\n",
        "            If teacher forcing, use actual next token as next input\n",
        "            Otherwise, use predicted token\n",
        "            \"\"\"\n",
        "            input = trg[t] if teacher_force else top1\n",
        "        return outputs"
      ],
      "metadata": {
        "id": "w2Ir4FaSi9r3"
      },
      "execution_count": 37,
      "outputs": []
    },
    {
      "cell_type": "markdown",
      "source": [
        "## Hyperparameters"
      ],
      "metadata": {
        "id": "9zCo7uHdqkoU"
      }
    },
    {
      "cell_type": "code",
      "source": [
        "input_dim = len(de_vocab)\n",
        "output_dim = len(en_vocab)\n",
        "encoder_embedding_dim = 256\n",
        "decoder_embedding_dim = 256\n",
        "hidden_dim = 512\n",
        "n_layers = 2\n",
        "encoder_dropout = 0.5\n",
        "decoder_dropout = 0.5\n",
        "device = torch.device(\"cuda\" if torch.cuda.is_available() else \"cpu\")"
      ],
      "metadata": {
        "id": "8mrUV7Jfqmng"
      },
      "execution_count": 38,
      "outputs": []
    },
    {
      "cell_type": "markdown",
      "source": [
        "## Training"
      ],
      "metadata": {
        "id": "E8oO3JjilW_I"
      }
    },
    {
      "cell_type": "code",
      "source": [
        "from torch.utils.data import DataLoader\n",
        "from torch.optim import Adam\n",
        "import torch.nn.functional as F\n",
        "\n",
        "# Helper function to initialize weights\n",
        "def init_weights(m):\n",
        "    for name, param in m.named_parameters():\n",
        "        nn.init.uniform_(param.data, -0.08, 0.08)\n",
        "\n",
        "# Create DataLoader from train set\n",
        "def collate_fn(batch):\n",
        "    src_batch = [example['de_ids'] for example in batch]\n",
        "    trg_batch = [example['en_ids'] for example in batch]\n",
        "    src_batch = nn.utils.rnn.pad_sequence(src_batch, padding_value=pad_index)\n",
        "    trg_batch = nn.utils.rnn.pad_sequence(trg_batch, padding_value=pad_index)\n",
        "    return src_batch, trg_batch\n",
        "\n",
        "batch_size = 128\n",
        "train_loader = DataLoader(train_data, batch_size=batch_size, collate_fn=collate_fn, shuffle=True)\n",
        "\n",
        "# Initialize the models\n",
        "encoder = Encoder(input_dim, encoder_embedding_dim, hidden_dim, n_layers, encoder_dropout)\n",
        "decoder = Decoder(output_dim, decoder_embedding_dim, hidden_dim, n_layers, decoder_dropout)\n",
        "model = Seq2Seq(encoder, decoder, device).to(device)\n",
        "model.apply(init_weights)\n",
        "\n",
        "# Define optimizer\n",
        "optimizer = Adam(model.parameters())\n",
        "\n",
        "# Define loss function (Cross-entropy)\n",
        "pad_index = en_vocab[pad_token]\n",
        "criterion = nn.CrossEntropyLoss(ignore_index=pad_index)\n",
        "\n",
        "# Training loop\n",
        "def train(model, data_loader, optimizer, criterion, clip):\n",
        "    model.train()\n",
        "    epoch_loss = 0\n",
        "    for src, trg in data_loader:\n",
        "        src, trg = src.to(device), trg.to(device)\n",
        "        optimizer.zero_grad()\n",
        "        output = model(src, trg, teacher_forcing_ratio=0.5)\n",
        "        # trg = [trg len, batch size]\n",
        "        # output = [trg len, batch size, output dim]\n",
        "        output_dim = output.shape[-1]\n",
        "        output = output[1:].view(-1, output_dim)\n",
        "        trg = trg[1:].view(-1)\n",
        "        loss = criterion(output, trg)\n",
        "        loss.backward()\n",
        "        torch.nn.utils.clip_grad_norm_(model.parameters(), clip)\n",
        "        optimizer.step()\n",
        "        epoch_loss += loss.item()\n",
        "    return epoch_loss / len(data_loader)\n",
        ""
      ],
      "metadata": {
        "id": "I0dyfpLRb4XU"
      },
      "execution_count": 46,
      "outputs": []
    },
    {
      "cell_type": "markdown",
      "source": [
        "## Evaluation"
      ],
      "metadata": {
        "id": "H7pVMTahxZTW"
      }
    },
    {
      "cell_type": "code",
      "source": [
        "### START YOUR CODE HERE ###\n",
        "\n",
        "# Define your evaluation code here for test set\n",
        "\n",
        "### END YOUR CODE HERE ###"
      ],
      "metadata": {
        "id": "9Xh4sx7pxacj"
      },
      "execution_count": 41,
      "outputs": []
    },
    {
      "cell_type": "code",
      "source": [
        "# Evaluation loop\n",
        "def evaluate(model, data_loader, criterion):\n",
        "    model.eval()\n",
        "    epoch_loss = 0\n",
        "    with torch.no_grad():\n",
        "        for src, trg in data_loader:\n",
        "            src, trg = src.to(device), trg.to(device)\n",
        "            output = model(src, trg, teacher_forcing_ratio=0.0)  # no teacher forcing\n",
        "            output_dim = output.shape[-1]\n",
        "            output = output[1:].view(-1, output_dim)\n",
        "            trg = trg[1:].view(-1)\n",
        "            loss = criterion(output, trg)\n",
        "            epoch_loss += loss.item()\n",
        "    return epoch_loss / len(data_loader)\n",
        "\n",
        "# Training and evaluation\n",
        "n_epochs = 50\n",
        "clip = 1\n",
        "valid_loader = DataLoader(valid_data, batch_size=batch_size, collate_fn=collate_fn, shuffle=True)\n",
        "test_loader = DataLoader(test_data, batch_size=batch_size, collate_fn=collate_fn, shuffle=True)\n",
        "for epoch in range(n_epochs):\n",
        "    train_loss = train(model, train_loader, optimizer, criterion, clip)\n",
        "    valid_loss = evaluate(model, valid_loader, criterion)\n",
        "    print(f'Epoch: {epoch+1:02} | Train Loss: {train_loss:.3f} | Val. Loss: {valid_loss:.3f}')\n",
        "\n",
        "\n"
      ],
      "metadata": {
        "colab": {
          "base_uri": "https://localhost:8080/",
          "height": 1000
        },
        "id": "hMnmX5ezb-bc",
        "outputId": "a506f6c8-d580-41dd-cf58-d5321df893b4"
      },
      "execution_count": 48,
      "outputs": [
        {
          "output_type": "stream",
          "name": "stdout",
          "text": [
            "Epoch: 01 | Train Loss: 4.879 | Val. Loss: 4.949\n",
            "Epoch: 02 | Train Loss: 4.419 | Val. Loss: 4.729\n",
            "Epoch: 03 | Train Loss: 4.114 | Val. Loss: 4.499\n",
            "Epoch: 04 | Train Loss: 3.908 | Val. Loss: 4.412\n",
            "Epoch: 05 | Train Loss: 3.745 | Val. Loss: 4.237\n",
            "Epoch: 06 | Train Loss: 3.588 | Val. Loss: 4.128\n",
            "Epoch: 07 | Train Loss: 3.440 | Val. Loss: 4.092\n",
            "Epoch: 08 | Train Loss: 3.318 | Val. Loss: 3.965\n",
            "Epoch: 09 | Train Loss: 3.211 | Val. Loss: 3.910\n",
            "Epoch: 10 | Train Loss: 3.082 | Val. Loss: 3.907\n",
            "Epoch: 11 | Train Loss: 2.979 | Val. Loss: 3.809\n",
            "Epoch: 12 | Train Loss: 2.876 | Val. Loss: 3.798\n",
            "Epoch: 13 | Train Loss: 2.762 | Val. Loss: 3.803\n",
            "Epoch: 14 | Train Loss: 2.690 | Val. Loss: 3.732\n",
            "Epoch: 15 | Train Loss: 2.621 | Val. Loss: 3.776\n",
            "Epoch: 16 | Train Loss: 2.541 | Val. Loss: 3.747\n",
            "Epoch: 17 | Train Loss: 2.459 | Val. Loss: 3.700\n",
            "Epoch: 18 | Train Loss: 2.394 | Val. Loss: 3.674\n",
            "Epoch: 19 | Train Loss: 2.322 | Val. Loss: 3.666\n",
            "Epoch: 20 | Train Loss: 2.257 | Val. Loss: 3.737\n",
            "Epoch: 21 | Train Loss: 2.193 | Val. Loss: 3.737\n",
            "Epoch: 22 | Train Loss: 2.128 | Val. Loss: 3.723\n",
            "Epoch: 23 | Train Loss: 2.085 | Val. Loss: 3.722\n",
            "Epoch: 24 | Train Loss: 2.015 | Val. Loss: 3.774\n",
            "Epoch: 25 | Train Loss: 1.956 | Val. Loss: 3.792\n",
            "Epoch: 26 | Train Loss: 1.901 | Val. Loss: 3.794\n",
            "Epoch: 27 | Train Loss: 1.856 | Val. Loss: 3.788\n",
            "Epoch: 28 | Train Loss: 1.802 | Val. Loss: 3.845\n",
            "Epoch: 29 | Train Loss: 1.763 | Val. Loss: 3.797\n",
            "Epoch: 30 | Train Loss: 1.687 | Val. Loss: 3.864\n",
            "Epoch: 31 | Train Loss: 1.674 | Val. Loss: 3.835\n",
            "Epoch: 32 | Train Loss: 1.639 | Val. Loss: 3.876\n",
            "Epoch: 33 | Train Loss: 1.586 | Val. Loss: 3.905\n",
            "Epoch: 34 | Train Loss: 1.533 | Val. Loss: 3.941\n",
            "Epoch: 35 | Train Loss: 1.492 | Val. Loss: 3.959\n",
            "Epoch: 36 | Train Loss: 1.465 | Val. Loss: 3.962\n",
            "Epoch: 37 | Train Loss: 1.410 | Val. Loss: 4.026\n",
            "Epoch: 38 | Train Loss: 1.381 | Val. Loss: 4.076\n",
            "Epoch: 39 | Train Loss: 1.352 | Val. Loss: 4.071\n",
            "Epoch: 40 | Train Loss: 1.332 | Val. Loss: 4.039\n",
            "Epoch: 41 | Train Loss: 1.284 | Val. Loss: 4.127\n"
          ]
        },
        {
          "output_type": "error",
          "ename": "KeyboardInterrupt",
          "evalue": "",
          "traceback": [
            "\u001b[0;31m---------------------------------------------------------------------------\u001b[0m",
            "\u001b[0;31mKeyboardInterrupt\u001b[0m                         Traceback (most recent call last)",
            "\u001b[0;32m<ipython-input-48-fefbfff5d160>\u001b[0m in \u001b[0;36m<cell line: 21>\u001b[0;34m()\u001b[0m\n\u001b[1;32m     20\u001b[0m \u001b[0mtest_loader\u001b[0m \u001b[0;34m=\u001b[0m \u001b[0mDataLoader\u001b[0m\u001b[0;34m(\u001b[0m\u001b[0mtest_data\u001b[0m\u001b[0;34m,\u001b[0m \u001b[0mbatch_size\u001b[0m\u001b[0;34m=\u001b[0m\u001b[0mbatch_size\u001b[0m\u001b[0;34m,\u001b[0m \u001b[0mcollate_fn\u001b[0m\u001b[0;34m=\u001b[0m\u001b[0mcollate_fn\u001b[0m\u001b[0;34m,\u001b[0m \u001b[0mshuffle\u001b[0m\u001b[0;34m=\u001b[0m\u001b[0;32mTrue\u001b[0m\u001b[0;34m)\u001b[0m\u001b[0;34m\u001b[0m\u001b[0;34m\u001b[0m\u001b[0m\n\u001b[1;32m     21\u001b[0m \u001b[0;32mfor\u001b[0m \u001b[0mepoch\u001b[0m \u001b[0;32min\u001b[0m \u001b[0mrange\u001b[0m\u001b[0;34m(\u001b[0m\u001b[0mn_epochs\u001b[0m\u001b[0;34m)\u001b[0m\u001b[0;34m:\u001b[0m\u001b[0;34m\u001b[0m\u001b[0;34m\u001b[0m\u001b[0m\n\u001b[0;32m---> 22\u001b[0;31m     \u001b[0mtrain_loss\u001b[0m \u001b[0;34m=\u001b[0m \u001b[0mtrain\u001b[0m\u001b[0;34m(\u001b[0m\u001b[0mmodel\u001b[0m\u001b[0;34m,\u001b[0m \u001b[0mtrain_loader\u001b[0m\u001b[0;34m,\u001b[0m \u001b[0moptimizer\u001b[0m\u001b[0;34m,\u001b[0m \u001b[0mcriterion\u001b[0m\u001b[0;34m,\u001b[0m \u001b[0mclip\u001b[0m\u001b[0;34m)\u001b[0m\u001b[0;34m\u001b[0m\u001b[0;34m\u001b[0m\u001b[0m\n\u001b[0m\u001b[1;32m     23\u001b[0m     \u001b[0mvalid_loss\u001b[0m \u001b[0;34m=\u001b[0m \u001b[0mevaluate\u001b[0m\u001b[0;34m(\u001b[0m\u001b[0mmodel\u001b[0m\u001b[0;34m,\u001b[0m \u001b[0mvalid_loader\u001b[0m\u001b[0;34m,\u001b[0m \u001b[0mcriterion\u001b[0m\u001b[0;34m)\u001b[0m\u001b[0;34m\u001b[0m\u001b[0;34m\u001b[0m\u001b[0m\n\u001b[1;32m     24\u001b[0m     \u001b[0mprint\u001b[0m\u001b[0;34m(\u001b[0m\u001b[0;34mf'Epoch: {epoch+1:02} | Train Loss: {train_loss:.3f} | Val. Loss: {valid_loss:.3f}'\u001b[0m\u001b[0;34m)\u001b[0m\u001b[0;34m\u001b[0m\u001b[0;34m\u001b[0m\u001b[0m\n",
            "\u001b[0;32m<ipython-input-46-4a75b7232599>\u001b[0m in \u001b[0;36mtrain\u001b[0;34m(model, data_loader, optimizer, criterion, clip)\u001b[0m\n\u001b[1;32m     39\u001b[0m         \u001b[0msrc\u001b[0m\u001b[0;34m,\u001b[0m \u001b[0mtrg\u001b[0m \u001b[0;34m=\u001b[0m \u001b[0msrc\u001b[0m\u001b[0;34m.\u001b[0m\u001b[0mto\u001b[0m\u001b[0;34m(\u001b[0m\u001b[0mdevice\u001b[0m\u001b[0;34m)\u001b[0m\u001b[0;34m,\u001b[0m \u001b[0mtrg\u001b[0m\u001b[0;34m.\u001b[0m\u001b[0mto\u001b[0m\u001b[0;34m(\u001b[0m\u001b[0mdevice\u001b[0m\u001b[0;34m)\u001b[0m\u001b[0;34m\u001b[0m\u001b[0;34m\u001b[0m\u001b[0m\n\u001b[1;32m     40\u001b[0m         \u001b[0moptimizer\u001b[0m\u001b[0;34m.\u001b[0m\u001b[0mzero_grad\u001b[0m\u001b[0;34m(\u001b[0m\u001b[0;34m)\u001b[0m\u001b[0;34m\u001b[0m\u001b[0;34m\u001b[0m\u001b[0m\n\u001b[0;32m---> 41\u001b[0;31m         \u001b[0moutput\u001b[0m \u001b[0;34m=\u001b[0m \u001b[0mmodel\u001b[0m\u001b[0;34m(\u001b[0m\u001b[0msrc\u001b[0m\u001b[0;34m,\u001b[0m \u001b[0mtrg\u001b[0m\u001b[0;34m,\u001b[0m \u001b[0mteacher_forcing_ratio\u001b[0m\u001b[0;34m=\u001b[0m\u001b[0;36m0.5\u001b[0m\u001b[0;34m)\u001b[0m\u001b[0;34m\u001b[0m\u001b[0;34m\u001b[0m\u001b[0m\n\u001b[0m\u001b[1;32m     42\u001b[0m         \u001b[0;31m# trg = [trg len, batch size]\u001b[0m\u001b[0;34m\u001b[0m\u001b[0;34m\u001b[0m\u001b[0m\n\u001b[1;32m     43\u001b[0m         \u001b[0;31m# output = [trg len, batch size, output dim]\u001b[0m\u001b[0;34m\u001b[0m\u001b[0;34m\u001b[0m\u001b[0m\n",
            "\u001b[0;32m/usr/local/lib/python3.10/dist-packages/torch/nn/modules/module.py\u001b[0m in \u001b[0;36m_wrapped_call_impl\u001b[0;34m(self, *args, **kwargs)\u001b[0m\n\u001b[1;32m   1509\u001b[0m             \u001b[0;32mreturn\u001b[0m \u001b[0mself\u001b[0m\u001b[0;34m.\u001b[0m\u001b[0m_compiled_call_impl\u001b[0m\u001b[0;34m(\u001b[0m\u001b[0;34m*\u001b[0m\u001b[0margs\u001b[0m\u001b[0;34m,\u001b[0m \u001b[0;34m**\u001b[0m\u001b[0mkwargs\u001b[0m\u001b[0;34m)\u001b[0m  \u001b[0;31m# type: ignore[misc]\u001b[0m\u001b[0;34m\u001b[0m\u001b[0;34m\u001b[0m\u001b[0m\n\u001b[1;32m   1510\u001b[0m         \u001b[0;32melse\u001b[0m\u001b[0;34m:\u001b[0m\u001b[0;34m\u001b[0m\u001b[0;34m\u001b[0m\u001b[0m\n\u001b[0;32m-> 1511\u001b[0;31m             \u001b[0;32mreturn\u001b[0m \u001b[0mself\u001b[0m\u001b[0;34m.\u001b[0m\u001b[0m_call_impl\u001b[0m\u001b[0;34m(\u001b[0m\u001b[0;34m*\u001b[0m\u001b[0margs\u001b[0m\u001b[0;34m,\u001b[0m \u001b[0;34m**\u001b[0m\u001b[0mkwargs\u001b[0m\u001b[0;34m)\u001b[0m\u001b[0;34m\u001b[0m\u001b[0;34m\u001b[0m\u001b[0m\n\u001b[0m\u001b[1;32m   1512\u001b[0m \u001b[0;34m\u001b[0m\u001b[0m\n\u001b[1;32m   1513\u001b[0m     \u001b[0;32mdef\u001b[0m \u001b[0m_call_impl\u001b[0m\u001b[0;34m(\u001b[0m\u001b[0mself\u001b[0m\u001b[0;34m,\u001b[0m \u001b[0;34m*\u001b[0m\u001b[0margs\u001b[0m\u001b[0;34m,\u001b[0m \u001b[0;34m**\u001b[0m\u001b[0mkwargs\u001b[0m\u001b[0;34m)\u001b[0m\u001b[0;34m:\u001b[0m\u001b[0;34m\u001b[0m\u001b[0;34m\u001b[0m\u001b[0m\n",
            "\u001b[0;32m/usr/local/lib/python3.10/dist-packages/torch/nn/modules/module.py\u001b[0m in \u001b[0;36m_call_impl\u001b[0;34m(self, *args, **kwargs)\u001b[0m\n\u001b[1;32m   1518\u001b[0m                 \u001b[0;32mor\u001b[0m \u001b[0m_global_backward_pre_hooks\u001b[0m \u001b[0;32mor\u001b[0m \u001b[0m_global_backward_hooks\u001b[0m\u001b[0;34m\u001b[0m\u001b[0;34m\u001b[0m\u001b[0m\n\u001b[1;32m   1519\u001b[0m                 or _global_forward_hooks or _global_forward_pre_hooks):\n\u001b[0;32m-> 1520\u001b[0;31m             \u001b[0;32mreturn\u001b[0m \u001b[0mforward_call\u001b[0m\u001b[0;34m(\u001b[0m\u001b[0;34m*\u001b[0m\u001b[0margs\u001b[0m\u001b[0;34m,\u001b[0m \u001b[0;34m**\u001b[0m\u001b[0mkwargs\u001b[0m\u001b[0;34m)\u001b[0m\u001b[0;34m\u001b[0m\u001b[0;34m\u001b[0m\u001b[0m\n\u001b[0m\u001b[1;32m   1521\u001b[0m \u001b[0;34m\u001b[0m\u001b[0m\n\u001b[1;32m   1522\u001b[0m         \u001b[0;32mtry\u001b[0m\u001b[0;34m:\u001b[0m\u001b[0;34m\u001b[0m\u001b[0;34m\u001b[0m\u001b[0m\n",
            "\u001b[0;32m<ipython-input-37-d941065d9758>\u001b[0m in \u001b[0;36mforward\u001b[0;34m(self, src, trg, teacher_forcing_ratio)\u001b[0m\n\u001b[1;32m     19\u001b[0m         \u001b[0mTensor\u001b[0m \u001b[0mto\u001b[0m \u001b[0mstore\u001b[0m \u001b[0mdecoder\u001b[0m \u001b[0moutputs\u001b[0m\u001b[0;34m\u001b[0m\u001b[0;34m\u001b[0m\u001b[0m\n\u001b[1;32m     20\u001b[0m         \"\"\"\n\u001b[0;32m---> 21\u001b[0;31m         \u001b[0moutputs\u001b[0m \u001b[0;34m=\u001b[0m \u001b[0mtorch\u001b[0m\u001b[0;34m.\u001b[0m\u001b[0mzeros\u001b[0m\u001b[0;34m(\u001b[0m\u001b[0mtrg_length\u001b[0m\u001b[0;34m,\u001b[0m \u001b[0mbatch_size\u001b[0m\u001b[0;34m,\u001b[0m \u001b[0mtrg_vocab_size\u001b[0m\u001b[0;34m)\u001b[0m\u001b[0;34m.\u001b[0m\u001b[0mto\u001b[0m\u001b[0;34m(\u001b[0m\u001b[0mself\u001b[0m\u001b[0;34m.\u001b[0m\u001b[0mdevice\u001b[0m\u001b[0;34m)\u001b[0m\u001b[0;34m\u001b[0m\u001b[0;34m\u001b[0m\u001b[0m\n\u001b[0m\u001b[1;32m     22\u001b[0m         \u001b[0;31m# Last hidden state of the encoder is used as the initial hidden state of the decoder\u001b[0m\u001b[0;34m\u001b[0m\u001b[0;34m\u001b[0m\u001b[0m\n\u001b[1;32m     23\u001b[0m         \u001b[0mhidden\u001b[0m\u001b[0;34m,\u001b[0m \u001b[0mcell\u001b[0m \u001b[0;34m=\u001b[0m \u001b[0mself\u001b[0m\u001b[0;34m.\u001b[0m\u001b[0mencoder\u001b[0m\u001b[0;34m(\u001b[0m\u001b[0msrc\u001b[0m\u001b[0;34m)\u001b[0m\u001b[0;34m\u001b[0m\u001b[0;34m\u001b[0m\u001b[0m\n",
            "\u001b[0;31mKeyboardInterrupt\u001b[0m: "
          ]
        }
      ]
    },
    {
      "cell_type": "markdown",
      "source": [
        "## Inference"
      ],
      "metadata": {
        "id": "2ElPA9yI_12h"
      }
    },
    {
      "cell_type": "code",
      "source": [
        "def translate_sentence(sentence, src_vocab, trg_vocab, model, device, max_length=50):\n",
        "    # Tokenize the input sentence\n",
        "    model.eval()\n",
        "    tokens = [token.text.lower() for token in de_nlp(sentence)]\n",
        "\n",
        "    # Add <sos> and <eos> tokens\n",
        "    tokens = [sos_token] + tokens + [eos_token]\n",
        "\n",
        "    # Numericalize the tokens\n",
        "    src_indexes = [src_vocab[token] for token in tokens]\n",
        "\n",
        "    # Convert to PyTorch tensor and add batch dimension\n",
        "    src_tensor = torch.LongTensor(src_indexes).unsqueeze(1).to(device)\n",
        "\n",
        "    # Feed through the model\n",
        "    with torch.no_grad():\n",
        "        hidden, cell = model.encoder(src_tensor)\n",
        "\n",
        "    trg_indexes = [trg_vocab[sos_token]]\n",
        "\n",
        "    for _ in range(max_length):\n",
        "        trg_tensor = torch.LongTensor([trg_indexes[-1]]).to(device)\n",
        "\n",
        "        with torch.no_grad():\n",
        "            output, hidden, cell = model.decoder(trg_tensor, hidden, cell)\n",
        "\n",
        "        pred_token = output.argmax(1).item()\n",
        "        trg_indexes.append(pred_token)\n",
        "\n",
        "        if pred_token == trg_vocab[eos_token]:\n",
        "            break\n",
        "\n",
        "    trg_tokens = [trg_vocab.get_itos()[i] for i in trg_indexes]\n",
        "\n",
        "    return trg_tokens[1:-1]\n",
        "\n",
        "# Example usage\n",
        "sentence = \"Bei den Bäumen saßen zwei weiße Männer\"\n",
        "translated_sentence = translate_sentence(sentence, de_vocab, en_vocab, model, device)\n",
        "print(' '.join(translated_sentence))\n"
      ],
      "metadata": {
        "colab": {
          "base_uri": "https://localhost:8080/"
        },
        "id": "JyfaMcyue8c_",
        "outputId": "c4e0dfcb-d501-4d36-df77-63d4e5c96452"
      },
      "execution_count": 56,
      "outputs": [
        {
          "output_type": "stream",
          "name": "stdout",
          "text": [
            "field , there is two other people .\n"
          ]
        }
      ]
    },
    {
      "cell_type": "code",
      "source": [
        "from nltk.translate.bleu_score import sentence_bleu\n",
        "\n",
        "weights = (0.25, 0.25, 0, 0)  # Weights for uni-gram, bi-gram, tri-gram, and 4-gram\n",
        "\n",
        "reference = test_data[0]['en'].split()\n",
        "predictions = translate_sentence(test_data[0]['de'], de_vocab, en_vocab, model, device)\n",
        "\n",
        "\n",
        "print(' '.join(reference))\n",
        "\n",
        "print(' '.join(predictions))"
      ],
      "metadata": {
        "colab": {
          "base_uri": "https://localhost:8080/"
        },
        "id": "d6Ui9EjUHi2a",
        "outputId": "968adc4b-02aa-4dab-bba8-a88a6f1126cb"
      },
      "execution_count": 122,
      "outputs": [
        {
          "output_type": "stream",
          "name": "stdout",
          "text": [
            "A man in an orange hat starring at something.\n",
            "a man with an orange hat <unk> .\n"
          ]
        }
      ]
    },
    {
      "cell_type": "markdown",
      "source": [
        "# Overview on Attention\n",
        "**Attention** is, to some extent, motivated by how we pay visual attention to different regions of an image or correlate words in one sentence. Human visual attention allows us to focus on a certain region with “high resolution” (i.e. look at the pointy ear in the yellow box) while perceiving the surrounding image in “low resolution” (i.e. now how about the snowy background and the outfit?), and then adjust the focal point or do the inference accordingly. Given a small patch of an image, pixels in the rest provide clues what should be displayed there. We expect to see a pointy ear in the yellow box because we have seen a dog’s nose, another pointy ear on the right, and Shiba’]'s mystery eyes (stuff in the red boxes). However, the sweater and blanket at the bottom would not be as helpful as those doggy features.\n",
        "![](https://lilianweng.github.io/posts/2018-06-24-attention/shiba-example-attention.png)\n",
        "\n",
        "Similarly, we can explain the relationship between words in one sentence or close context. When we see “eating”, we expect to encounter a food word very soon. The color term describes the food, but probably not so much with “eating” directly.\n",
        "![](https://lilianweng.github.io/posts/2018-06-24-attention/sentence-example-attention.png)"
      ],
      "metadata": {
        "id": "crhc3xUvRT5l"
      }
    },
    {
      "cell_type": "markdown",
      "source": [
        "## Attention\n",
        "\n",
        "### Attention demonstration\n",
        "![image.png](data:image/png;base64,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)"
      ],
      "metadata": {
        "id": "iLitw1TzZKPb"
      }
    },
    {
      "cell_type": "markdown",
      "source": [
        "\n",
        "### Attention score\n",
        "$$\n",
        "Attention(Q, K, V) = \\sigma\\left(\\frac{QK^\\top}{\\sqrt{d_k}}V\\right)\n",
        "$$\n",
        "\n",
        "where: $\\sigma(\\cdot)$ is the softmax function\n"
      ],
      "metadata": {
        "id": "90Ca4sJnPFtM"
      }
    },
    {
      "cell_type": "markdown",
      "source": [
        "\n",
        "### Multi-head attention score\n",
        "$$\n",
        "MultiHead(Q, K, V)=Concat(\\text{head}_1, ...,\\text{head}_h)W^O\n",
        "$$\n",
        "where $\\text{head}_i = Attention(QW_i^Q, KW_i^K, VW_i^V)$\n",
        "\n",
        "\n"
      ],
      "metadata": {
        "id": "wEWYVaqaPG0k"
      }
    },
    {
      "cell_type": "markdown",
      "source": [
        "\n",
        "### Illustration on attention mechanism\n",
        "![](https://lilianweng.github.io/posts/2018-06-24-attention/xu2015-fig6b.png)\n",
        "![](https://lilianweng.github.io/posts/2018-06-24-attention/cheng2016-fig1.png)"
      ],
      "metadata": {
        "id": "lakUIQLhPID-"
      }
    },
    {
      "cell_type": "markdown",
      "source": [
        "## Positional encoding\n",
        "\n",
        "![](https://aiml.com/wp-content/uploads/2023/09/example_of_positional_encoding_in_transformers.png)"
      ],
      "metadata": {
        "id": "EO95SnsnP6Xu"
      }
    },
    {
      "cell_type": "markdown",
      "source": [
        "## Read more on Attention mechanism\n",
        "https://classic.d2l.ai/chapter_attention-mechanisms/index.html"
      ],
      "metadata": {
        "id": "py9_xX9-O-9_"
      }
    }
  ]
}